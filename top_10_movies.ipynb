{
 "cells": [
  {
   "cell_type": "code",
   "metadata": {
    "tags": [],
    "cell_id": "dcd697b8-6026-4ef1-9300-3bb4d9eca908",
    "deepnote_to_be_reexecuted": false,
    "source_hash": "9b82ee11",
    "execution_start": 1651338335624,
    "execution_millis": 0,
    "deepnote_cell_type": "code",
    "deepnote_cell_height": 81
   },
   "source": "import pandas as pd",
   "execution_count": 1,
   "outputs": []
  },
  {
   "cell_type": "code",
   "metadata": {
    "cell_id": "725c1857-52a2-460a-b6a1-8027f1f84d96",
    "tags": [],
    "deepnote_to_be_reexecuted": false,
    "source_hash": "287d76cc",
    "execution_start": 1651338335668,
    "execution_millis": 60,
    "deepnote_table_state": {
     "pageSize": 10,
     "pageIndex": 0,
     "filters": [],
     "sortBy": []
    },
    "deepnote_table_loading": false,
    "deepnote_cell_type": "code",
    "deepnote_cell_height": 618
   },
   "source": "mov=pd.read_csv(\"/work/imdb_top_1000.csv\")\nmov",
   "execution_count": 2,
   "outputs": [
    {
     "output_type": "execute_result",
     "execution_count": 2,
     "data": {
      "application/vnd.deepnote.dataframe.v3+json": {
       "column_count": 16,
       "row_count": 1000,
       "columns": [
        {
         "name": "Poster_Link",
         "dtype": "object",
         "stats": {
          "unique_count": 1000,
          "nan_count": 0,
          "categories": [
           {
            "name": "https://m.media-amazon.com/images/M/MV5BMDFkYTc0MGEtZmNhMC00ZDIzLWFmNTEtODM1ZmRlYWMwMWFmXkEyXkFqcGdeQXVyMTMxODk2OTU@._V1_UX67_CR0,0,67,98_AL_.jpg",
            "count": 1
           },
           {
            "name": "https://m.media-amazon.com/images/M/MV5BM2MyNjYxNmUtYTAwNi00MTYxLWJmNWYtYzZlODY3ZTk3OTFlXkEyXkFqcGdeQXVyNzkwMjQ5NzM@._V1_UY98_CR1,0,67,98_AL_.jpg",
            "count": 1
           },
           {
            "name": "998 others",
            "count": 998
           }
          ]
         }
        },
        {
         "name": "Series_Title",
         "dtype": "object",
         "stats": {
          "unique_count": 999,
          "nan_count": 0,
          "categories": [
           {
            "name": "Drishyam",
            "count": 2
           },
           {
            "name": "The Shawshank Redemption",
            "count": 1
           },
           {
            "name": "997 others",
            "count": 997
           }
          ]
         }
        },
        {
         "name": "Released_Year",
         "dtype": "object",
         "stats": {
          "unique_count": 100,
          "nan_count": 0,
          "categories": [
           {
            "name": "2014",
            "count": 32
           },
           {
            "name": "2004",
            "count": 31
           },
           {
            "name": "98 others",
            "count": 937
           }
          ]
         }
        },
        {
         "name": "Certificate",
         "dtype": "object",
         "stats": {
          "unique_count": 16,
          "nan_count": 101,
          "categories": [
           {
            "name": "U",
            "count": 234
           },
           {
            "name": "15 others",
            "count": 665
           },
           {
            "name": "Missing",
            "count": 101
           }
          ]
         }
        },
        {
         "name": "Runtime",
         "dtype": "object",
         "stats": {
          "unique_count": 140,
          "nan_count": 0,
          "categories": [
           {
            "name": "130 min",
            "count": 23
           },
           {
            "name": "100 min",
            "count": 23
           },
           {
            "name": "138 others",
            "count": 954
           }
          ]
         }
        },
        {
         "name": "Genre",
         "dtype": "object",
         "stats": {
          "unique_count": 202,
          "nan_count": 0,
          "categories": [
           {
            "name": "Drama",
            "count": 85
           },
           {
            "name": "Drama, Romance",
            "count": 37
           },
           {
            "name": "200 others",
            "count": 878
           }
          ]
         }
        },
        {
         "name": "IMDB_Rating",
         "dtype": "float64",
         "stats": {
          "unique_count": 17,
          "nan_count": 0,
          "min": "7.6",
          "max": "9.3",
          "histogram": [
           {
            "bin_start": 7.6,
            "bin_end": 7.77,
            "count": 280
           },
           {
            "bin_start": 7.77,
            "bin_end": 7.9399999999999995,
            "count": 257
           },
           {
            "bin_start": 7.9399999999999995,
            "bin_end": 8.11,
            "count": 268
           },
           {
            "bin_start": 8.11,
            "bin_end": 8.28,
            "count": 67
           },
           {
            "bin_start": 8.28,
            "bin_end": 8.45,
            "count": 75
           },
           {
            "bin_start": 8.45,
            "bin_end": 8.620000000000001,
            "count": 35
           },
           {
            "bin_start": 8.620000000000001,
            "bin_end": 8.790000000000001,
            "count": 5
           },
           {
            "bin_start": 8.790000000000001,
            "bin_end": 8.96,
            "count": 8
           },
           {
            "bin_start": 8.96,
            "bin_end": 9.13,
            "count": 3
           },
           {
            "bin_start": 9.13,
            "bin_end": 9.3,
            "count": 2
           }
          ]
         }
        },
        {
         "name": "Overview",
         "dtype": "object",
         "stats": {
          "unique_count": 1000,
          "nan_count": 0,
          "categories": [
           {
            "name": "Two imprisoned men bond over a number of years, finding solace and eventual redemption through acts of common decency.",
            "count": 1
           },
           {
            "name": "An organized crime dynasty's aging patriarch transfers control of his clandestine empire to his reluctant son.",
            "count": 1
           },
           {
            "name": "998 others",
            "count": 998
           }
          ]
         }
        },
        {
         "name": "Meta_score",
         "dtype": "float64",
         "stats": {
          "unique_count": 63,
          "nan_count": 157,
          "min": "28.0",
          "max": "100.0",
          "histogram": [
           {
            "bin_start": 28,
            "bin_end": 35.2,
            "count": 3
           },
           {
            "bin_start": 35.2,
            "bin_end": 42.4,
            "count": 3
           },
           {
            "bin_start": 42.4,
            "bin_end": 49.6,
            "count": 13
           },
           {
            "bin_start": 49.6,
            "bin_end": 56.8,
            "count": 27
           },
           {
            "bin_start": 56.8,
            "bin_end": 64,
            "count": 53
           },
           {
            "bin_start": 64,
            "bin_end": 71.2,
            "count": 131
           },
           {
            "bin_start": 71.2,
            "bin_end": 78.4,
            "count": 181
           },
           {
            "bin_start": 78.4,
            "bin_end": 85.6,
            "count": 182
           },
           {
            "bin_start": 85.6,
            "bin_end": 92.8,
            "count": 150
           },
           {
            "bin_start": 92.8,
            "bin_end": 100,
            "count": 100
           }
          ]
         }
        },
        {
         "name": "Director",
         "dtype": "object",
         "stats": {
          "unique_count": 548,
          "nan_count": 0,
          "categories": [
           {
            "name": "Alfred Hitchcock",
            "count": 14
           },
           {
            "name": "Steven Spielberg",
            "count": 13
           },
           {
            "name": "546 others",
            "count": 973
           }
          ]
         }
        },
        {
         "name": "Star1",
         "dtype": "object",
         "stats": {
          "unique_count": 660,
          "nan_count": 0,
          "categories": [
           {
            "name": "Tom Hanks",
            "count": 12
           },
           {
            "name": "Robert De Niro",
            "count": 11
           },
           {
            "name": "658 others",
            "count": 977
           }
          ]
         }
        },
        {
         "name": "Star2",
         "dtype": "object",
         "stats": {
          "unique_count": 841,
          "nan_count": 0,
          "categories": [
           {
            "name": "Emma Watson",
            "count": 7
           },
           {
            "name": "Matt Damon",
            "count": 5
           },
           {
            "name": "839 others",
            "count": 988
           }
          ]
         }
        },
        {
         "name": "Star3",
         "dtype": "object",
         "stats": {
          "unique_count": 891,
          "nan_count": 0,
          "categories": [
           {
            "name": "Rupert Grint",
            "count": 5
           },
           {
            "name": "Samuel L. Jackson",
            "count": 4
           },
           {
            "name": "889 others",
            "count": 991
           }
          ]
         }
        },
        {
         "name": "Star4",
         "dtype": "object",
         "stats": {
          "unique_count": 939,
          "nan_count": 0,
          "categories": [
           {
            "name": "Michael Caine",
            "count": 4
           },
           {
            "name": "Mark Ruffalo",
            "count": 3
           },
           {
            "name": "937 others",
            "count": 993
           }
          ]
         }
        },
        {
         "name": "No_of_Votes",
         "dtype": "int64",
         "stats": {
          "unique_count": 999,
          "nan_count": 0,
          "min": "25088",
          "max": "2343110",
          "histogram": [
           {
            "bin_start": 25088,
            "bin_end": 256890.2,
            "count": 663
           },
           {
            "bin_start": 256890.2,
            "bin_end": 488692.4,
            "count": 150
           },
           {
            "bin_start": 488692.4,
            "bin_end": 720494.6000000001,
            "count": 94
           },
           {
            "bin_start": 720494.6000000001,
            "bin_end": 952296.8,
            "count": 47
           },
           {
            "bin_start": 952296.8,
            "bin_end": 1184099,
            "count": 20
           },
           {
            "bin_start": 1184099,
            "bin_end": 1415901.2000000002,
            "count": 12
           },
           {
            "bin_start": 1415901.2000000002,
            "bin_end": 1647703.4000000001,
            "count": 6
           },
           {
            "bin_start": 1647703.4000000001,
            "bin_end": 1879505.6,
            "count": 5
           },
           {
            "bin_start": 1879505.6,
            "bin_end": 2111307.8,
            "count": 1
           },
           {
            "bin_start": 2111307.8,
            "bin_end": 2343110,
            "count": 2
           }
          ]
         }
        },
        {
         "name": "Gross",
         "dtype": "object",
         "stats": {
          "unique_count": 823,
          "nan_count": 169,
          "categories": [
           {
            "name": "4,360,000",
            "count": 5
           },
           {
            "name": "822 others",
            "count": 826
           },
           {
            "name": "Missing",
            "count": 169
           }
          ]
         }
        },
        {
         "name": "_deepnote_index_column",
         "dtype": "int64"
        }
       ],
       "rows": [
        {
         "Poster_Link": "https://m.media-amazon.com/images/M/MV5BMDFkYTc0MGEtZmNhMC00ZDIzLWFmNTEtODM1ZmRlYWMwMWFmXkEyXkFqcGdeQXVyMTMxODk2OTU@._V1_UX67_CR0,0,67,98_AL_.jpg",
         "Series_Title": "The Shawshank Redemption",
         "Released_Year": "1994",
         "Certificate": "A",
         "Runtime": "142 min",
         "Genre": "Drama",
         "IMDB_Rating": 9.3,
         "Overview": "Two imprisoned men bond over a number of years, finding solace and eventual redemption through acts of common decency.",
         "Meta_score": 80,
         "Director": "Frank Darabont",
         "Star1": "Tim Robbins",
         "Star2": "Morgan Freeman",
         "Star3": "Bob Gunton",
         "Star4": "William Sadler",
         "No_of_Votes": 2343110,
         "Gross": "28,341,469",
         "_deepnote_index_column": 0
        },
        {
         "Poster_Link": "https://m.media-amazon.com/images/M/MV5BM2MyNjYxNmUtYTAwNi00MTYxLWJmNWYtYzZlODY3ZTk3OTFlXkEyXkFqcGdeQXVyNzkwMjQ5NzM@._V1_UY98_CR1,0,67,98_AL_.jpg",
         "Series_Title": "The Godfather",
         "Released_Year": "1972",
         "Certificate": "A",
         "Runtime": "175 min",
         "Genre": "Crime, Drama",
         "IMDB_Rating": 9.2,
         "Overview": "An organized crime dynasty's aging patriarch transfers control of his clandestine empire to his reluctant son.",
         "Meta_score": 100,
         "Director": "Francis Ford Coppola",
         "Star1": "Marlon Brando",
         "Star2": "Al Pacino",
         "Star3": "James Caan",
         "Star4": "Diane Keaton",
         "No_of_Votes": 1620367,
         "Gross": "134,966,411",
         "_deepnote_index_column": 1
        },
        {
         "Poster_Link": "https://m.media-amazon.com/images/M/MV5BMTMxNTMwODM0NF5BMl5BanBnXkFtZTcwODAyMTk2Mw@@._V1_UX67_CR0,0,67,98_AL_.jpg",
         "Series_Title": "The Dark Knight",
         "Released_Year": "2008",
         "Certificate": "UA",
         "Runtime": "152 min",
         "Genre": "Action, Crime, Drama",
         "IMDB_Rating": 9,
         "Overview": "When the menace known as the Joker wreaks havoc and chaos on the people of Gotham, Batman must accept one of the greatest psychological and physical tests of his ability to fight injustice.",
         "Meta_score": 84,
         "Director": "Christopher Nolan",
         "Star1": "Christian Bale",
         "Star2": "Heath Ledger",
         "Star3": "Aaron Eckhart",
         "Star4": "Michael Caine",
         "No_of_Votes": 2303232,
         "Gross": "534,858,444",
         "_deepnote_index_column": 2
        },
        {
         "Poster_Link": "https://m.media-amazon.com/images/M/MV5BMWMwMGQzZTItY2JlNC00OWZiLWIyMDctNDk2ZDQ2YjRjMWQ0XkEyXkFqcGdeQXVyNzkwMjQ5NzM@._V1_UY98_CR1,0,67,98_AL_.jpg",
         "Series_Title": "The Godfather: Part II",
         "Released_Year": "1974",
         "Certificate": "A",
         "Runtime": "202 min",
         "Genre": "Crime, Drama",
         "IMDB_Rating": 9,
         "Overview": "The early life and career of Vito Corleone in 1920s New York City is portrayed, while his son, Michael, expands and tightens his grip on the family crime syndicate.",
         "Meta_score": 90,
         "Director": "Francis Ford Coppola",
         "Star1": "Al Pacino",
         "Star2": "Robert De Niro",
         "Star3": "Robert Duvall",
         "Star4": "Diane Keaton",
         "No_of_Votes": 1129952,
         "Gross": "57,300,000",
         "_deepnote_index_column": 3
        },
        {
         "Poster_Link": "https://m.media-amazon.com/images/M/MV5BMWU4N2FjNzYtNTVkNC00NzQ0LTg0MjAtYTJlMjFhNGUxZDFmXkEyXkFqcGdeQXVyNjc1NTYyMjg@._V1_UX67_CR0,0,67,98_AL_.jpg",
         "Series_Title": "12 Angry Men",
         "Released_Year": "1957",
         "Certificate": "U",
         "Runtime": "96 min",
         "Genre": "Crime, Drama",
         "IMDB_Rating": 9,
         "Overview": "A jury holdout attempts to prevent a miscarriage of justice by forcing his colleagues to reconsider the evidence.",
         "Meta_score": 96,
         "Director": "Sidney Lumet",
         "Star1": "Henry Fonda",
         "Star2": "Lee J. Cobb",
         "Star3": "Martin Balsam",
         "Star4": "John Fiedler",
         "No_of_Votes": 689845,
         "Gross": "4,360,000",
         "_deepnote_index_column": 4
        },
        {
         "Poster_Link": "https://m.media-amazon.com/images/M/MV5BNzA5ZDNlZWMtM2NhNS00NDJjLTk4NDItYTRmY2EwMWZlMTY3XkEyXkFqcGdeQXVyNzkwMjQ5NzM@._V1_UX67_CR0,0,67,98_AL_.jpg",
         "Series_Title": "The Lord of the Rings: The Return of the King",
         "Released_Year": "2003",
         "Certificate": "U",
         "Runtime": "201 min",
         "Genre": "Action, Adventure, Drama",
         "IMDB_Rating": 8.9,
         "Overview": "Gandalf and Aragorn lead the World of Men against Sauron's army to draw his gaze from Frodo and Sam as they approach Mount Doom with the One Ring.",
         "Meta_score": 94,
         "Director": "Peter Jackson",
         "Star1": "Elijah Wood",
         "Star2": "Viggo Mortensen",
         "Star3": "Ian McKellen",
         "Star4": "Orlando Bloom",
         "No_of_Votes": 1642758,
         "Gross": "377,845,905",
         "_deepnote_index_column": 5
        },
        {
         "Poster_Link": "https://m.media-amazon.com/images/M/MV5BNGNhMDIzZTUtNTBlZi00MTRlLWFjM2ItYzViMjE3YzI5MjljXkEyXkFqcGdeQXVyNzkwMjQ5NzM@._V1_UY98_CR0,0,67,98_AL_.jpg",
         "Series_Title": "Pulp Fiction",
         "Released_Year": "1994",
         "Certificate": "A",
         "Runtime": "154 min",
         "Genre": "Crime, Drama",
         "IMDB_Rating": 8.9,
         "Overview": "The lives of two mob hitmen, a boxer, a gangster and his wife, and a pair of diner bandits intertwine in four tales of violence and redemption.",
         "Meta_score": 94,
         "Director": "Quentin Tarantino",
         "Star1": "John Travolta",
         "Star2": "Uma Thurman",
         "Star3": "Samuel L. Jackson",
         "Star4": "Bruce Willis",
         "No_of_Votes": 1826188,
         "Gross": "107,928,762",
         "_deepnote_index_column": 6
        },
        {
         "Poster_Link": "https://m.media-amazon.com/images/M/MV5BNDE4OTMxMTctNmRhYy00NWE2LTg3YzItYTk3M2UwOTU5Njg4XkEyXkFqcGdeQXVyNjU0OTQ0OTY@._V1_UX67_CR0,0,67,98_AL_.jpg",
         "Series_Title": "Schindler's List",
         "Released_Year": "1993",
         "Certificate": "A",
         "Runtime": "195 min",
         "Genre": "Biography, Drama, History",
         "IMDB_Rating": 8.9,
         "Overview": "In German-occupied Poland during World War II, industrialist Oskar Schindler gradually becomes concerned for his Jewish workforce after witnessing their persecution by the Nazis.",
         "Meta_score": 94,
         "Director": "Steven Spielberg",
         "Star1": "Liam Neeson",
         "Star2": "Ralph Fiennes",
         "Star3": "Ben Kingsley",
         "Star4": "Caroline Goodall",
         "No_of_Votes": 1213505,
         "Gross": "96,898,818",
         "_deepnote_index_column": 7
        },
        {
         "Poster_Link": "https://m.media-amazon.com/images/M/MV5BMjAxMzY3NjcxNF5BMl5BanBnXkFtZTcwNTI5OTM0Mw@@._V1_UX67_CR0,0,67,98_AL_.jpg",
         "Series_Title": "Inception",
         "Released_Year": "2010",
         "Certificate": "UA",
         "Runtime": "148 min",
         "Genre": "Action, Adventure, Sci-Fi",
         "IMDB_Rating": 8.8,
         "Overview": "A thief who steals corporate secrets through the use of dream-sharing technology is given the inverse task of planting an idea into the mind of a C.E.O.",
         "Meta_score": 74,
         "Director": "Christopher Nolan",
         "Star1": "Leonardo DiCaprio",
         "Star2": "Joseph Gordon-Levitt",
         "Star3": "Elliot Page",
         "Star4": "Ken Watanabe",
         "No_of_Votes": 2067042,
         "Gross": "292,576,195",
         "_deepnote_index_column": 8
        },
        {
         "Poster_Link": "https://m.media-amazon.com/images/M/MV5BMmEzNTkxYjQtZTc0MC00YTVjLTg5ZTEtZWMwOWVlYzY0NWIwXkEyXkFqcGdeQXVyNzkwMjQ5NzM@._V1_UX67_CR0,0,67,98_AL_.jpg",
         "Series_Title": "Fight Club",
         "Released_Year": "1999",
         "Certificate": "A",
         "Runtime": "139 min",
         "Genre": "Drama",
         "IMDB_Rating": 8.8,
         "Overview": "An insomniac office worker and a devil-may-care soapmaker form an underground fight club that evolves into something much, much more.",
         "Meta_score": 66,
         "Director": "David Fincher",
         "Star1": "Brad Pitt",
         "Star2": "Edward Norton",
         "Star3": "Meat Loaf",
         "Star4": "Zach Grenier",
         "No_of_Votes": 1854740,
         "Gross": "37,030,102",
         "_deepnote_index_column": 9
        }
       ]
      },
      "text/plain": "                                           Poster_Link  \\\n0    https://m.media-amazon.com/images/M/MV5BMDFkYT...   \n1    https://m.media-amazon.com/images/M/MV5BM2MyNj...   \n2    https://m.media-amazon.com/images/M/MV5BMTMxNT...   \n3    https://m.media-amazon.com/images/M/MV5BMWMwMG...   \n4    https://m.media-amazon.com/images/M/MV5BMWU4N2...   \n..                                                 ...   \n995  https://m.media-amazon.com/images/M/MV5BNGEwMT...   \n996  https://m.media-amazon.com/images/M/MV5BODk3Yj...   \n997  https://m.media-amazon.com/images/M/MV5BM2U3Yz...   \n998  https://m.media-amazon.com/images/M/MV5BZTBmMj...   \n999  https://m.media-amazon.com/images/M/MV5BMTY5OD...   \n\n                 Series_Title Released_Year Certificate  Runtime  \\\n0    The Shawshank Redemption          1994           A  142 min   \n1               The Godfather          1972           A  175 min   \n2             The Dark Knight          2008          UA  152 min   \n3      The Godfather: Part II          1974           A  202 min   \n4                12 Angry Men          1957           U   96 min   \n..                        ...           ...         ...      ...   \n995    Breakfast at Tiffany's          1961           A  115 min   \n996                     Giant          1956           G  201 min   \n997     From Here to Eternity          1953      Passed  118 min   \n998                  Lifeboat          1944         NaN   97 min   \n999              The 39 Steps          1935         NaN   86 min   \n\n                        Genre  IMDB_Rating  \\\n0                       Drama          9.3   \n1                Crime, Drama          9.2   \n2        Action, Crime, Drama          9.0   \n3                Crime, Drama          9.0   \n4                Crime, Drama          9.0   \n..                        ...          ...   \n995    Comedy, Drama, Romance          7.6   \n996            Drama, Western          7.6   \n997       Drama, Romance, War          7.6   \n998                Drama, War          7.6   \n999  Crime, Mystery, Thriller          7.6   \n\n                                              Overview  Meta_score  \\\n0    Two imprisoned men bond over a number of years...        80.0   \n1    An organized crime dynasty's aging patriarch t...       100.0   \n2    When the menace known as the Joker wreaks havo...        84.0   \n3    The early life and career of Vito Corleone in ...        90.0   \n4    A jury holdout attempts to prevent a miscarria...        96.0   \n..                                                 ...         ...   \n995  A young New York socialite becomes interested ...        76.0   \n996  Sprawling epic covering the life of a Texas ca...        84.0   \n997  In Hawaii in 1941, a private is cruelly punish...        85.0   \n998  Several survivors of a torpedoed merchant ship...        78.0   \n999  A man in London tries to help a counter-espion...        93.0   \n\n                 Director              Star1              Star2  \\\n0          Frank Darabont        Tim Robbins     Morgan Freeman   \n1    Francis Ford Coppola      Marlon Brando          Al Pacino   \n2       Christopher Nolan     Christian Bale       Heath Ledger   \n3    Francis Ford Coppola          Al Pacino     Robert De Niro   \n4            Sidney Lumet        Henry Fonda        Lee J. Cobb   \n..                    ...                ...                ...   \n995         Blake Edwards     Audrey Hepburn     George Peppard   \n996        George Stevens   Elizabeth Taylor        Rock Hudson   \n997        Fred Zinnemann     Burt Lancaster   Montgomery Clift   \n998      Alfred Hitchcock  Tallulah Bankhead        John Hodiak   \n999      Alfred Hitchcock       Robert Donat  Madeleine Carroll   \n\n              Star3           Star4  No_of_Votes        Gross  \n0        Bob Gunton  William Sadler      2343110   28,341,469  \n1        James Caan    Diane Keaton      1620367  134,966,411  \n2     Aaron Eckhart   Michael Caine      2303232  534,858,444  \n3     Robert Duvall    Diane Keaton      1129952   57,300,000  \n4     Martin Balsam    John Fiedler       689845    4,360,000  \n..              ...             ...          ...          ...  \n995   Patricia Neal     Buddy Ebsen       166544          NaN  \n996      James Dean   Carroll Baker        34075          NaN  \n997    Deborah Kerr      Donna Reed        43374   30,500,000  \n998   Walter Slezak  William Bendix        26471          NaN  \n999  Lucie Mannheim  Godfrey Tearle        51853          NaN  \n\n[1000 rows x 16 columns]",
      "text/html": "<div>\n<style scoped>\n    .dataframe tbody tr th:only-of-type {\n        vertical-align: middle;\n    }\n\n    .dataframe tbody tr th {\n        vertical-align: top;\n    }\n\n    .dataframe thead th {\n        text-align: right;\n    }\n</style>\n<table border=\"1\" class=\"dataframe\">\n  <thead>\n    <tr style=\"text-align: right;\">\n      <th></th>\n      <th>Poster_Link</th>\n      <th>Series_Title</th>\n      <th>Released_Year</th>\n      <th>Certificate</th>\n      <th>Runtime</th>\n      <th>Genre</th>\n      <th>IMDB_Rating</th>\n      <th>Overview</th>\n      <th>Meta_score</th>\n      <th>Director</th>\n      <th>Star1</th>\n      <th>Star2</th>\n      <th>Star3</th>\n      <th>Star4</th>\n      <th>No_of_Votes</th>\n      <th>Gross</th>\n    </tr>\n  </thead>\n  <tbody>\n    <tr>\n      <th>0</th>\n      <td>https://m.media-amazon.com/images/M/MV5BMDFkYT...</td>\n      <td>The Shawshank Redemption</td>\n      <td>1994</td>\n      <td>A</td>\n      <td>142 min</td>\n      <td>Drama</td>\n      <td>9.3</td>\n      <td>Two imprisoned men bond over a number of years...</td>\n      <td>80.0</td>\n      <td>Frank Darabont</td>\n      <td>Tim Robbins</td>\n      <td>Morgan Freeman</td>\n      <td>Bob Gunton</td>\n      <td>William Sadler</td>\n      <td>2343110</td>\n      <td>28,341,469</td>\n    </tr>\n    <tr>\n      <th>1</th>\n      <td>https://m.media-amazon.com/images/M/MV5BM2MyNj...</td>\n      <td>The Godfather</td>\n      <td>1972</td>\n      <td>A</td>\n      <td>175 min</td>\n      <td>Crime, Drama</td>\n      <td>9.2</td>\n      <td>An organized crime dynasty's aging patriarch t...</td>\n      <td>100.0</td>\n      <td>Francis Ford Coppola</td>\n      <td>Marlon Brando</td>\n      <td>Al Pacino</td>\n      <td>James Caan</td>\n      <td>Diane Keaton</td>\n      <td>1620367</td>\n      <td>134,966,411</td>\n    </tr>\n    <tr>\n      <th>2</th>\n      <td>https://m.media-amazon.com/images/M/MV5BMTMxNT...</td>\n      <td>The Dark Knight</td>\n      <td>2008</td>\n      <td>UA</td>\n      <td>152 min</td>\n      <td>Action, Crime, Drama</td>\n      <td>9.0</td>\n      <td>When the menace known as the Joker wreaks havo...</td>\n      <td>84.0</td>\n      <td>Christopher Nolan</td>\n      <td>Christian Bale</td>\n      <td>Heath Ledger</td>\n      <td>Aaron Eckhart</td>\n      <td>Michael Caine</td>\n      <td>2303232</td>\n      <td>534,858,444</td>\n    </tr>\n    <tr>\n      <th>3</th>\n      <td>https://m.media-amazon.com/images/M/MV5BMWMwMG...</td>\n      <td>The Godfather: Part II</td>\n      <td>1974</td>\n      <td>A</td>\n      <td>202 min</td>\n      <td>Crime, Drama</td>\n      <td>9.0</td>\n      <td>The early life and career of Vito Corleone in ...</td>\n      <td>90.0</td>\n      <td>Francis Ford Coppola</td>\n      <td>Al Pacino</td>\n      <td>Robert De Niro</td>\n      <td>Robert Duvall</td>\n      <td>Diane Keaton</td>\n      <td>1129952</td>\n      <td>57,300,000</td>\n    </tr>\n    <tr>\n      <th>4</th>\n      <td>https://m.media-amazon.com/images/M/MV5BMWU4N2...</td>\n      <td>12 Angry Men</td>\n      <td>1957</td>\n      <td>U</td>\n      <td>96 min</td>\n      <td>Crime, Drama</td>\n      <td>9.0</td>\n      <td>A jury holdout attempts to prevent a miscarria...</td>\n      <td>96.0</td>\n      <td>Sidney Lumet</td>\n      <td>Henry Fonda</td>\n      <td>Lee J. Cobb</td>\n      <td>Martin Balsam</td>\n      <td>John Fiedler</td>\n      <td>689845</td>\n      <td>4,360,000</td>\n    </tr>\n    <tr>\n      <th>...</th>\n      <td>...</td>\n      <td>...</td>\n      <td>...</td>\n      <td>...</td>\n      <td>...</td>\n      <td>...</td>\n      <td>...</td>\n      <td>...</td>\n      <td>...</td>\n      <td>...</td>\n      <td>...</td>\n      <td>...</td>\n      <td>...</td>\n      <td>...</td>\n      <td>...</td>\n      <td>...</td>\n    </tr>\n    <tr>\n      <th>995</th>\n      <td>https://m.media-amazon.com/images/M/MV5BNGEwMT...</td>\n      <td>Breakfast at Tiffany's</td>\n      <td>1961</td>\n      <td>A</td>\n      <td>115 min</td>\n      <td>Comedy, Drama, Romance</td>\n      <td>7.6</td>\n      <td>A young New York socialite becomes interested ...</td>\n      <td>76.0</td>\n      <td>Blake Edwards</td>\n      <td>Audrey Hepburn</td>\n      <td>George Peppard</td>\n      <td>Patricia Neal</td>\n      <td>Buddy Ebsen</td>\n      <td>166544</td>\n      <td>NaN</td>\n    </tr>\n    <tr>\n      <th>996</th>\n      <td>https://m.media-amazon.com/images/M/MV5BODk3Yj...</td>\n      <td>Giant</td>\n      <td>1956</td>\n      <td>G</td>\n      <td>201 min</td>\n      <td>Drama, Western</td>\n      <td>7.6</td>\n      <td>Sprawling epic covering the life of a Texas ca...</td>\n      <td>84.0</td>\n      <td>George Stevens</td>\n      <td>Elizabeth Taylor</td>\n      <td>Rock Hudson</td>\n      <td>James Dean</td>\n      <td>Carroll Baker</td>\n      <td>34075</td>\n      <td>NaN</td>\n    </tr>\n    <tr>\n      <th>997</th>\n      <td>https://m.media-amazon.com/images/M/MV5BM2U3Yz...</td>\n      <td>From Here to Eternity</td>\n      <td>1953</td>\n      <td>Passed</td>\n      <td>118 min</td>\n      <td>Drama, Romance, War</td>\n      <td>7.6</td>\n      <td>In Hawaii in 1941, a private is cruelly punish...</td>\n      <td>85.0</td>\n      <td>Fred Zinnemann</td>\n      <td>Burt Lancaster</td>\n      <td>Montgomery Clift</td>\n      <td>Deborah Kerr</td>\n      <td>Donna Reed</td>\n      <td>43374</td>\n      <td>30,500,000</td>\n    </tr>\n    <tr>\n      <th>998</th>\n      <td>https://m.media-amazon.com/images/M/MV5BZTBmMj...</td>\n      <td>Lifeboat</td>\n      <td>1944</td>\n      <td>NaN</td>\n      <td>97 min</td>\n      <td>Drama, War</td>\n      <td>7.6</td>\n      <td>Several survivors of a torpedoed merchant ship...</td>\n      <td>78.0</td>\n      <td>Alfred Hitchcock</td>\n      <td>Tallulah Bankhead</td>\n      <td>John Hodiak</td>\n      <td>Walter Slezak</td>\n      <td>William Bendix</td>\n      <td>26471</td>\n      <td>NaN</td>\n    </tr>\n    <tr>\n      <th>999</th>\n      <td>https://m.media-amazon.com/images/M/MV5BMTY5OD...</td>\n      <td>The 39 Steps</td>\n      <td>1935</td>\n      <td>NaN</td>\n      <td>86 min</td>\n      <td>Crime, Mystery, Thriller</td>\n      <td>7.6</td>\n      <td>A man in London tries to help a counter-espion...</td>\n      <td>93.0</td>\n      <td>Alfred Hitchcock</td>\n      <td>Robert Donat</td>\n      <td>Madeleine Carroll</td>\n      <td>Lucie Mannheim</td>\n      <td>Godfrey Tearle</td>\n      <td>51853</td>\n      <td>NaN</td>\n    </tr>\n  </tbody>\n</table>\n<p>1000 rows × 16 columns</p>\n</div>"
     },
     "metadata": {}
    }
   ]
  },
  {
   "cell_type": "markdown",
   "source": "## Finding The Top 10 Movies In Diff. Coloumns",
   "metadata": {
    "cell_id": "999116f1-0339-40e2-a5fd-625103d20056",
    "tags": [],
    "deepnote_cell_type": "markdown",
    "deepnote_cell_height": 70
   }
  },
  {
   "cell_type": "code",
   "metadata": {
    "cell_id": "3b07f79f-f9fd-4305-bc12-234ef3629fb9",
    "tags": [],
    "deepnote_to_be_reexecuted": false,
    "source_hash": "df66f0e8",
    "execution_start": 1651338335729,
    "execution_millis": 67,
    "deepnote_cell_type": "code",
    "deepnote_cell_height": 600
   },
   "source": "mov.nlargest(10,columns=['Meta_score','No_of_Votes'])",
   "execution_count": 3,
   "outputs": [
    {
     "output_type": "execute_result",
     "execution_count": 3,
     "data": {
      "application/vnd.deepnote.dataframe.v3+json": {
       "column_count": 16,
       "row_count": 10,
       "columns": [
        {
         "name": "Poster_Link",
         "dtype": "object",
         "stats": {
          "unique_count": 10,
          "nan_count": 0,
          "categories": [
           {
            "name": "https://m.media-amazon.com/images/M/MV5BM2MyNjYxNmUtYTAwNi00MTYxLWJmNWYtYzZlODY3ZTk3OTFlXkEyXkFqcGdeQXVyNzkwMjQ5NzM@._V1_UY98_CR1,0,67,98_AL_.jpg",
            "count": 1
           },
           {
            "name": "https://m.media-amazon.com/images/M/MV5BY2IzZGY2YmEtYzljNS00NTM5LTgwMzUtMzM1NjQ4NGI0OTk0XkEyXkFqcGdeQXVyNDYyMDk5MTU@._V1_UX67_CR0,0,67,98_AL_.jpg",
            "count": 1
           },
           {
            "name": "8 others",
            "count": 8
           }
          ]
         }
        },
        {
         "name": "Series_Title",
         "dtype": "object",
         "stats": {
          "unique_count": 10,
          "nan_count": 0,
          "categories": [
           {
            "name": "The Godfather",
            "count": 1
           },
           {
            "name": "Casablanca",
            "count": 1
           },
           {
            "name": "8 others",
            "count": 8
           }
          ]
         }
        },
        {
         "name": "Released_Year",
         "dtype": "object",
         "stats": {
          "unique_count": 10,
          "nan_count": 0,
          "categories": [
           {
            "name": "1972",
            "count": 1
           },
           {
            "name": "1942",
            "count": 1
           },
           {
            "name": "8 others",
            "count": 8
           }
          ]
         }
        },
        {
         "name": "Certificate",
         "dtype": "object",
         "stats": {
          "unique_count": 3,
          "nan_count": 0,
          "categories": [
           {
            "name": "U",
            "count": 5
           },
           {
            "name": "A",
            "count": 4
           },
           {
            "name": "UA",
            "count": 1
           }
          ]
         }
        },
        {
         "name": "Runtime",
         "dtype": "object",
         "stats": {
          "unique_count": 9,
          "nan_count": 0,
          "categories": [
           {
            "name": "102 min",
            "count": 2
           },
           {
            "name": "175 min",
            "count": 1
           },
           {
            "name": "7 others",
            "count": 7
           }
          ]
         }
        },
        {
         "name": "Genre",
         "dtype": "object",
         "stats": {
          "unique_count": 9,
          "nan_count": 0,
          "categories": [
           {
            "name": "Drama",
            "count": 2
           },
           {
            "name": "Crime, Drama",
            "count": 1
           },
           {
            "name": "7 others",
            "count": 7
           }
          ]
         }
        },
        {
         "name": "IMDB_Rating",
         "dtype": "float64",
         "stats": {
          "unique_count": 6,
          "nan_count": 0,
          "min": "7.9",
          "max": "9.2",
          "histogram": [
           {
            "bin_start": 7.9,
            "bin_end": 8.030000000000001,
            "count": 2
           },
           {
            "bin_start": 8.030000000000001,
            "bin_end": 8.16,
            "count": 2
           },
           {
            "bin_start": 8.16,
            "bin_end": 8.29,
            "count": 0
           },
           {
            "bin_start": 8.29,
            "bin_end": 8.42,
            "count": 4
           },
           {
            "bin_start": 8.42,
            "bin_end": 8.55,
            "count": 1
           },
           {
            "bin_start": 8.55,
            "bin_end": 8.68,
            "count": 0
           },
           {
            "bin_start": 8.68,
            "bin_end": 8.809999999999999,
            "count": 0
           },
           {
            "bin_start": 8.809999999999999,
            "bin_end": 8.94,
            "count": 0
           },
           {
            "bin_start": 8.94,
            "bin_end": 9.07,
            "count": 0
           },
           {
            "bin_start": 9.07,
            "bin_end": 9.2,
            "count": 1
           }
          ]
         }
        },
        {
         "name": "Overview",
         "dtype": "object",
         "stats": {
          "unique_count": 10,
          "nan_count": 0,
          "categories": [
           {
            "name": "An organized crime dynasty's aging patriarch transfers control of his clandestine empire to his reluctant son.",
            "count": 1
           },
           {
            "name": "A cynical expatriate American cafe owner struggles to decide whether or not to help his former lover and her fugitive husband escape the Nazis in French Morocco.",
            "count": 1
           },
           {
            "name": "8 others",
            "count": 8
           }
          ]
         }
        },
        {
         "name": "Meta_score",
         "dtype": "float64",
         "stats": {
          "unique_count": 1,
          "nan_count": 0,
          "min": "100.0",
          "max": "100.0",
          "histogram": [
           {
            "bin_start": 99.5,
            "bin_end": 99.6,
            "count": 0
           },
           {
            "bin_start": 99.6,
            "bin_end": 99.7,
            "count": 0
           },
           {
            "bin_start": 99.7,
            "bin_end": 99.8,
            "count": 0
           },
           {
            "bin_start": 99.8,
            "bin_end": 99.9,
            "count": 0
           },
           {
            "bin_start": 99.9,
            "bin_end": 100,
            "count": 0
           },
           {
            "bin_start": 100,
            "bin_end": 100.1,
            "count": 10
           },
           {
            "bin_start": 100.1,
            "bin_end": 100.2,
            "count": 0
           },
           {
            "bin_start": 100.2,
            "bin_end": 100.3,
            "count": 0
           },
           {
            "bin_start": 100.3,
            "bin_end": 100.4,
            "count": 0
           },
           {
            "bin_start": 100.4,
            "bin_end": 100.5,
            "count": 0
           }
          ]
         }
        },
        {
         "name": "Director",
         "dtype": "object",
         "stats": {
          "unique_count": 8,
          "nan_count": 0,
          "categories": [
           {
            "name": "Alfred Hitchcock",
            "count": 3
           },
           {
            "name": "Francis Ford Coppola",
            "count": 1
           },
           {
            "name": "6 others",
            "count": 6
           }
          ]
         }
        },
        {
         "name": "Star1",
         "dtype": "object",
         "stats": {
          "unique_count": 9,
          "nan_count": 0,
          "categories": [
           {
            "name": "James Stewart",
            "count": 2
           },
           {
            "name": "Marlon Brando",
            "count": 1
           },
           {
            "name": "7 others",
            "count": 7
           }
          ]
         }
        },
        {
         "name": "Star2",
         "dtype": "object",
         "stats": {
          "unique_count": 9,
          "nan_count": 0,
          "categories": [
           {
            "name": "Ingrid Bergman",
            "count": 2
           },
           {
            "name": "Al Pacino",
            "count": 1
           },
           {
            "name": "7 others",
            "count": 7
           }
          ]
         }
        },
        {
         "name": "Star3",
         "dtype": "object",
         "stats": {
          "unique_count": 10,
          "nan_count": 0,
          "categories": [
           {
            "name": "James Caan",
            "count": 1
           },
           {
            "name": "Paul Henreid",
            "count": 1
           },
           {
            "name": "8 others",
            "count": 8
           }
          ]
         }
        },
        {
         "name": "Star4",
         "dtype": "object",
         "stats": {
          "unique_count": 10,
          "nan_count": 0,
          "categories": [
           {
            "name": "Diane Keaton",
            "count": 1
           },
           {
            "name": "Claude Rains",
            "count": 1
           },
           {
            "name": "8 others",
            "count": 8
           }
          ]
         }
        },
        {
         "name": "No_of_Votes",
         "dtype": "int64",
         "stats": {
          "unique_count": 10,
          "nan_count": 0,
          "min": "57784",
          "max": "1620367",
          "histogram": [
           {
            "bin_start": 57784,
            "bin_end": 214042.3,
            "count": 3
           },
           {
            "bin_start": 214042.3,
            "bin_end": 370300.6,
            "count": 3
           },
           {
            "bin_start": 370300.6,
            "bin_end": 526558.8999999999,
            "count": 3
           },
           {
            "bin_start": 526558.8999999999,
            "bin_end": 682817.2,
            "count": 0
           },
           {
            "bin_start": 682817.2,
            "bin_end": 839075.5,
            "count": 0
           },
           {
            "bin_start": 839075.5,
            "bin_end": 995333.7999999999,
            "count": 0
           },
           {
            "bin_start": 995333.7999999999,
            "bin_end": 1151592.0999999999,
            "count": 0
           },
           {
            "bin_start": 1151592.0999999999,
            "bin_end": 1307850.4,
            "count": 0
           },
           {
            "bin_start": 1307850.4,
            "bin_end": 1464108.7,
            "count": 0
           },
           {
            "bin_start": 1464108.7,
            "bin_end": 1620367,
            "count": 1
           }
          ]
         }
        },
        {
         "name": "Gross",
         "dtype": "object",
         "stats": {
          "unique_count": 10,
          "nan_count": 0,
          "categories": [
           {
            "name": "134,966,411",
            "count": 1
           },
           {
            "name": "1,024,560",
            "count": 1
           },
           {
            "name": "8 others",
            "count": 8
           }
          ]
         }
        },
        {
         "name": "_deepnote_index_column",
         "dtype": "int64"
        }
       ],
       "rows": [
        {
         "Poster_Link": "https://m.media-amazon.com/images/M/MV5BM2MyNjYxNmUtYTAwNi00MTYxLWJmNWYtYzZlODY3ZTk3OTFlXkEyXkFqcGdeQXVyNzkwMjQ5NzM@._V1_UY98_CR1,0,67,98_AL_.jpg",
         "Series_Title": "The Godfather",
         "Released_Year": "1972",
         "Certificate": "A",
         "Runtime": "175 min",
         "Genre": "Crime, Drama",
         "IMDB_Rating": 9.2,
         "Overview": "An organized crime dynasty's aging patriarch transfers control of his clandestine empire to his reluctant son.",
         "Meta_score": 100,
         "Director": "Francis Ford Coppola",
         "Star1": "Marlon Brando",
         "Star2": "Al Pacino",
         "Star3": "James Caan",
         "Star4": "Diane Keaton",
         "No_of_Votes": 1620367,
         "Gross": "134,966,411",
         "_deepnote_index_column": 1
        },
        {
         "Poster_Link": "https://m.media-amazon.com/images/M/MV5BY2IzZGY2YmEtYzljNS00NTM5LTgwMzUtMzM1NjQ4NGI0OTk0XkEyXkFqcGdeQXVyNDYyMDk5MTU@._V1_UX67_CR0,0,67,98_AL_.jpg",
         "Series_Title": "Casablanca",
         "Released_Year": "1942",
         "Certificate": "U",
         "Runtime": "102 min",
         "Genre": "Drama, Romance, War",
         "IMDB_Rating": 8.5,
         "Overview": "A cynical expatriate American cafe owner struggles to decide whether or not to help his former lover and her fugitive husband escape the Nazis in French Morocco.",
         "Meta_score": 100,
         "Director": "Michael Curtiz",
         "Star1": "Humphrey Bogart",
         "Star2": "Ingrid Bergman",
         "Star3": "Paul Henreid",
         "Star4": "Claude Rains",
         "No_of_Votes": 522093,
         "Gross": "1,024,560",
         "_deepnote_index_column": 50
        },
        {
         "Poster_Link": "https://m.media-amazon.com/images/M/MV5BNGUxYWM3M2MtMGM3Mi00ZmRiLWE0NGQtZjE5ODI2OTJhNTU0XkEyXkFqcGdeQXVyMTQxNzMzNDI@._V1_UX67_CR0,0,67,98_AL_.jpg",
         "Series_Title": "Rear Window",
         "Released_Year": "1954",
         "Certificate": "U",
         "Runtime": "112 min",
         "Genre": "Mystery, Thriller",
         "IMDB_Rating": 8.4,
         "Overview": "A wheelchair-bound photographer spies on his neighbors from his apartment window and becomes convinced one of them has committed murder.",
         "Meta_score": 100,
         "Director": "Alfred Hitchcock",
         "Star1": "James Stewart",
         "Star2": "Grace Kelly",
         "Star3": "Wendell Corey",
         "Star4": "Thelma Ritter",
         "No_of_Votes": 444074,
         "Gross": "36,764,313",
         "_deepnote_index_column": 81
        },
        {
         "Poster_Link": "https://m.media-amazon.com/images/M/MV5BYjBiOTYxZWItMzdiZi00NjlkLWIzZTYtYmFhZjhiMTljOTdkXkEyXkFqcGdeQXVyNzkwMjQ5NzM@._V1_UX67_CR0,0,67,98_AL_.jpg",
         "Series_Title": "Citizen Kane",
         "Released_Year": "1941",
         "Certificate": "UA",
         "Runtime": "119 min",
         "Genre": "Drama, Mystery",
         "IMDB_Rating": 8.3,
         "Overview": "Following the death of publishing tycoon Charles Foster Kane, reporters scramble to uncover the meaning of his final utterance; 'Rosebud'.",
         "Meta_score": 100,
         "Director": "Orson Welles",
         "Star1": "Orson Welles",
         "Star2": "Joseph Cotten",
         "Star3": "Dorothy Comingore",
         "Star4": "Agnes Moorehead",
         "No_of_Votes": 403351,
         "Gross": "1,585,634",
         "_deepnote_index_column": 124
        },
        {
         "Poster_Link": "https://m.media-amazon.com/images/M/MV5BYTE4ODEwZDUtNDFjOC00NjAxLWEzYTQtYTI1NGVmZmFlNjdiL2ltYWdlL2ltYWdlXkEyXkFqcGdeQXVyNjc1NTYyMjg@._V1_UX67_CR0,0,67,98_AL_.jpg",
         "Series_Title": "Vertigo",
         "Released_Year": "1958",
         "Certificate": "A",
         "Runtime": "128 min",
         "Genre": "Mystery, Romance, Thriller",
         "IMDB_Rating": 8.3,
         "Overview": "A former police detective juggles wrestling with his personal demons and becoming obsessed with a hauntingly beautiful woman.",
         "Meta_score": 100,
         "Director": "Alfred Hitchcock",
         "Star1": "James Stewart",
         "Star2": "Kim Novak",
         "Star3": "Barbara Bel Geddes",
         "Star4": "Tom Helmore",
         "No_of_Votes": 364368,
         "Gross": "3,200,000",
         "_deepnote_index_column": 119
        },
        {
         "Poster_Link": "https://m.media-amazon.com/images/M/MV5BMTYzNDc2MDc0N15BMl5BanBnXkFtZTgwOTcwMDQ5MTE@._V1_UX67_CR0,0,67,98_AL_.jpg",
         "Series_Title": "Boyhood",
         "Released_Year": "2014",
         "Certificate": "A",
         "Runtime": "165 min",
         "Genre": "Drama",
         "IMDB_Rating": 7.9,
         "Overview": "The life of Mason, from early childhood to his arrival at college.",
         "Meta_score": 100,
         "Director": "Richard Linklater",
         "Star1": "Ellar Coltrane",
         "Star2": "Patricia Arquette",
         "Star3": "Ethan Hawke",
         "Star4": "Elijah Smith",
         "No_of_Votes": 335533,
         "Gross": "25,379,975",
         "_deepnote_index_column": 491
        },
        {
         "Poster_Link": "https://m.media-amazon.com/images/M/MV5BYWY5ZjhjNGYtZmI2Ny00ODM0LWFkNzgtZmI1YzA2N2MxMzA0XkEyXkFqcGdeQXVyNjUwNzk3NDc@._V1_UY98_CR0,0,67,98_AL_.jpg",
         "Series_Title": "Lawrence of Arabia",
         "Released_Year": "1962",
         "Certificate": "U",
         "Runtime": "228 min",
         "Genre": "Adventure, Biography, Drama",
         "IMDB_Rating": 8.3,
         "Overview": "The story of T.E. Lawrence, the English officer who successfully united and led the diverse, often warring, Arab tribes during World War I in order to fight the Turks.",
         "Meta_score": 100,
         "Director": "David Lean",
         "Star1": "Peter O'Toole",
         "Star2": "Alec Guinness",
         "Star3": "Anthony Quinn",
         "Star4": "Jack Hawkins",
         "No_of_Votes": 268085,
         "Gross": "44,824,144",
         "_deepnote_index_column": 116
        },
        {
         "Poster_Link": "https://m.media-amazon.com/images/M/MV5BYTc1NGViOTMtNjZhNS00OGY2LWI4MmItOWQwNTY4MDMzNWI3L2ltYWdlXkEyXkFqcGdeQXVyNjc1NTYyMjg@._V1_UX67_CR0,0,67,98_AL_.jpg",
         "Series_Title": "Notorious",
         "Released_Year": "1946",
         "Certificate": "U",
         "Runtime": "102 min",
         "Genre": "Drama, Film-Noir, Romance",
         "IMDB_Rating": 7.9,
         "Overview": "A woman is asked to spy on a group of Nazi friends in South America. How far will she have to go to ingratiate herself with them?",
         "Meta_score": 100,
         "Director": "Alfred Hitchcock",
         "Star1": "Cary Grant",
         "Star2": "Ingrid Bergman",
         "Star3": "Claude Rains",
         "Star4": "Louis Calhern",
         "No_of_Votes": 92306,
         "Gross": "10,464,000",
         "_deepnote_index_column": 559
        },
        {
         "Poster_Link": "https://m.media-amazon.com/images/M/MV5BYTg1MmNiMjItMmY4Yy00ZDQ3LThjMzYtZGQ0ZTQzNTdkMGQ1L2ltYWdlL2ltYWdlXkEyXkFqcGdeQXVyMTQxNzMzNDI@._V1_UX67_CR0,0,67,98_AL_.jpg",
         "Series_Title": "Trois couleurs: Rouge",
         "Released_Year": "1994",
         "Certificate": "U",
         "Runtime": "99 min",
         "Genre": "Drama, Mystery, Romance",
         "IMDB_Rating": 8.1,
         "Overview": "A model discovers a retired judge is keen on invading people's privacy.",
         "Meta_score": 100,
         "Director": "Krzysztof Kieslowski",
         "Star1": "Irène Jacob",
         "Star2": "Jean-Louis Trintignant",
         "Star3": "Frédérique Feder",
         "Star4": "Jean-Pierre Lorit",
         "No_of_Votes": 90729,
         "Gross": "4,043,686",
         "_deepnote_index_column": 260
        },
        {
         "Poster_Link": "https://m.media-amazon.com/images/M/MV5BZmQzMDE5ZWQtOTU3ZS00ZjdhLWI0OTctZDNkODk4YThmOTRhL2ltYWdlXkEyXkFqcGdeQXVyNjc1NTYyMjg@._V1_UX67_CR0,0,67,98_AL_.jpg",
         "Series_Title": "Fanny och Alexander",
         "Released_Year": "1982",
         "Certificate": "A",
         "Runtime": "188 min",
         "Genre": "Drama",
         "IMDB_Rating": 8.1,
         "Overview": "Two young Swedish children experience the many comedies and tragedies of their family, the Ekdahls.",
         "Meta_score": 100,
         "Director": "Ingmar Bergman",
         "Star1": "Bertil Guve",
         "Star2": "Pernilla Allwin",
         "Star3": "Kristina Adolphson",
         "Star4": "Börje Ahlstedt",
         "No_of_Votes": 57784,
         "Gross": "4,971,340",
         "_deepnote_index_column": 274
        }
       ]
      },
      "text/plain": "                                           Poster_Link           Series_Title  \\\n1    https://m.media-amazon.com/images/M/MV5BM2MyNj...          The Godfather   \n50   https://m.media-amazon.com/images/M/MV5BY2IzZG...             Casablanca   \n81   https://m.media-amazon.com/images/M/MV5BNGUxYW...            Rear Window   \n124  https://m.media-amazon.com/images/M/MV5BYjBiOT...           Citizen Kane   \n119  https://m.media-amazon.com/images/M/MV5BYTE4OD...                Vertigo   \n491  https://m.media-amazon.com/images/M/MV5BMTYzND...                Boyhood   \n116  https://m.media-amazon.com/images/M/MV5BYWY5Zj...     Lawrence of Arabia   \n559  https://m.media-amazon.com/images/M/MV5BYTc1NG...              Notorious   \n260  https://m.media-amazon.com/images/M/MV5BYTg1Mm...  Trois couleurs: Rouge   \n274  https://m.media-amazon.com/images/M/MV5BZmQzMD...    Fanny och Alexander   \n\n    Released_Year Certificate  Runtime                        Genre  \\\n1            1972           A  175 min                 Crime, Drama   \n50           1942           U  102 min          Drama, Romance, War   \n81           1954           U  112 min            Mystery, Thriller   \n124          1941          UA  119 min               Drama, Mystery   \n119          1958           A  128 min   Mystery, Romance, Thriller   \n491          2014           A  165 min                        Drama   \n116          1962           U  228 min  Adventure, Biography, Drama   \n559          1946           U  102 min    Drama, Film-Noir, Romance   \n260          1994           U   99 min      Drama, Mystery, Romance   \n274          1982           A  188 min                        Drama   \n\n     IMDB_Rating                                           Overview  \\\n1            9.2  An organized crime dynasty's aging patriarch t...   \n50           8.5  A cynical expatriate American cafe owner strug...   \n81           8.4  A wheelchair-bound photographer spies on his n...   \n124          8.3  Following the death of publishing tycoon Charl...   \n119          8.3  A former police detective juggles wrestling wi...   \n491          7.9  The life of Mason, from early childhood to his...   \n116          8.3  The story of T.E. Lawrence, the English office...   \n559          7.9  A woman is asked to spy on a group of Nazi fri...   \n260          8.1  A model discovers a retired judge is keen on i...   \n274          8.1  Two young Swedish children experience the many...   \n\n     Meta_score              Director            Star1  \\\n1         100.0  Francis Ford Coppola    Marlon Brando   \n50        100.0        Michael Curtiz  Humphrey Bogart   \n81        100.0      Alfred Hitchcock    James Stewart   \n124       100.0          Orson Welles     Orson Welles   \n119       100.0      Alfred Hitchcock    James Stewart   \n491       100.0     Richard Linklater   Ellar Coltrane   \n116       100.0            David Lean    Peter O'Toole   \n559       100.0      Alfred Hitchcock       Cary Grant   \n260       100.0  Krzysztof Kieslowski      Irène Jacob   \n274       100.0        Ingmar Bergman      Bertil Guve   \n\n                      Star2               Star3              Star4  \\\n1                 Al Pacino          James Caan       Diane Keaton   \n50           Ingrid Bergman        Paul Henreid       Claude Rains   \n81              Grace Kelly       Wendell Corey      Thelma Ritter   \n124           Joseph Cotten   Dorothy Comingore    Agnes Moorehead   \n119               Kim Novak  Barbara Bel Geddes        Tom Helmore   \n491       Patricia Arquette         Ethan Hawke       Elijah Smith   \n116           Alec Guinness       Anthony Quinn       Jack Hawkins   \n559          Ingrid Bergman        Claude Rains      Louis Calhern   \n260  Jean-Louis Trintignant    Frédérique Feder  Jean-Pierre Lorit   \n274         Pernilla Allwin  Kristina Adolphson     Börje Ahlstedt   \n\n     No_of_Votes        Gross  \n1        1620367  134,966,411  \n50        522093    1,024,560  \n81        444074   36,764,313  \n124       403351    1,585,634  \n119       364368    3,200,000  \n491       335533   25,379,975  \n116       268085   44,824,144  \n559        92306   10,464,000  \n260        90729    4,043,686  \n274        57784    4,971,340  ",
      "text/html": "<div>\n<style scoped>\n    .dataframe tbody tr th:only-of-type {\n        vertical-align: middle;\n    }\n\n    .dataframe tbody tr th {\n        vertical-align: top;\n    }\n\n    .dataframe thead th {\n        text-align: right;\n    }\n</style>\n<table border=\"1\" class=\"dataframe\">\n  <thead>\n    <tr style=\"text-align: right;\">\n      <th></th>\n      <th>Poster_Link</th>\n      <th>Series_Title</th>\n      <th>Released_Year</th>\n      <th>Certificate</th>\n      <th>Runtime</th>\n      <th>Genre</th>\n      <th>IMDB_Rating</th>\n      <th>Overview</th>\n      <th>Meta_score</th>\n      <th>Director</th>\n      <th>Star1</th>\n      <th>Star2</th>\n      <th>Star3</th>\n      <th>Star4</th>\n      <th>No_of_Votes</th>\n      <th>Gross</th>\n    </tr>\n  </thead>\n  <tbody>\n    <tr>\n      <th>1</th>\n      <td>https://m.media-amazon.com/images/M/MV5BM2MyNj...</td>\n      <td>The Godfather</td>\n      <td>1972</td>\n      <td>A</td>\n      <td>175 min</td>\n      <td>Crime, Drama</td>\n      <td>9.2</td>\n      <td>An organized crime dynasty's aging patriarch t...</td>\n      <td>100.0</td>\n      <td>Francis Ford Coppola</td>\n      <td>Marlon Brando</td>\n      <td>Al Pacino</td>\n      <td>James Caan</td>\n      <td>Diane Keaton</td>\n      <td>1620367</td>\n      <td>134,966,411</td>\n    </tr>\n    <tr>\n      <th>50</th>\n      <td>https://m.media-amazon.com/images/M/MV5BY2IzZG...</td>\n      <td>Casablanca</td>\n      <td>1942</td>\n      <td>U</td>\n      <td>102 min</td>\n      <td>Drama, Romance, War</td>\n      <td>8.5</td>\n      <td>A cynical expatriate American cafe owner strug...</td>\n      <td>100.0</td>\n      <td>Michael Curtiz</td>\n      <td>Humphrey Bogart</td>\n      <td>Ingrid Bergman</td>\n      <td>Paul Henreid</td>\n      <td>Claude Rains</td>\n      <td>522093</td>\n      <td>1,024,560</td>\n    </tr>\n    <tr>\n      <th>81</th>\n      <td>https://m.media-amazon.com/images/M/MV5BNGUxYW...</td>\n      <td>Rear Window</td>\n      <td>1954</td>\n      <td>U</td>\n      <td>112 min</td>\n      <td>Mystery, Thriller</td>\n      <td>8.4</td>\n      <td>A wheelchair-bound photographer spies on his n...</td>\n      <td>100.0</td>\n      <td>Alfred Hitchcock</td>\n      <td>James Stewart</td>\n      <td>Grace Kelly</td>\n      <td>Wendell Corey</td>\n      <td>Thelma Ritter</td>\n      <td>444074</td>\n      <td>36,764,313</td>\n    </tr>\n    <tr>\n      <th>124</th>\n      <td>https://m.media-amazon.com/images/M/MV5BYjBiOT...</td>\n      <td>Citizen Kane</td>\n      <td>1941</td>\n      <td>UA</td>\n      <td>119 min</td>\n      <td>Drama, Mystery</td>\n      <td>8.3</td>\n      <td>Following the death of publishing tycoon Charl...</td>\n      <td>100.0</td>\n      <td>Orson Welles</td>\n      <td>Orson Welles</td>\n      <td>Joseph Cotten</td>\n      <td>Dorothy Comingore</td>\n      <td>Agnes Moorehead</td>\n      <td>403351</td>\n      <td>1,585,634</td>\n    </tr>\n    <tr>\n      <th>119</th>\n      <td>https://m.media-amazon.com/images/M/MV5BYTE4OD...</td>\n      <td>Vertigo</td>\n      <td>1958</td>\n      <td>A</td>\n      <td>128 min</td>\n      <td>Mystery, Romance, Thriller</td>\n      <td>8.3</td>\n      <td>A former police detective juggles wrestling wi...</td>\n      <td>100.0</td>\n      <td>Alfred Hitchcock</td>\n      <td>James Stewart</td>\n      <td>Kim Novak</td>\n      <td>Barbara Bel Geddes</td>\n      <td>Tom Helmore</td>\n      <td>364368</td>\n      <td>3,200,000</td>\n    </tr>\n    <tr>\n      <th>491</th>\n      <td>https://m.media-amazon.com/images/M/MV5BMTYzND...</td>\n      <td>Boyhood</td>\n      <td>2014</td>\n      <td>A</td>\n      <td>165 min</td>\n      <td>Drama</td>\n      <td>7.9</td>\n      <td>The life of Mason, from early childhood to his...</td>\n      <td>100.0</td>\n      <td>Richard Linklater</td>\n      <td>Ellar Coltrane</td>\n      <td>Patricia Arquette</td>\n      <td>Ethan Hawke</td>\n      <td>Elijah Smith</td>\n      <td>335533</td>\n      <td>25,379,975</td>\n    </tr>\n    <tr>\n      <th>116</th>\n      <td>https://m.media-amazon.com/images/M/MV5BYWY5Zj...</td>\n      <td>Lawrence of Arabia</td>\n      <td>1962</td>\n      <td>U</td>\n      <td>228 min</td>\n      <td>Adventure, Biography, Drama</td>\n      <td>8.3</td>\n      <td>The story of T.E. Lawrence, the English office...</td>\n      <td>100.0</td>\n      <td>David Lean</td>\n      <td>Peter O'Toole</td>\n      <td>Alec Guinness</td>\n      <td>Anthony Quinn</td>\n      <td>Jack Hawkins</td>\n      <td>268085</td>\n      <td>44,824,144</td>\n    </tr>\n    <tr>\n      <th>559</th>\n      <td>https://m.media-amazon.com/images/M/MV5BYTc1NG...</td>\n      <td>Notorious</td>\n      <td>1946</td>\n      <td>U</td>\n      <td>102 min</td>\n      <td>Drama, Film-Noir, Romance</td>\n      <td>7.9</td>\n      <td>A woman is asked to spy on a group of Nazi fri...</td>\n      <td>100.0</td>\n      <td>Alfred Hitchcock</td>\n      <td>Cary Grant</td>\n      <td>Ingrid Bergman</td>\n      <td>Claude Rains</td>\n      <td>Louis Calhern</td>\n      <td>92306</td>\n      <td>10,464,000</td>\n    </tr>\n    <tr>\n      <th>260</th>\n      <td>https://m.media-amazon.com/images/M/MV5BYTg1Mm...</td>\n      <td>Trois couleurs: Rouge</td>\n      <td>1994</td>\n      <td>U</td>\n      <td>99 min</td>\n      <td>Drama, Mystery, Romance</td>\n      <td>8.1</td>\n      <td>A model discovers a retired judge is keen on i...</td>\n      <td>100.0</td>\n      <td>Krzysztof Kieslowski</td>\n      <td>Irène Jacob</td>\n      <td>Jean-Louis Trintignant</td>\n      <td>Frédérique Feder</td>\n      <td>Jean-Pierre Lorit</td>\n      <td>90729</td>\n      <td>4,043,686</td>\n    </tr>\n    <tr>\n      <th>274</th>\n      <td>https://m.media-amazon.com/images/M/MV5BZmQzMD...</td>\n      <td>Fanny och Alexander</td>\n      <td>1982</td>\n      <td>A</td>\n      <td>188 min</td>\n      <td>Drama</td>\n      <td>8.1</td>\n      <td>Two young Swedish children experience the many...</td>\n      <td>100.0</td>\n      <td>Ingmar Bergman</td>\n      <td>Bertil Guve</td>\n      <td>Pernilla Allwin</td>\n      <td>Kristina Adolphson</td>\n      <td>Börje Ahlstedt</td>\n      <td>57784</td>\n      <td>4,971,340</td>\n    </tr>\n  </tbody>\n</table>\n</div>"
     },
     "metadata": {}
    }
   ]
  },
  {
   "cell_type": "code",
   "metadata": {
    "cell_id": "6621aa5c-2120-44c4-b761-811897542370",
    "tags": [],
    "deepnote_to_be_reexecuted": false,
    "source_hash": "570bf5ef",
    "execution_start": 1651338335843,
    "execution_millis": 22,
    "deepnote_cell_type": "code",
    "deepnote_cell_height": 618
   },
   "source": "mov.nlargest(10,columns=['Meta_score'])\n",
   "execution_count": 4,
   "outputs": [
    {
     "output_type": "execute_result",
     "execution_count": 4,
     "data": {
      "application/vnd.deepnote.dataframe.v3+json": {
       "column_count": 16,
       "row_count": 10,
       "columns": [
        {
         "name": "Poster_Link",
         "dtype": "object",
         "stats": {
          "unique_count": 10,
          "nan_count": 0,
          "categories": [
           {
            "name": "https://m.media-amazon.com/images/M/MV5BM2MyNjYxNmUtYTAwNi00MTYxLWJmNWYtYzZlODY3ZTk3OTFlXkEyXkFqcGdeQXVyNzkwMjQ5NzM@._V1_UY98_CR1,0,67,98_AL_.jpg",
            "count": 1
           },
           {
            "name": "https://m.media-amazon.com/images/M/MV5BY2IzZGY2YmEtYzljNS00NTM5LTgwMzUtMzM1NjQ4NGI0OTk0XkEyXkFqcGdeQXVyNDYyMDk5MTU@._V1_UX67_CR0,0,67,98_AL_.jpg",
            "count": 1
           },
           {
            "name": "8 others",
            "count": 8
           }
          ]
         }
        },
        {
         "name": "Series_Title",
         "dtype": "object",
         "stats": {
          "unique_count": 10,
          "nan_count": 0,
          "categories": [
           {
            "name": "The Godfather",
            "count": 1
           },
           {
            "name": "Casablanca",
            "count": 1
           },
           {
            "name": "8 others",
            "count": 8
           }
          ]
         }
        },
        {
         "name": "Released_Year",
         "dtype": "object",
         "stats": {
          "unique_count": 10,
          "nan_count": 0,
          "categories": [
           {
            "name": "1972",
            "count": 1
           },
           {
            "name": "1942",
            "count": 1
           },
           {
            "name": "8 others",
            "count": 8
           }
          ]
         }
        },
        {
         "name": "Certificate",
         "dtype": "object",
         "stats": {
          "unique_count": 4,
          "nan_count": 0,
          "categories": [
           {
            "name": "U",
            "count": 4
           },
           {
            "name": "A",
            "count": 3
           },
           {
            "name": "2 others",
            "count": 3
           }
          ]
         }
        },
        {
         "name": "Runtime",
         "dtype": "object",
         "stats": {
          "unique_count": 10,
          "nan_count": 0,
          "categories": [
           {
            "name": "175 min",
            "count": 1
           },
           {
            "name": "102 min",
            "count": 1
           },
           {
            "name": "8 others",
            "count": 8
           }
          ]
         }
        },
        {
         "name": "Genre",
         "dtype": "object",
         "stats": {
          "unique_count": 9,
          "nan_count": 0,
          "categories": [
           {
            "name": "Drama",
            "count": 2
           },
           {
            "name": "Crime, Drama",
            "count": 1
           },
           {
            "name": "7 others",
            "count": 7
           }
          ]
         }
        },
        {
         "name": "IMDB_Rating",
         "dtype": "float64",
         "stats": {
          "unique_count": 6,
          "nan_count": 0,
          "min": "8.0",
          "max": "9.2",
          "histogram": [
           {
            "bin_start": 8,
            "bin_end": 8.12,
            "count": 4
           },
           {
            "bin_start": 8.12,
            "bin_end": 8.24,
            "count": 0
           },
           {
            "bin_start": 8.24,
            "bin_end": 8.36,
            "count": 3
           },
           {
            "bin_start": 8.36,
            "bin_end": 8.48,
            "count": 1
           },
           {
            "bin_start": 8.48,
            "bin_end": 8.6,
            "count": 1
           },
           {
            "bin_start": 8.6,
            "bin_end": 8.719999999999999,
            "count": 0
           },
           {
            "bin_start": 8.719999999999999,
            "bin_end": 8.84,
            "count": 0
           },
           {
            "bin_start": 8.84,
            "bin_end": 8.959999999999999,
            "count": 0
           },
           {
            "bin_start": 8.959999999999999,
            "bin_end": 9.08,
            "count": 0
           },
           {
            "bin_start": 9.08,
            "bin_end": 9.2,
            "count": 1
           }
          ]
         }
        },
        {
         "name": "Overview",
         "dtype": "object",
         "stats": {
          "unique_count": 10,
          "nan_count": 0,
          "categories": [
           {
            "name": "An organized crime dynasty's aging patriarch transfers control of his clandestine empire to his reluctant son.",
            "count": 1
           },
           {
            "name": "A cynical expatriate American cafe owner struggles to decide whether or not to help his former lover and her fugitive husband escape the Nazis in French Morocco.",
            "count": 1
           },
           {
            "name": "8 others",
            "count": 8
           }
          ]
         }
        },
        {
         "name": "Meta_score",
         "dtype": "float64",
         "stats": {
          "unique_count": 1,
          "nan_count": 0,
          "min": "100.0",
          "max": "100.0",
          "histogram": [
           {
            "bin_start": 99.5,
            "bin_end": 99.6,
            "count": 0
           },
           {
            "bin_start": 99.6,
            "bin_end": 99.7,
            "count": 0
           },
           {
            "bin_start": 99.7,
            "bin_end": 99.8,
            "count": 0
           },
           {
            "bin_start": 99.8,
            "bin_end": 99.9,
            "count": 0
           },
           {
            "bin_start": 99.9,
            "bin_end": 100,
            "count": 0
           },
           {
            "bin_start": 100,
            "bin_end": 100.1,
            "count": 10
           },
           {
            "bin_start": 100.1,
            "bin_end": 100.2,
            "count": 0
           },
           {
            "bin_start": 100.2,
            "bin_end": 100.3,
            "count": 0
           },
           {
            "bin_start": 100.3,
            "bin_end": 100.4,
            "count": 0
           },
           {
            "bin_start": 100.4,
            "bin_end": 100.5,
            "count": 0
           }
          ]
         }
        },
        {
         "name": "Director",
         "dtype": "object",
         "stats": {
          "unique_count": 9,
          "nan_count": 0,
          "categories": [
           {
            "name": "Alfred Hitchcock",
            "count": 2
           },
           {
            "name": "Francis Ford Coppola",
            "count": 1
           },
           {
            "name": "7 others",
            "count": 7
           }
          ]
         }
        },
        {
         "name": "Star1",
         "dtype": "object",
         "stats": {
          "unique_count": 9,
          "nan_count": 0,
          "categories": [
           {
            "name": "James Stewart",
            "count": 2
           },
           {
            "name": "Marlon Brando",
            "count": 1
           },
           {
            "name": "7 others",
            "count": 7
           }
          ]
         }
        },
        {
         "name": "Star2",
         "dtype": "object",
         "stats": {
          "unique_count": 10,
          "nan_count": 0,
          "categories": [
           {
            "name": "Al Pacino",
            "count": 1
           },
           {
            "name": "Ingrid Bergman",
            "count": 1
           },
           {
            "name": "8 others",
            "count": 8
           }
          ]
         }
        },
        {
         "name": "Star3",
         "dtype": "object",
         "stats": {
          "unique_count": 10,
          "nan_count": 0,
          "categories": [
           {
            "name": "James Caan",
            "count": 1
           },
           {
            "name": "Paul Henreid",
            "count": 1
           },
           {
            "name": "8 others",
            "count": 8
           }
          ]
         }
        },
        {
         "name": "Star4",
         "dtype": "object",
         "stats": {
          "unique_count": 10,
          "nan_count": 0,
          "categories": [
           {
            "name": "Diane Keaton",
            "count": 1
           },
           {
            "name": "Claude Rains",
            "count": 1
           },
           {
            "name": "8 others",
            "count": 8
           }
          ]
         }
        },
        {
         "name": "No_of_Votes",
         "dtype": "int64",
         "stats": {
          "unique_count": 10,
          "nan_count": 0,
          "min": "27067",
          "max": "1620367",
          "histogram": [
           {
            "bin_start": 27067,
            "bin_end": 186397,
            "count": 4
           },
           {
            "bin_start": 186397,
            "bin_end": 345727,
            "count": 1
           },
           {
            "bin_start": 345727,
            "bin_end": 505057,
            "count": 3
           },
           {
            "bin_start": 505057,
            "bin_end": 664387,
            "count": 1
           },
           {
            "bin_start": 664387,
            "bin_end": 823717,
            "count": 0
           },
           {
            "bin_start": 823717,
            "bin_end": 983047,
            "count": 0
           },
           {
            "bin_start": 983047,
            "bin_end": 1142377,
            "count": 0
           },
           {
            "bin_start": 1142377,
            "bin_end": 1301707,
            "count": 0
           },
           {
            "bin_start": 1301707,
            "bin_end": 1461037,
            "count": 0
           },
           {
            "bin_start": 1461037,
            "bin_end": 1620367,
            "count": 1
           }
          ]
         }
        },
        {
         "name": "Gross",
         "dtype": "object",
         "stats": {
          "unique_count": 9,
          "nan_count": 1,
          "categories": [
           {
            "name": "134,966,411",
            "count": 1
           },
           {
            "name": "8 others",
            "count": 8
           },
           {
            "name": "Missing",
            "count": 1
           }
          ]
         }
        },
        {
         "name": "_deepnote_index_column",
         "dtype": "int64"
        }
       ],
       "rows": [
        {
         "Poster_Link": "https://m.media-amazon.com/images/M/MV5BM2MyNjYxNmUtYTAwNi00MTYxLWJmNWYtYzZlODY3ZTk3OTFlXkEyXkFqcGdeQXVyNzkwMjQ5NzM@._V1_UY98_CR1,0,67,98_AL_.jpg",
         "Series_Title": "The Godfather",
         "Released_Year": "1972",
         "Certificate": "A",
         "Runtime": "175 min",
         "Genre": "Crime, Drama",
         "IMDB_Rating": 9.2,
         "Overview": "An organized crime dynasty's aging patriarch transfers control of his clandestine empire to his reluctant son.",
         "Meta_score": 100,
         "Director": "Francis Ford Coppola",
         "Star1": "Marlon Brando",
         "Star2": "Al Pacino",
         "Star3": "James Caan",
         "Star4": "Diane Keaton",
         "No_of_Votes": 1620367,
         "Gross": "134,966,411",
         "_deepnote_index_column": 1
        },
        {
         "Poster_Link": "https://m.media-amazon.com/images/M/MV5BY2IzZGY2YmEtYzljNS00NTM5LTgwMzUtMzM1NjQ4NGI0OTk0XkEyXkFqcGdeQXVyNDYyMDk5MTU@._V1_UX67_CR0,0,67,98_AL_.jpg",
         "Series_Title": "Casablanca",
         "Released_Year": "1942",
         "Certificate": "U",
         "Runtime": "102 min",
         "Genre": "Drama, Romance, War",
         "IMDB_Rating": 8.5,
         "Overview": "A cynical expatriate American cafe owner struggles to decide whether or not to help his former lover and her fugitive husband escape the Nazis in French Morocco.",
         "Meta_score": 100,
         "Director": "Michael Curtiz",
         "Star1": "Humphrey Bogart",
         "Star2": "Ingrid Bergman",
         "Star3": "Paul Henreid",
         "Star4": "Claude Rains",
         "No_of_Votes": 522093,
         "Gross": "1,024,560",
         "_deepnote_index_column": 50
        },
        {
         "Poster_Link": "https://m.media-amazon.com/images/M/MV5BNGUxYWM3M2MtMGM3Mi00ZmRiLWE0NGQtZjE5ODI2OTJhNTU0XkEyXkFqcGdeQXVyMTQxNzMzNDI@._V1_UX67_CR0,0,67,98_AL_.jpg",
         "Series_Title": "Rear Window",
         "Released_Year": "1954",
         "Certificate": "U",
         "Runtime": "112 min",
         "Genre": "Mystery, Thriller",
         "IMDB_Rating": 8.4,
         "Overview": "A wheelchair-bound photographer spies on his neighbors from his apartment window and becomes convinced one of them has committed murder.",
         "Meta_score": 100,
         "Director": "Alfred Hitchcock",
         "Star1": "James Stewart",
         "Star2": "Grace Kelly",
         "Star3": "Wendell Corey",
         "Star4": "Thelma Ritter",
         "No_of_Votes": 444074,
         "Gross": "36,764,313",
         "_deepnote_index_column": 81
        },
        {
         "Poster_Link": "https://m.media-amazon.com/images/M/MV5BYWY5ZjhjNGYtZmI2Ny00ODM0LWFkNzgtZmI1YzA2N2MxMzA0XkEyXkFqcGdeQXVyNjUwNzk3NDc@._V1_UY98_CR0,0,67,98_AL_.jpg",
         "Series_Title": "Lawrence of Arabia",
         "Released_Year": "1962",
         "Certificate": "U",
         "Runtime": "228 min",
         "Genre": "Adventure, Biography, Drama",
         "IMDB_Rating": 8.3,
         "Overview": "The story of T.E. Lawrence, the English officer who successfully united and led the diverse, often warring, Arab tribes during World War I in order to fight the Turks.",
         "Meta_score": 100,
         "Director": "David Lean",
         "Star1": "Peter O'Toole",
         "Star2": "Alec Guinness",
         "Star3": "Anthony Quinn",
         "Star4": "Jack Hawkins",
         "No_of_Votes": 268085,
         "Gross": "44,824,144",
         "_deepnote_index_column": 116
        },
        {
         "Poster_Link": "https://m.media-amazon.com/images/M/MV5BYTE4ODEwZDUtNDFjOC00NjAxLWEzYTQtYTI1NGVmZmFlNjdiL2ltYWdlL2ltYWdlXkEyXkFqcGdeQXVyNjc1NTYyMjg@._V1_UX67_CR0,0,67,98_AL_.jpg",
         "Series_Title": "Vertigo",
         "Released_Year": "1958",
         "Certificate": "A",
         "Runtime": "128 min",
         "Genre": "Mystery, Romance, Thriller",
         "IMDB_Rating": 8.3,
         "Overview": "A former police detective juggles wrestling with his personal demons and becoming obsessed with a hauntingly beautiful woman.",
         "Meta_score": 100,
         "Director": "Alfred Hitchcock",
         "Star1": "James Stewart",
         "Star2": "Kim Novak",
         "Star3": "Barbara Bel Geddes",
         "Star4": "Tom Helmore",
         "No_of_Votes": 364368,
         "Gross": "3,200,000",
         "_deepnote_index_column": 119
        },
        {
         "Poster_Link": "https://m.media-amazon.com/images/M/MV5BYjBiOTYxZWItMzdiZi00NjlkLWIzZTYtYmFhZjhiMTljOTdkXkEyXkFqcGdeQXVyNzkwMjQ5NzM@._V1_UX67_CR0,0,67,98_AL_.jpg",
         "Series_Title": "Citizen Kane",
         "Released_Year": "1941",
         "Certificate": "UA",
         "Runtime": "119 min",
         "Genre": "Drama, Mystery",
         "IMDB_Rating": 8.3,
         "Overview": "Following the death of publishing tycoon Charles Foster Kane, reporters scramble to uncover the meaning of his final utterance; 'Rosebud'.",
         "Meta_score": 100,
         "Director": "Orson Welles",
         "Star1": "Orson Welles",
         "Star2": "Joseph Cotten",
         "Star3": "Dorothy Comingore",
         "Star4": "Agnes Moorehead",
         "No_of_Votes": 403351,
         "Gross": "1,585,634",
         "_deepnote_index_column": 124
        },
        {
         "Poster_Link": "https://m.media-amazon.com/images/M/MV5BYTg1MmNiMjItMmY4Yy00ZDQ3LThjMzYtZGQ0ZTQzNTdkMGQ1L2ltYWdlL2ltYWdlXkEyXkFqcGdeQXVyMTQxNzMzNDI@._V1_UX67_CR0,0,67,98_AL_.jpg",
         "Series_Title": "Trois couleurs: Rouge",
         "Released_Year": "1994",
         "Certificate": "U",
         "Runtime": "99 min",
         "Genre": "Drama, Mystery, Romance",
         "IMDB_Rating": 8.1,
         "Overview": "A model discovers a retired judge is keen on invading people's privacy.",
         "Meta_score": 100,
         "Director": "Krzysztof Kieslowski",
         "Star1": "Irène Jacob",
         "Star2": "Jean-Louis Trintignant",
         "Star3": "Frédérique Feder",
         "Star4": "Jean-Pierre Lorit",
         "No_of_Votes": 90729,
         "Gross": "4,043,686",
         "_deepnote_index_column": 260
        },
        {
         "Poster_Link": "https://m.media-amazon.com/images/M/MV5BZmQzMDE5ZWQtOTU3ZS00ZjdhLWI0OTctZDNkODk4YThmOTRhL2ltYWdlXkEyXkFqcGdeQXVyNjc1NTYyMjg@._V1_UX67_CR0,0,67,98_AL_.jpg",
         "Series_Title": "Fanny och Alexander",
         "Released_Year": "1982",
         "Certificate": "A",
         "Runtime": "188 min",
         "Genre": "Drama",
         "IMDB_Rating": 8.1,
         "Overview": "Two young Swedish children experience the many comedies and tragedies of their family, the Ekdahls.",
         "Meta_score": 100,
         "Director": "Ingmar Bergman",
         "Star1": "Bertil Guve",
         "Star2": "Pernilla Allwin",
         "Star3": "Kristina Adolphson",
         "Star4": "Börje Ahlstedt",
         "No_of_Votes": 57784,
         "Gross": "4,971,340",
         "_deepnote_index_column": 274
        },
        {
         "Poster_Link": "https://m.media-amazon.com/images/M/MV5BODFlYzU4YTItN2EwYi00ODI3LTkwNTQtMDdkNjM3YjMyMTgyXkEyXkFqcGdeQXVyNjc1NTYyMjg@._V1_UY98_CR0,0,67,98_AL_.jpg",
         "Series_Title": "Il conformista",
         "Released_Year": "1970",
         "Certificate": "UA",
         "Runtime": "113 min",
         "Genre": "Drama",
         "IMDB_Rating": 8,
         "Overview": "A weak-willed Italian man becomes a fascist flunky who goes abroad to arrange the assassination of his old teacher, now a political dissident.",
         "Meta_score": 100,
         "Director": "Bernardo Bertolucci",
         "Star1": "Jean-Louis Trintignant",
         "Star2": "Stefania Sandrelli",
         "Star3": "Gastone Moschin",
         "Star4": "Enzo Tarascio",
         "No_of_Votes": 27067,
         "Gross": "541,940",
         "_deepnote_index_column": 423
        },
        {
         "Poster_Link": "https://m.media-amazon.com/images/M/MV5BMjE5NTU3YWYtOWIxNi00YWZhLTg2NzktYzVjZWY5MDQ4NzVlXkEyXkFqcGdeQXVyNjc1NTYyMjg@._V1_UX67_CR0,0,67,98_AL_.jpg",
         "Series_Title": "Sweet Smell of Success",
         "Released_Year": "1957",
         "Certificate": "Approved",
         "Runtime": "96 min",
         "Genre": "Drama, Film-Noir",
         "IMDB_Rating": 8,
         "Overview": "Powerful but unethical Broadway columnist J.J. Hunsecker coerces unscrupulous press agent Sidney Falco into breaking up his sister's romance with a jazz musician.",
         "Meta_score": 100,
         "Director": "Alexander Mackendrick",
         "Star1": "Burt Lancaster",
         "Star2": "Tony Curtis",
         "Star3": "Susan Harrison",
         "Star4": "Martin Milner",
         "No_of_Votes": 28137,
         "Gross": "nan",
         "_deepnote_index_column": 440
        }
       ]
      },
      "text/plain": "                                           Poster_Link  \\\n1    https://m.media-amazon.com/images/M/MV5BM2MyNj...   \n50   https://m.media-amazon.com/images/M/MV5BY2IzZG...   \n81   https://m.media-amazon.com/images/M/MV5BNGUxYW...   \n116  https://m.media-amazon.com/images/M/MV5BYWY5Zj...   \n119  https://m.media-amazon.com/images/M/MV5BYTE4OD...   \n124  https://m.media-amazon.com/images/M/MV5BYjBiOT...   \n260  https://m.media-amazon.com/images/M/MV5BYTg1Mm...   \n274  https://m.media-amazon.com/images/M/MV5BZmQzMD...   \n423  https://m.media-amazon.com/images/M/MV5BODFlYz...   \n440  https://m.media-amazon.com/images/M/MV5BMjE5NT...   \n\n               Series_Title Released_Year Certificate  Runtime  \\\n1             The Godfather          1972           A  175 min   \n50               Casablanca          1942           U  102 min   \n81              Rear Window          1954           U  112 min   \n116      Lawrence of Arabia          1962           U  228 min   \n119                 Vertigo          1958           A  128 min   \n124            Citizen Kane          1941          UA  119 min   \n260   Trois couleurs: Rouge          1994           U   99 min   \n274     Fanny och Alexander          1982           A  188 min   \n423          Il conformista          1970          UA  113 min   \n440  Sweet Smell of Success          1957    Approved   96 min   \n\n                           Genre  IMDB_Rating  \\\n1                   Crime, Drama          9.2   \n50           Drama, Romance, War          8.5   \n81             Mystery, Thriller          8.4   \n116  Adventure, Biography, Drama          8.3   \n119   Mystery, Romance, Thriller          8.3   \n124               Drama, Mystery          8.3   \n260      Drama, Mystery, Romance          8.1   \n274                        Drama          8.1   \n423                        Drama          8.0   \n440             Drama, Film-Noir          8.0   \n\n                                              Overview  Meta_score  \\\n1    An organized crime dynasty's aging patriarch t...       100.0   \n50   A cynical expatriate American cafe owner strug...       100.0   \n81   A wheelchair-bound photographer spies on his n...       100.0   \n116  The story of T.E. Lawrence, the English office...       100.0   \n119  A former police detective juggles wrestling wi...       100.0   \n124  Following the death of publishing tycoon Charl...       100.0   \n260  A model discovers a retired judge is keen on i...       100.0   \n274  Two young Swedish children experience the many...       100.0   \n423  A weak-willed Italian man becomes a fascist fl...       100.0   \n440  Powerful but unethical Broadway columnist J.J....       100.0   \n\n                  Director                   Star1                   Star2  \\\n1     Francis Ford Coppola           Marlon Brando               Al Pacino   \n50          Michael Curtiz         Humphrey Bogart          Ingrid Bergman   \n81        Alfred Hitchcock           James Stewart             Grace Kelly   \n116             David Lean           Peter O'Toole           Alec Guinness   \n119       Alfred Hitchcock           James Stewart               Kim Novak   \n124           Orson Welles            Orson Welles           Joseph Cotten   \n260   Krzysztof Kieslowski             Irène Jacob  Jean-Louis Trintignant   \n274         Ingmar Bergman             Bertil Guve         Pernilla Allwin   \n423    Bernardo Bertolucci  Jean-Louis Trintignant      Stefania Sandrelli   \n440  Alexander Mackendrick          Burt Lancaster             Tony Curtis   \n\n                  Star3              Star4  No_of_Votes        Gross  \n1            James Caan       Diane Keaton      1620367  134,966,411  \n50         Paul Henreid       Claude Rains       522093    1,024,560  \n81        Wendell Corey      Thelma Ritter       444074   36,764,313  \n116       Anthony Quinn       Jack Hawkins       268085   44,824,144  \n119  Barbara Bel Geddes        Tom Helmore       364368    3,200,000  \n124   Dorothy Comingore    Agnes Moorehead       403351    1,585,634  \n260    Frédérique Feder  Jean-Pierre Lorit        90729    4,043,686  \n274  Kristina Adolphson     Börje Ahlstedt        57784    4,971,340  \n423     Gastone Moschin      Enzo Tarascio        27067      541,940  \n440      Susan Harrison      Martin Milner        28137          NaN  ",
      "text/html": "<div>\n<style scoped>\n    .dataframe tbody tr th:only-of-type {\n        vertical-align: middle;\n    }\n\n    .dataframe tbody tr th {\n        vertical-align: top;\n    }\n\n    .dataframe thead th {\n        text-align: right;\n    }\n</style>\n<table border=\"1\" class=\"dataframe\">\n  <thead>\n    <tr style=\"text-align: right;\">\n      <th></th>\n      <th>Poster_Link</th>\n      <th>Series_Title</th>\n      <th>Released_Year</th>\n      <th>Certificate</th>\n      <th>Runtime</th>\n      <th>Genre</th>\n      <th>IMDB_Rating</th>\n      <th>Overview</th>\n      <th>Meta_score</th>\n      <th>Director</th>\n      <th>Star1</th>\n      <th>Star2</th>\n      <th>Star3</th>\n      <th>Star4</th>\n      <th>No_of_Votes</th>\n      <th>Gross</th>\n    </tr>\n  </thead>\n  <tbody>\n    <tr>\n      <th>1</th>\n      <td>https://m.media-amazon.com/images/M/MV5BM2MyNj...</td>\n      <td>The Godfather</td>\n      <td>1972</td>\n      <td>A</td>\n      <td>175 min</td>\n      <td>Crime, Drama</td>\n      <td>9.2</td>\n      <td>An organized crime dynasty's aging patriarch t...</td>\n      <td>100.0</td>\n      <td>Francis Ford Coppola</td>\n      <td>Marlon Brando</td>\n      <td>Al Pacino</td>\n      <td>James Caan</td>\n      <td>Diane Keaton</td>\n      <td>1620367</td>\n      <td>134,966,411</td>\n    </tr>\n    <tr>\n      <th>50</th>\n      <td>https://m.media-amazon.com/images/M/MV5BY2IzZG...</td>\n      <td>Casablanca</td>\n      <td>1942</td>\n      <td>U</td>\n      <td>102 min</td>\n      <td>Drama, Romance, War</td>\n      <td>8.5</td>\n      <td>A cynical expatriate American cafe owner strug...</td>\n      <td>100.0</td>\n      <td>Michael Curtiz</td>\n      <td>Humphrey Bogart</td>\n      <td>Ingrid Bergman</td>\n      <td>Paul Henreid</td>\n      <td>Claude Rains</td>\n      <td>522093</td>\n      <td>1,024,560</td>\n    </tr>\n    <tr>\n      <th>81</th>\n      <td>https://m.media-amazon.com/images/M/MV5BNGUxYW...</td>\n      <td>Rear Window</td>\n      <td>1954</td>\n      <td>U</td>\n      <td>112 min</td>\n      <td>Mystery, Thriller</td>\n      <td>8.4</td>\n      <td>A wheelchair-bound photographer spies on his n...</td>\n      <td>100.0</td>\n      <td>Alfred Hitchcock</td>\n      <td>James Stewart</td>\n      <td>Grace Kelly</td>\n      <td>Wendell Corey</td>\n      <td>Thelma Ritter</td>\n      <td>444074</td>\n      <td>36,764,313</td>\n    </tr>\n    <tr>\n      <th>116</th>\n      <td>https://m.media-amazon.com/images/M/MV5BYWY5Zj...</td>\n      <td>Lawrence of Arabia</td>\n      <td>1962</td>\n      <td>U</td>\n      <td>228 min</td>\n      <td>Adventure, Biography, Drama</td>\n      <td>8.3</td>\n      <td>The story of T.E. Lawrence, the English office...</td>\n      <td>100.0</td>\n      <td>David Lean</td>\n      <td>Peter O'Toole</td>\n      <td>Alec Guinness</td>\n      <td>Anthony Quinn</td>\n      <td>Jack Hawkins</td>\n      <td>268085</td>\n      <td>44,824,144</td>\n    </tr>\n    <tr>\n      <th>119</th>\n      <td>https://m.media-amazon.com/images/M/MV5BYTE4OD...</td>\n      <td>Vertigo</td>\n      <td>1958</td>\n      <td>A</td>\n      <td>128 min</td>\n      <td>Mystery, Romance, Thriller</td>\n      <td>8.3</td>\n      <td>A former police detective juggles wrestling wi...</td>\n      <td>100.0</td>\n      <td>Alfred Hitchcock</td>\n      <td>James Stewart</td>\n      <td>Kim Novak</td>\n      <td>Barbara Bel Geddes</td>\n      <td>Tom Helmore</td>\n      <td>364368</td>\n      <td>3,200,000</td>\n    </tr>\n    <tr>\n      <th>124</th>\n      <td>https://m.media-amazon.com/images/M/MV5BYjBiOT...</td>\n      <td>Citizen Kane</td>\n      <td>1941</td>\n      <td>UA</td>\n      <td>119 min</td>\n      <td>Drama, Mystery</td>\n      <td>8.3</td>\n      <td>Following the death of publishing tycoon Charl...</td>\n      <td>100.0</td>\n      <td>Orson Welles</td>\n      <td>Orson Welles</td>\n      <td>Joseph Cotten</td>\n      <td>Dorothy Comingore</td>\n      <td>Agnes Moorehead</td>\n      <td>403351</td>\n      <td>1,585,634</td>\n    </tr>\n    <tr>\n      <th>260</th>\n      <td>https://m.media-amazon.com/images/M/MV5BYTg1Mm...</td>\n      <td>Trois couleurs: Rouge</td>\n      <td>1994</td>\n      <td>U</td>\n      <td>99 min</td>\n      <td>Drama, Mystery, Romance</td>\n      <td>8.1</td>\n      <td>A model discovers a retired judge is keen on i...</td>\n      <td>100.0</td>\n      <td>Krzysztof Kieslowski</td>\n      <td>Irène Jacob</td>\n      <td>Jean-Louis Trintignant</td>\n      <td>Frédérique Feder</td>\n      <td>Jean-Pierre Lorit</td>\n      <td>90729</td>\n      <td>4,043,686</td>\n    </tr>\n    <tr>\n      <th>274</th>\n      <td>https://m.media-amazon.com/images/M/MV5BZmQzMD...</td>\n      <td>Fanny och Alexander</td>\n      <td>1982</td>\n      <td>A</td>\n      <td>188 min</td>\n      <td>Drama</td>\n      <td>8.1</td>\n      <td>Two young Swedish children experience the many...</td>\n      <td>100.0</td>\n      <td>Ingmar Bergman</td>\n      <td>Bertil Guve</td>\n      <td>Pernilla Allwin</td>\n      <td>Kristina Adolphson</td>\n      <td>Börje Ahlstedt</td>\n      <td>57784</td>\n      <td>4,971,340</td>\n    </tr>\n    <tr>\n      <th>423</th>\n      <td>https://m.media-amazon.com/images/M/MV5BODFlYz...</td>\n      <td>Il conformista</td>\n      <td>1970</td>\n      <td>UA</td>\n      <td>113 min</td>\n      <td>Drama</td>\n      <td>8.0</td>\n      <td>A weak-willed Italian man becomes a fascist fl...</td>\n      <td>100.0</td>\n      <td>Bernardo Bertolucci</td>\n      <td>Jean-Louis Trintignant</td>\n      <td>Stefania Sandrelli</td>\n      <td>Gastone Moschin</td>\n      <td>Enzo Tarascio</td>\n      <td>27067</td>\n      <td>541,940</td>\n    </tr>\n    <tr>\n      <th>440</th>\n      <td>https://m.media-amazon.com/images/M/MV5BMjE5NT...</td>\n      <td>Sweet Smell of Success</td>\n      <td>1957</td>\n      <td>Approved</td>\n      <td>96 min</td>\n      <td>Drama, Film-Noir</td>\n      <td>8.0</td>\n      <td>Powerful but unethical Broadway columnist J.J....</td>\n      <td>100.0</td>\n      <td>Alexander Mackendrick</td>\n      <td>Burt Lancaster</td>\n      <td>Tony Curtis</td>\n      <td>Susan Harrison</td>\n      <td>Martin Milner</td>\n      <td>28137</td>\n      <td>NaN</td>\n    </tr>\n  </tbody>\n</table>\n</div>"
     },
     "metadata": {}
    }
   ]
  },
  {
   "cell_type": "code",
   "metadata": {
    "cell_id": "d4d69e5c-b81e-4ab8-bf5d-297dfaf78577",
    "tags": [],
    "deepnote_to_be_reexecuted": false,
    "source_hash": "7f39c9de",
    "execution_start": 1651338335891,
    "execution_millis": 57,
    "deepnote_cell_type": "code",
    "deepnote_cell_height": 600
   },
   "source": "mov.nlargest(10,columns=[\"No_of_Votes\"])",
   "execution_count": 5,
   "outputs": [
    {
     "output_type": "execute_result",
     "execution_count": 5,
     "data": {
      "application/vnd.deepnote.dataframe.v3+json": {
       "column_count": 16,
       "row_count": 10,
       "columns": [
        {
         "name": "Poster_Link",
         "dtype": "object",
         "stats": {
          "unique_count": 10,
          "nan_count": 0,
          "categories": [
           {
            "name": "https://m.media-amazon.com/images/M/MV5BMDFkYTc0MGEtZmNhMC00ZDIzLWFmNTEtODM1ZmRlYWMwMWFmXkEyXkFqcGdeQXVyMTMxODk2OTU@._V1_UX67_CR0,0,67,98_AL_.jpg",
            "count": 1
           },
           {
            "name": "https://m.media-amazon.com/images/M/MV5BMTMxNTMwODM0NF5BMl5BanBnXkFtZTcwODAyMTk2Mw@@._V1_UX67_CR0,0,67,98_AL_.jpg",
            "count": 1
           },
           {
            "name": "8 others",
            "count": 8
           }
          ]
         }
        },
        {
         "name": "Series_Title",
         "dtype": "object",
         "stats": {
          "unique_count": 10,
          "nan_count": 0,
          "categories": [
           {
            "name": "The Shawshank Redemption",
            "count": 1
           },
           {
            "name": "The Dark Knight",
            "count": 1
           },
           {
            "name": "8 others",
            "count": 8
           }
          ]
         }
        },
        {
         "name": "Released_Year",
         "dtype": "object",
         "stats": {
          "unique_count": 7,
          "nan_count": 0,
          "categories": [
           {
            "name": "1994",
            "count": 3
           },
           {
            "name": "1999",
            "count": 2
           },
           {
            "name": "5 others",
            "count": 5
           }
          ]
         }
        },
        {
         "name": "Certificate",
         "dtype": "object",
         "stats": {
          "unique_count": 3,
          "nan_count": 0,
          "categories": [
           {
            "name": "A",
            "count": 5
           },
           {
            "name": "UA",
            "count": 3
           },
           {
            "name": "U",
            "count": 2
           }
          ]
         }
        },
        {
         "name": "Runtime",
         "dtype": "object",
         "stats": {
          "unique_count": 9,
          "nan_count": 0,
          "categories": [
           {
            "name": "142 min",
            "count": 2
           },
           {
            "name": "152 min",
            "count": 1
           },
           {
            "name": "7 others",
            "count": 7
           }
          ]
         }
        },
        {
         "name": "Genre",
         "dtype": "object",
         "stats": {
          "unique_count": 7,
          "nan_count": 0,
          "categories": [
           {
            "name": "Drama",
            "count": 2
           },
           {
            "name": "Crime, Drama",
            "count": 2
           },
           {
            "name": "5 others",
            "count": 6
           }
          ]
         }
        },
        {
         "name": "IMDB_Rating",
         "dtype": "float64",
         "stats": {
          "unique_count": 6,
          "nan_count": 0,
          "min": "8.7",
          "max": "9.3",
          "histogram": [
           {
            "bin_start": 8.7,
            "bin_end": 8.76,
            "count": 1
           },
           {
            "bin_start": 8.76,
            "bin_end": 8.82,
            "count": 4
           },
           {
            "bin_start": 8.82,
            "bin_end": 8.879999999999999,
            "count": 0
           },
           {
            "bin_start": 8.879999999999999,
            "bin_end": 8.94,
            "count": 2
           },
           {
            "bin_start": 8.94,
            "bin_end": 9,
            "count": 0
           },
           {
            "bin_start": 9,
            "bin_end": 9.06,
            "count": 1
           },
           {
            "bin_start": 9.06,
            "bin_end": 9.120000000000001,
            "count": 0
           },
           {
            "bin_start": 9.120000000000001,
            "bin_end": 9.18,
            "count": 0
           },
           {
            "bin_start": 9.18,
            "bin_end": 9.24,
            "count": 1
           },
           {
            "bin_start": 9.24,
            "bin_end": 9.3,
            "count": 1
           }
          ]
         }
        },
        {
         "name": "Overview",
         "dtype": "object",
         "stats": {
          "unique_count": 10,
          "nan_count": 0,
          "categories": [
           {
            "name": "Two imprisoned men bond over a number of years, finding solace and eventual redemption through acts of common decency.",
            "count": 1
           },
           {
            "name": "When the menace known as the Joker wreaks havoc and chaos on the people of Gotham, Batman must accept one of the greatest psychological and physical tests of his ability to fight injustice.",
            "count": 1
           },
           {
            "name": "8 others",
            "count": 8
           }
          ]
         }
        },
        {
         "name": "Meta_score",
         "dtype": "float64",
         "stats": {
          "unique_count": 9,
          "nan_count": 0,
          "min": "66.0",
          "max": "100.0",
          "histogram": [
           {
            "bin_start": 66,
            "bin_end": 69.4,
            "count": 1
           },
           {
            "bin_start": 69.4,
            "bin_end": 72.8,
            "count": 0
           },
           {
            "bin_start": 72.8,
            "bin_end": 76.2,
            "count": 2
           },
           {
            "bin_start": 76.2,
            "bin_end": 79.6,
            "count": 0
           },
           {
            "bin_start": 79.6,
            "bin_end": 83,
            "count": 2
           },
           {
            "bin_start": 83,
            "bin_end": 86.4,
            "count": 1
           },
           {
            "bin_start": 86.4,
            "bin_end": 89.8,
            "count": 0
           },
           {
            "bin_start": 89.8,
            "bin_end": 93.2,
            "count": 1
           },
           {
            "bin_start": 93.2,
            "bin_end": 96.6,
            "count": 2
           },
           {
            "bin_start": 96.6,
            "bin_end": 100,
            "count": 1
           }
          ]
         }
        },
        {
         "name": "Director",
         "dtype": "object",
         "stats": {
          "unique_count": 8,
          "nan_count": 0,
          "categories": [
           {
            "name": "Christopher Nolan",
            "count": 2
           },
           {
            "name": "Peter Jackson",
            "count": 2
           },
           {
            "name": "6 others",
            "count": 6
           }
          ]
         }
        },
        {
         "name": "Star1",
         "dtype": "object",
         "stats": {
          "unique_count": 9,
          "nan_count": 0,
          "categories": [
           {
            "name": "Elijah Wood",
            "count": 2
           },
           {
            "name": "Tim Robbins",
            "count": 1
           },
           {
            "name": "7 others",
            "count": 7
           }
          ]
         }
        },
        {
         "name": "Star2",
         "dtype": "object",
         "stats": {
          "unique_count": 10,
          "nan_count": 0,
          "categories": [
           {
            "name": "Morgan Freeman",
            "count": 1
           },
           {
            "name": "Heath Ledger",
            "count": 1
           },
           {
            "name": "8 others",
            "count": 8
           }
          ]
         }
        },
        {
         "name": "Star3",
         "dtype": "object",
         "stats": {
          "unique_count": 10,
          "nan_count": 0,
          "categories": [
           {
            "name": "Bob Gunton",
            "count": 1
           },
           {
            "name": "Aaron Eckhart",
            "count": 1
           },
           {
            "name": "8 others",
            "count": 8
           }
          ]
         }
        },
        {
         "name": "Star4",
         "dtype": "object",
         "stats": {
          "unique_count": 10,
          "nan_count": 0,
          "categories": [
           {
            "name": "William Sadler",
            "count": 1
           },
           {
            "name": "Michael Caine",
            "count": 1
           },
           {
            "name": "8 others",
            "count": 8
           }
          ]
         }
        },
        {
         "name": "No_of_Votes",
         "dtype": "int64",
         "stats": {
          "unique_count": 10,
          "nan_count": 0,
          "min": "1620367",
          "max": "2343110",
          "histogram": [
           {
            "bin_start": 1620367,
            "bin_end": 1692641.3,
            "count": 4
           },
           {
            "bin_start": 1692641.3,
            "bin_end": 1764915.6,
            "count": 0
           },
           {
            "bin_start": 1764915.6,
            "bin_end": 1837189.9,
            "count": 2
           },
           {
            "bin_start": 1837189.9,
            "bin_end": 1909464.2,
            "count": 1
           },
           {
            "bin_start": 1909464.2,
            "bin_end": 1981738.5,
            "count": 0
           },
           {
            "bin_start": 1981738.5,
            "bin_end": 2054012.8,
            "count": 0
           },
           {
            "bin_start": 2054012.8,
            "bin_end": 2126287.1,
            "count": 1
           },
           {
            "bin_start": 2126287.1,
            "bin_end": 2198561.4,
            "count": 0
           },
           {
            "bin_start": 2198561.4,
            "bin_end": 2270835.7,
            "count": 0
           },
           {
            "bin_start": 2270835.7,
            "bin_end": 2343110,
            "count": 2
           }
          ]
         }
        },
        {
         "name": "Gross",
         "dtype": "object",
         "stats": {
          "unique_count": 10,
          "nan_count": 0,
          "categories": [
           {
            "name": "28,341,469",
            "count": 1
           },
           {
            "name": "534,858,444",
            "count": 1
           },
           {
            "name": "8 others",
            "count": 8
           }
          ]
         }
        },
        {
         "name": "_deepnote_index_column",
         "dtype": "int64"
        }
       ],
       "rows": [
        {
         "Poster_Link": "https://m.media-amazon.com/images/M/MV5BMDFkYTc0MGEtZmNhMC00ZDIzLWFmNTEtODM1ZmRlYWMwMWFmXkEyXkFqcGdeQXVyMTMxODk2OTU@._V1_UX67_CR0,0,67,98_AL_.jpg",
         "Series_Title": "The Shawshank Redemption",
         "Released_Year": "1994",
         "Certificate": "A",
         "Runtime": "142 min",
         "Genre": "Drama",
         "IMDB_Rating": 9.3,
         "Overview": "Two imprisoned men bond over a number of years, finding solace and eventual redemption through acts of common decency.",
         "Meta_score": 80,
         "Director": "Frank Darabont",
         "Star1": "Tim Robbins",
         "Star2": "Morgan Freeman",
         "Star3": "Bob Gunton",
         "Star4": "William Sadler",
         "No_of_Votes": 2343110,
         "Gross": "28,341,469",
         "_deepnote_index_column": 0
        },
        {
         "Poster_Link": "https://m.media-amazon.com/images/M/MV5BMTMxNTMwODM0NF5BMl5BanBnXkFtZTcwODAyMTk2Mw@@._V1_UX67_CR0,0,67,98_AL_.jpg",
         "Series_Title": "The Dark Knight",
         "Released_Year": "2008",
         "Certificate": "UA",
         "Runtime": "152 min",
         "Genre": "Action, Crime, Drama",
         "IMDB_Rating": 9,
         "Overview": "When the menace known as the Joker wreaks havoc and chaos on the people of Gotham, Batman must accept one of the greatest psychological and physical tests of his ability to fight injustice.",
         "Meta_score": 84,
         "Director": "Christopher Nolan",
         "Star1": "Christian Bale",
         "Star2": "Heath Ledger",
         "Star3": "Aaron Eckhart",
         "Star4": "Michael Caine",
         "No_of_Votes": 2303232,
         "Gross": "534,858,444",
         "_deepnote_index_column": 2
        },
        {
         "Poster_Link": "https://m.media-amazon.com/images/M/MV5BMjAxMzY3NjcxNF5BMl5BanBnXkFtZTcwNTI5OTM0Mw@@._V1_UX67_CR0,0,67,98_AL_.jpg",
         "Series_Title": "Inception",
         "Released_Year": "2010",
         "Certificate": "UA",
         "Runtime": "148 min",
         "Genre": "Action, Adventure, Sci-Fi",
         "IMDB_Rating": 8.8,
         "Overview": "A thief who steals corporate secrets through the use of dream-sharing technology is given the inverse task of planting an idea into the mind of a C.E.O.",
         "Meta_score": 74,
         "Director": "Christopher Nolan",
         "Star1": "Leonardo DiCaprio",
         "Star2": "Joseph Gordon-Levitt",
         "Star3": "Elliot Page",
         "Star4": "Ken Watanabe",
         "No_of_Votes": 2067042,
         "Gross": "292,576,195",
         "_deepnote_index_column": 8
        },
        {
         "Poster_Link": "https://m.media-amazon.com/images/M/MV5BMmEzNTkxYjQtZTc0MC00YTVjLTg5ZTEtZWMwOWVlYzY0NWIwXkEyXkFqcGdeQXVyNzkwMjQ5NzM@._V1_UX67_CR0,0,67,98_AL_.jpg",
         "Series_Title": "Fight Club",
         "Released_Year": "1999",
         "Certificate": "A",
         "Runtime": "139 min",
         "Genre": "Drama",
         "IMDB_Rating": 8.8,
         "Overview": "An insomniac office worker and a devil-may-care soapmaker form an underground fight club that evolves into something much, much more.",
         "Meta_score": 66,
         "Director": "David Fincher",
         "Star1": "Brad Pitt",
         "Star2": "Edward Norton",
         "Star3": "Meat Loaf",
         "Star4": "Zach Grenier",
         "No_of_Votes": 1854740,
         "Gross": "37,030,102",
         "_deepnote_index_column": 9
        },
        {
         "Poster_Link": "https://m.media-amazon.com/images/M/MV5BNGNhMDIzZTUtNTBlZi00MTRlLWFjM2ItYzViMjE3YzI5MjljXkEyXkFqcGdeQXVyNzkwMjQ5NzM@._V1_UY98_CR0,0,67,98_AL_.jpg",
         "Series_Title": "Pulp Fiction",
         "Released_Year": "1994",
         "Certificate": "A",
         "Runtime": "154 min",
         "Genre": "Crime, Drama",
         "IMDB_Rating": 8.9,
         "Overview": "The lives of two mob hitmen, a boxer, a gangster and his wife, and a pair of diner bandits intertwine in four tales of violence and redemption.",
         "Meta_score": 94,
         "Director": "Quentin Tarantino",
         "Star1": "John Travolta",
         "Star2": "Uma Thurman",
         "Star3": "Samuel L. Jackson",
         "Star4": "Bruce Willis",
         "No_of_Votes": 1826188,
         "Gross": "107,928,762",
         "_deepnote_index_column": 6
        },
        {
         "Poster_Link": "https://m.media-amazon.com/images/M/MV5BNWIwODRlZTUtY2U3ZS00Yzg1LWJhNzYtMmZiYmEyNmU1NjMzXkEyXkFqcGdeQXVyMTQxNzMzNDI@._V1_UY98_CR0,0,67,98_AL_.jpg",
         "Series_Title": "Forrest Gump",
         "Released_Year": "1994",
         "Certificate": "UA",
         "Runtime": "142 min",
         "Genre": "Drama, Romance",
         "IMDB_Rating": 8.8,
         "Overview": "The presidencies of Kennedy and Johnson, the events of Vietnam, Watergate and other historical events unfold through the perspective of an Alabama man with an IQ of 75, whose only desire is to be reunited with his childhood sweetheart.",
         "Meta_score": 82,
         "Director": "Robert Zemeckis",
         "Star1": "Tom Hanks",
         "Star2": "Robin Wright",
         "Star3": "Gary Sinise",
         "Star4": "Sally Field",
         "No_of_Votes": 1809221,
         "Gross": "330,252,182",
         "_deepnote_index_column": 11
        },
        {
         "Poster_Link": "https://m.media-amazon.com/images/M/MV5BNzQzOTk3OTAtNDQ0Zi00ZTVkLWI0MTEtMDllZjNkYzNjNTc4L2ltYWdlXkEyXkFqcGdeQXVyNjU0OTQ0OTY@._V1_UX67_CR0,0,67,98_AL_.jpg",
         "Series_Title": "The Matrix",
         "Released_Year": "1999",
         "Certificate": "A",
         "Runtime": "136 min",
         "Genre": "Action, Sci-Fi",
         "IMDB_Rating": 8.7,
         "Overview": "When a beautiful stranger leads computer hacker Neo to a forbidding underworld, he discovers the shocking truth--the life he knows is the elaborate deception of an evil cyber-intelligence.",
         "Meta_score": 73,
         "Director": "Lana Wachowski",
         "Star1": "Lilly Wachowski",
         "Star2": "Keanu Reeves",
         "Star3": "Laurence Fishburne",
         "Star4": "Carrie-Anne Moss",
         "No_of_Votes": 1676426,
         "Gross": "171,479,930",
         "_deepnote_index_column": 14
        },
        {
         "Poster_Link": "https://m.media-amazon.com/images/M/MV5BN2EyZjM3NzUtNWUzMi00MTgxLWI0NTctMzY4M2VlOTdjZWRiXkEyXkFqcGdeQXVyNDUzOTQ5MjY@._V1_UX67_CR0,0,67,98_AL_.jpg",
         "Series_Title": "The Lord of the Rings: The Fellowship of the Ring",
         "Released_Year": "2001",
         "Certificate": "U",
         "Runtime": "178 min",
         "Genre": "Action, Adventure, Drama",
         "IMDB_Rating": 8.8,
         "Overview": "A meek Hobbit from the Shire and eight companions set out on a journey to destroy the powerful One Ring and save Middle-earth from the Dark Lord Sauron.",
         "Meta_score": 92,
         "Director": "Peter Jackson",
         "Star1": "Elijah Wood",
         "Star2": "Ian McKellen",
         "Star3": "Orlando Bloom",
         "Star4": "Sean Bean",
         "No_of_Votes": 1661481,
         "Gross": "315,544,750",
         "_deepnote_index_column": 10
        },
        {
         "Poster_Link": "https://m.media-amazon.com/images/M/MV5BNzA5ZDNlZWMtM2NhNS00NDJjLTk4NDItYTRmY2EwMWZlMTY3XkEyXkFqcGdeQXVyNzkwMjQ5NzM@._V1_UX67_CR0,0,67,98_AL_.jpg",
         "Series_Title": "The Lord of the Rings: The Return of the King",
         "Released_Year": "2003",
         "Certificate": "U",
         "Runtime": "201 min",
         "Genre": "Action, Adventure, Drama",
         "IMDB_Rating": 8.9,
         "Overview": "Gandalf and Aragorn lead the World of Men against Sauron's army to draw his gaze from Frodo and Sam as they approach Mount Doom with the One Ring.",
         "Meta_score": 94,
         "Director": "Peter Jackson",
         "Star1": "Elijah Wood",
         "Star2": "Viggo Mortensen",
         "Star3": "Ian McKellen",
         "Star4": "Orlando Bloom",
         "No_of_Votes": 1642758,
         "Gross": "377,845,905",
         "_deepnote_index_column": 5
        },
        {
         "Poster_Link": "https://m.media-amazon.com/images/M/MV5BM2MyNjYxNmUtYTAwNi00MTYxLWJmNWYtYzZlODY3ZTk3OTFlXkEyXkFqcGdeQXVyNzkwMjQ5NzM@._V1_UY98_CR1,0,67,98_AL_.jpg",
         "Series_Title": "The Godfather",
         "Released_Year": "1972",
         "Certificate": "A",
         "Runtime": "175 min",
         "Genre": "Crime, Drama",
         "IMDB_Rating": 9.2,
         "Overview": "An organized crime dynasty's aging patriarch transfers control of his clandestine empire to his reluctant son.",
         "Meta_score": 100,
         "Director": "Francis Ford Coppola",
         "Star1": "Marlon Brando",
         "Star2": "Al Pacino",
         "Star3": "James Caan",
         "Star4": "Diane Keaton",
         "No_of_Votes": 1620367,
         "Gross": "134,966,411",
         "_deepnote_index_column": 1
        }
       ]
      },
      "text/plain": "                                          Poster_Link  \\\n0   https://m.media-amazon.com/images/M/MV5BMDFkYT...   \n2   https://m.media-amazon.com/images/M/MV5BMTMxNT...   \n8   https://m.media-amazon.com/images/M/MV5BMjAxMz...   \n9   https://m.media-amazon.com/images/M/MV5BMmEzNT...   \n6   https://m.media-amazon.com/images/M/MV5BNGNhMD...   \n11  https://m.media-amazon.com/images/M/MV5BNWIwOD...   \n14  https://m.media-amazon.com/images/M/MV5BNzQzOT...   \n10  https://m.media-amazon.com/images/M/MV5BN2EyZj...   \n5   https://m.media-amazon.com/images/M/MV5BNzA5ZD...   \n1   https://m.media-amazon.com/images/M/MV5BM2MyNj...   \n\n                                         Series_Title Released_Year  \\\n0                            The Shawshank Redemption          1994   \n2                                     The Dark Knight          2008   \n8                                           Inception          2010   \n9                                          Fight Club          1999   \n6                                        Pulp Fiction          1994   \n11                                       Forrest Gump          1994   \n14                                         The Matrix          1999   \n10  The Lord of the Rings: The Fellowship of the Ring          2001   \n5       The Lord of the Rings: The Return of the King          2003   \n1                                       The Godfather          1972   \n\n   Certificate  Runtime                      Genre  IMDB_Rating  \\\n0            A  142 min                      Drama          9.3   \n2           UA  152 min       Action, Crime, Drama          9.0   \n8           UA  148 min  Action, Adventure, Sci-Fi          8.8   \n9            A  139 min                      Drama          8.8   \n6            A  154 min               Crime, Drama          8.9   \n11          UA  142 min             Drama, Romance          8.8   \n14           A  136 min             Action, Sci-Fi          8.7   \n10           U  178 min   Action, Adventure, Drama          8.8   \n5            U  201 min   Action, Adventure, Drama          8.9   \n1            A  175 min               Crime, Drama          9.2   \n\n                                             Overview  Meta_score  \\\n0   Two imprisoned men bond over a number of years...        80.0   \n2   When the menace known as the Joker wreaks havo...        84.0   \n8   A thief who steals corporate secrets through t...        74.0   \n9   An insomniac office worker and a devil-may-car...        66.0   \n6   The lives of two mob hitmen, a boxer, a gangst...        94.0   \n11  The presidencies of Kennedy and Johnson, the e...        82.0   \n14  When a beautiful stranger leads computer hacke...        73.0   \n10  A meek Hobbit from the Shire and eight compani...        92.0   \n5   Gandalf and Aragorn lead the World of Men agai...        94.0   \n1   An organized crime dynasty's aging patriarch t...       100.0   \n\n                Director              Star1                 Star2  \\\n0         Frank Darabont        Tim Robbins        Morgan Freeman   \n2      Christopher Nolan     Christian Bale          Heath Ledger   \n8      Christopher Nolan  Leonardo DiCaprio  Joseph Gordon-Levitt   \n9          David Fincher          Brad Pitt         Edward Norton   \n6      Quentin Tarantino      John Travolta           Uma Thurman   \n11       Robert Zemeckis          Tom Hanks          Robin Wright   \n14        Lana Wachowski    Lilly Wachowski          Keanu Reeves   \n10         Peter Jackson        Elijah Wood          Ian McKellen   \n5          Peter Jackson        Elijah Wood       Viggo Mortensen   \n1   Francis Ford Coppola      Marlon Brando             Al Pacino   \n\n                 Star3             Star4  No_of_Votes        Gross  \n0           Bob Gunton    William Sadler      2343110   28,341,469  \n2        Aaron Eckhart     Michael Caine      2303232  534,858,444  \n8          Elliot Page      Ken Watanabe      2067042  292,576,195  \n9            Meat Loaf      Zach Grenier      1854740   37,030,102  \n6    Samuel L. Jackson      Bruce Willis      1826188  107,928,762  \n11         Gary Sinise       Sally Field      1809221  330,252,182  \n14  Laurence Fishburne  Carrie-Anne Moss      1676426  171,479,930  \n10       Orlando Bloom         Sean Bean      1661481  315,544,750  \n5         Ian McKellen     Orlando Bloom      1642758  377,845,905  \n1           James Caan      Diane Keaton      1620367  134,966,411  ",
      "text/html": "<div>\n<style scoped>\n    .dataframe tbody tr th:only-of-type {\n        vertical-align: middle;\n    }\n\n    .dataframe tbody tr th {\n        vertical-align: top;\n    }\n\n    .dataframe thead th {\n        text-align: right;\n    }\n</style>\n<table border=\"1\" class=\"dataframe\">\n  <thead>\n    <tr style=\"text-align: right;\">\n      <th></th>\n      <th>Poster_Link</th>\n      <th>Series_Title</th>\n      <th>Released_Year</th>\n      <th>Certificate</th>\n      <th>Runtime</th>\n      <th>Genre</th>\n      <th>IMDB_Rating</th>\n      <th>Overview</th>\n      <th>Meta_score</th>\n      <th>Director</th>\n      <th>Star1</th>\n      <th>Star2</th>\n      <th>Star3</th>\n      <th>Star4</th>\n      <th>No_of_Votes</th>\n      <th>Gross</th>\n    </tr>\n  </thead>\n  <tbody>\n    <tr>\n      <th>0</th>\n      <td>https://m.media-amazon.com/images/M/MV5BMDFkYT...</td>\n      <td>The Shawshank Redemption</td>\n      <td>1994</td>\n      <td>A</td>\n      <td>142 min</td>\n      <td>Drama</td>\n      <td>9.3</td>\n      <td>Two imprisoned men bond over a number of years...</td>\n      <td>80.0</td>\n      <td>Frank Darabont</td>\n      <td>Tim Robbins</td>\n      <td>Morgan Freeman</td>\n      <td>Bob Gunton</td>\n      <td>William Sadler</td>\n      <td>2343110</td>\n      <td>28,341,469</td>\n    </tr>\n    <tr>\n      <th>2</th>\n      <td>https://m.media-amazon.com/images/M/MV5BMTMxNT...</td>\n      <td>The Dark Knight</td>\n      <td>2008</td>\n      <td>UA</td>\n      <td>152 min</td>\n      <td>Action, Crime, Drama</td>\n      <td>9.0</td>\n      <td>When the menace known as the Joker wreaks havo...</td>\n      <td>84.0</td>\n      <td>Christopher Nolan</td>\n      <td>Christian Bale</td>\n      <td>Heath Ledger</td>\n      <td>Aaron Eckhart</td>\n      <td>Michael Caine</td>\n      <td>2303232</td>\n      <td>534,858,444</td>\n    </tr>\n    <tr>\n      <th>8</th>\n      <td>https://m.media-amazon.com/images/M/MV5BMjAxMz...</td>\n      <td>Inception</td>\n      <td>2010</td>\n      <td>UA</td>\n      <td>148 min</td>\n      <td>Action, Adventure, Sci-Fi</td>\n      <td>8.8</td>\n      <td>A thief who steals corporate secrets through t...</td>\n      <td>74.0</td>\n      <td>Christopher Nolan</td>\n      <td>Leonardo DiCaprio</td>\n      <td>Joseph Gordon-Levitt</td>\n      <td>Elliot Page</td>\n      <td>Ken Watanabe</td>\n      <td>2067042</td>\n      <td>292,576,195</td>\n    </tr>\n    <tr>\n      <th>9</th>\n      <td>https://m.media-amazon.com/images/M/MV5BMmEzNT...</td>\n      <td>Fight Club</td>\n      <td>1999</td>\n      <td>A</td>\n      <td>139 min</td>\n      <td>Drama</td>\n      <td>8.8</td>\n      <td>An insomniac office worker and a devil-may-car...</td>\n      <td>66.0</td>\n      <td>David Fincher</td>\n      <td>Brad Pitt</td>\n      <td>Edward Norton</td>\n      <td>Meat Loaf</td>\n      <td>Zach Grenier</td>\n      <td>1854740</td>\n      <td>37,030,102</td>\n    </tr>\n    <tr>\n      <th>6</th>\n      <td>https://m.media-amazon.com/images/M/MV5BNGNhMD...</td>\n      <td>Pulp Fiction</td>\n      <td>1994</td>\n      <td>A</td>\n      <td>154 min</td>\n      <td>Crime, Drama</td>\n      <td>8.9</td>\n      <td>The lives of two mob hitmen, a boxer, a gangst...</td>\n      <td>94.0</td>\n      <td>Quentin Tarantino</td>\n      <td>John Travolta</td>\n      <td>Uma Thurman</td>\n      <td>Samuel L. Jackson</td>\n      <td>Bruce Willis</td>\n      <td>1826188</td>\n      <td>107,928,762</td>\n    </tr>\n    <tr>\n      <th>11</th>\n      <td>https://m.media-amazon.com/images/M/MV5BNWIwOD...</td>\n      <td>Forrest Gump</td>\n      <td>1994</td>\n      <td>UA</td>\n      <td>142 min</td>\n      <td>Drama, Romance</td>\n      <td>8.8</td>\n      <td>The presidencies of Kennedy and Johnson, the e...</td>\n      <td>82.0</td>\n      <td>Robert Zemeckis</td>\n      <td>Tom Hanks</td>\n      <td>Robin Wright</td>\n      <td>Gary Sinise</td>\n      <td>Sally Field</td>\n      <td>1809221</td>\n      <td>330,252,182</td>\n    </tr>\n    <tr>\n      <th>14</th>\n      <td>https://m.media-amazon.com/images/M/MV5BNzQzOT...</td>\n      <td>The Matrix</td>\n      <td>1999</td>\n      <td>A</td>\n      <td>136 min</td>\n      <td>Action, Sci-Fi</td>\n      <td>8.7</td>\n      <td>When a beautiful stranger leads computer hacke...</td>\n      <td>73.0</td>\n      <td>Lana Wachowski</td>\n      <td>Lilly Wachowski</td>\n      <td>Keanu Reeves</td>\n      <td>Laurence Fishburne</td>\n      <td>Carrie-Anne Moss</td>\n      <td>1676426</td>\n      <td>171,479,930</td>\n    </tr>\n    <tr>\n      <th>10</th>\n      <td>https://m.media-amazon.com/images/M/MV5BN2EyZj...</td>\n      <td>The Lord of the Rings: The Fellowship of the Ring</td>\n      <td>2001</td>\n      <td>U</td>\n      <td>178 min</td>\n      <td>Action, Adventure, Drama</td>\n      <td>8.8</td>\n      <td>A meek Hobbit from the Shire and eight compani...</td>\n      <td>92.0</td>\n      <td>Peter Jackson</td>\n      <td>Elijah Wood</td>\n      <td>Ian McKellen</td>\n      <td>Orlando Bloom</td>\n      <td>Sean Bean</td>\n      <td>1661481</td>\n      <td>315,544,750</td>\n    </tr>\n    <tr>\n      <th>5</th>\n      <td>https://m.media-amazon.com/images/M/MV5BNzA5ZD...</td>\n      <td>The Lord of the Rings: The Return of the King</td>\n      <td>2003</td>\n      <td>U</td>\n      <td>201 min</td>\n      <td>Action, Adventure, Drama</td>\n      <td>8.9</td>\n      <td>Gandalf and Aragorn lead the World of Men agai...</td>\n      <td>94.0</td>\n      <td>Peter Jackson</td>\n      <td>Elijah Wood</td>\n      <td>Viggo Mortensen</td>\n      <td>Ian McKellen</td>\n      <td>Orlando Bloom</td>\n      <td>1642758</td>\n      <td>377,845,905</td>\n    </tr>\n    <tr>\n      <th>1</th>\n      <td>https://m.media-amazon.com/images/M/MV5BM2MyNj...</td>\n      <td>The Godfather</td>\n      <td>1972</td>\n      <td>A</td>\n      <td>175 min</td>\n      <td>Crime, Drama</td>\n      <td>9.2</td>\n      <td>An organized crime dynasty's aging patriarch t...</td>\n      <td>100.0</td>\n      <td>Francis Ford Coppola</td>\n      <td>Marlon Brando</td>\n      <td>Al Pacino</td>\n      <td>James Caan</td>\n      <td>Diane Keaton</td>\n      <td>1620367</td>\n      <td>134,966,411</td>\n    </tr>\n  </tbody>\n</table>\n</div>"
     },
     "metadata": {}
    }
   ]
  },
  {
   "cell_type": "code",
   "metadata": {
    "cell_id": "5007cf6e-cd1c-47d8-aeaf-fc564ab74b99",
    "tags": [],
    "deepnote_to_be_reexecuted": false,
    "source_hash": "c7222c95",
    "execution_start": 1651338335945,
    "execution_millis": 72,
    "deepnote_cell_type": "code",
    "deepnote_cell_height": 600
   },
   "source": "mov.nlargest(10,columns=['IMDB_Rating'])",
   "execution_count": 6,
   "outputs": [
    {
     "output_type": "execute_result",
     "execution_count": 6,
     "data": {
      "application/vnd.deepnote.dataframe.v3+json": {
       "column_count": 16,
       "row_count": 10,
       "columns": [
        {
         "name": "Poster_Link",
         "dtype": "object",
         "stats": {
          "unique_count": 10,
          "nan_count": 0,
          "categories": [
           {
            "name": "https://m.media-amazon.com/images/M/MV5BMDFkYTc0MGEtZmNhMC00ZDIzLWFmNTEtODM1ZmRlYWMwMWFmXkEyXkFqcGdeQXVyMTMxODk2OTU@._V1_UX67_CR0,0,67,98_AL_.jpg",
            "count": 1
           },
           {
            "name": "https://m.media-amazon.com/images/M/MV5BM2MyNjYxNmUtYTAwNi00MTYxLWJmNWYtYzZlODY3ZTk3OTFlXkEyXkFqcGdeQXVyNzkwMjQ5NzM@._V1_UY98_CR1,0,67,98_AL_.jpg",
            "count": 1
           },
           {
            "name": "8 others",
            "count": 8
           }
          ]
         }
        },
        {
         "name": "Series_Title",
         "dtype": "object",
         "stats": {
          "unique_count": 10,
          "nan_count": 0,
          "categories": [
           {
            "name": "The Shawshank Redemption",
            "count": 1
           },
           {
            "name": "The Godfather",
            "count": 1
           },
           {
            "name": "8 others",
            "count": 8
           }
          ]
         }
        },
        {
         "name": "Released_Year",
         "dtype": "object",
         "stats": {
          "unique_count": 9,
          "nan_count": 0,
          "categories": [
           {
            "name": "1994",
            "count": 2
           },
           {
            "name": "1972",
            "count": 1
           },
           {
            "name": "7 others",
            "count": 7
           }
          ]
         }
        },
        {
         "name": "Certificate",
         "dtype": "object",
         "stats": {
          "unique_count": 3,
          "nan_count": 0,
          "categories": [
           {
            "name": "A",
            "count": 6
           },
           {
            "name": "UA",
            "count": 2
           },
           {
            "name": "U",
            "count": 2
           }
          ]
         }
        },
        {
         "name": "Runtime",
         "dtype": "object",
         "stats": {
          "unique_count": 10,
          "nan_count": 0,
          "categories": [
           {
            "name": "142 min",
            "count": 1
           },
           {
            "name": "175 min",
            "count": 1
           },
           {
            "name": "8 others",
            "count": 8
           }
          ]
         }
        },
        {
         "name": "Genre",
         "dtype": "object",
         "stats": {
          "unique_count": 6,
          "nan_count": 0,
          "categories": [
           {
            "name": "Crime, Drama",
            "count": 4
           },
           {
            "name": "Drama",
            "count": 2
           },
           {
            "name": "4 others",
            "count": 4
           }
          ]
         }
        },
        {
         "name": "IMDB_Rating",
         "dtype": "float64",
         "stats": {
          "unique_count": 5,
          "nan_count": 0,
          "min": "8.8",
          "max": "9.3",
          "histogram": [
           {
            "bin_start": 8.8,
            "bin_end": 8.850000000000001,
            "count": 2
           },
           {
            "bin_start": 8.850000000000001,
            "bin_end": 8.9,
            "count": 0
           },
           {
            "bin_start": 8.9,
            "bin_end": 8.950000000000001,
            "count": 3
           },
           {
            "bin_start": 8.950000000000001,
            "bin_end": 9,
            "count": 0
           },
           {
            "bin_start": 9,
            "bin_end": 9.05,
            "count": 3
           },
           {
            "bin_start": 9.05,
            "bin_end": 9.100000000000001,
            "count": 0
           },
           {
            "bin_start": 9.100000000000001,
            "bin_end": 9.15,
            "count": 0
           },
           {
            "bin_start": 9.15,
            "bin_end": 9.200000000000001,
            "count": 1
           },
           {
            "bin_start": 9.200000000000001,
            "bin_end": 9.25,
            "count": 0
           },
           {
            "bin_start": 9.25,
            "bin_end": 9.3,
            "count": 1
           }
          ]
         }
        },
        {
         "name": "Overview",
         "dtype": "object",
         "stats": {
          "unique_count": 10,
          "nan_count": 0,
          "categories": [
           {
            "name": "Two imprisoned men bond over a number of years, finding solace and eventual redemption through acts of common decency.",
            "count": 1
           },
           {
            "name": "An organized crime dynasty's aging patriarch transfers control of his clandestine empire to his reluctant son.",
            "count": 1
           },
           {
            "name": "8 others",
            "count": 8
           }
          ]
         }
        },
        {
         "name": "Meta_score",
         "dtype": "float64",
         "stats": {
          "unique_count": 8,
          "nan_count": 0,
          "min": "66.0",
          "max": "100.0",
          "histogram": [
           {
            "bin_start": 66,
            "bin_end": 69.4,
            "count": 1
           },
           {
            "bin_start": 69.4,
            "bin_end": 72.8,
            "count": 0
           },
           {
            "bin_start": 72.8,
            "bin_end": 76.2,
            "count": 1
           },
           {
            "bin_start": 76.2,
            "bin_end": 79.6,
            "count": 0
           },
           {
            "bin_start": 79.6,
            "bin_end": 83,
            "count": 1
           },
           {
            "bin_start": 83,
            "bin_end": 86.4,
            "count": 1
           },
           {
            "bin_start": 86.4,
            "bin_end": 89.8,
            "count": 0
           },
           {
            "bin_start": 89.8,
            "bin_end": 93.2,
            "count": 1
           },
           {
            "bin_start": 93.2,
            "bin_end": 96.6,
            "count": 4
           },
           {
            "bin_start": 96.6,
            "bin_end": 100,
            "count": 1
           }
          ]
         }
        },
        {
         "name": "Director",
         "dtype": "object",
         "stats": {
          "unique_count": 8,
          "nan_count": 0,
          "categories": [
           {
            "name": "Francis Ford Coppola",
            "count": 2
           },
           {
            "name": "Christopher Nolan",
            "count": 2
           },
           {
            "name": "6 others",
            "count": 6
           }
          ]
         }
        },
        {
         "name": "Star1",
         "dtype": "object",
         "stats": {
          "unique_count": 10,
          "nan_count": 0,
          "categories": [
           {
            "name": "Tim Robbins",
            "count": 1
           },
           {
            "name": "Marlon Brando",
            "count": 1
           },
           {
            "name": "8 others",
            "count": 8
           }
          ]
         }
        },
        {
         "name": "Star2",
         "dtype": "object",
         "stats": {
          "unique_count": 10,
          "nan_count": 0,
          "categories": [
           {
            "name": "Morgan Freeman",
            "count": 1
           },
           {
            "name": "Al Pacino",
            "count": 1
           },
           {
            "name": "8 others",
            "count": 8
           }
          ]
         }
        },
        {
         "name": "Star3",
         "dtype": "object",
         "stats": {
          "unique_count": 10,
          "nan_count": 0,
          "categories": [
           {
            "name": "Bob Gunton",
            "count": 1
           },
           {
            "name": "James Caan",
            "count": 1
           },
           {
            "name": "8 others",
            "count": 8
           }
          ]
         }
        },
        {
         "name": "Star4",
         "dtype": "object",
         "stats": {
          "unique_count": 9,
          "nan_count": 0,
          "categories": [
           {
            "name": "Diane Keaton",
            "count": 2
           },
           {
            "name": "William Sadler",
            "count": 1
           },
           {
            "name": "7 others",
            "count": 7
           }
          ]
         }
        },
        {
         "name": "No_of_Votes",
         "dtype": "int64",
         "stats": {
          "unique_count": 10,
          "nan_count": 0,
          "min": "689845",
          "max": "2343110",
          "histogram": [
           {
            "bin_start": 689845,
            "bin_end": 855171.5,
            "count": 1
           },
           {
            "bin_start": 855171.5,
            "bin_end": 1020498,
            "count": 0
           },
           {
            "bin_start": 1020498,
            "bin_end": 1185824.5,
            "count": 1
           },
           {
            "bin_start": 1185824.5,
            "bin_end": 1351151,
            "count": 1
           },
           {
            "bin_start": 1351151,
            "bin_end": 1516477.5,
            "count": 0
           },
           {
            "bin_start": 1516477.5,
            "bin_end": 1681804,
            "count": 2
           },
           {
            "bin_start": 1681804,
            "bin_end": 1847130.5,
            "count": 1
           },
           {
            "bin_start": 1847130.5,
            "bin_end": 2012457,
            "count": 1
           },
           {
            "bin_start": 2012457,
            "bin_end": 2177783.5,
            "count": 1
           },
           {
            "bin_start": 2177783.5,
            "bin_end": 2343110,
            "count": 2
           }
          ]
         }
        },
        {
         "name": "Gross",
         "dtype": "object",
         "stats": {
          "unique_count": 10,
          "nan_count": 0,
          "categories": [
           {
            "name": "28,341,469",
            "count": 1
           },
           {
            "name": "134,966,411",
            "count": 1
           },
           {
            "name": "8 others",
            "count": 8
           }
          ]
         }
        },
        {
         "name": "_deepnote_index_column",
         "dtype": "int64"
        }
       ],
       "rows": [
        {
         "Poster_Link": "https://m.media-amazon.com/images/M/MV5BMDFkYTc0MGEtZmNhMC00ZDIzLWFmNTEtODM1ZmRlYWMwMWFmXkEyXkFqcGdeQXVyMTMxODk2OTU@._V1_UX67_CR0,0,67,98_AL_.jpg",
         "Series_Title": "The Shawshank Redemption",
         "Released_Year": "1994",
         "Certificate": "A",
         "Runtime": "142 min",
         "Genre": "Drama",
         "IMDB_Rating": 9.3,
         "Overview": "Two imprisoned men bond over a number of years, finding solace and eventual redemption through acts of common decency.",
         "Meta_score": 80,
         "Director": "Frank Darabont",
         "Star1": "Tim Robbins",
         "Star2": "Morgan Freeman",
         "Star3": "Bob Gunton",
         "Star4": "William Sadler",
         "No_of_Votes": 2343110,
         "Gross": "28,341,469",
         "_deepnote_index_column": 0
        },
        {
         "Poster_Link": "https://m.media-amazon.com/images/M/MV5BM2MyNjYxNmUtYTAwNi00MTYxLWJmNWYtYzZlODY3ZTk3OTFlXkEyXkFqcGdeQXVyNzkwMjQ5NzM@._V1_UY98_CR1,0,67,98_AL_.jpg",
         "Series_Title": "The Godfather",
         "Released_Year": "1972",
         "Certificate": "A",
         "Runtime": "175 min",
         "Genre": "Crime, Drama",
         "IMDB_Rating": 9.2,
         "Overview": "An organized crime dynasty's aging patriarch transfers control of his clandestine empire to his reluctant son.",
         "Meta_score": 100,
         "Director": "Francis Ford Coppola",
         "Star1": "Marlon Brando",
         "Star2": "Al Pacino",
         "Star3": "James Caan",
         "Star4": "Diane Keaton",
         "No_of_Votes": 1620367,
         "Gross": "134,966,411",
         "_deepnote_index_column": 1
        },
        {
         "Poster_Link": "https://m.media-amazon.com/images/M/MV5BMTMxNTMwODM0NF5BMl5BanBnXkFtZTcwODAyMTk2Mw@@._V1_UX67_CR0,0,67,98_AL_.jpg",
         "Series_Title": "The Dark Knight",
         "Released_Year": "2008",
         "Certificate": "UA",
         "Runtime": "152 min",
         "Genre": "Action, Crime, Drama",
         "IMDB_Rating": 9,
         "Overview": "When the menace known as the Joker wreaks havoc and chaos on the people of Gotham, Batman must accept one of the greatest psychological and physical tests of his ability to fight injustice.",
         "Meta_score": 84,
         "Director": "Christopher Nolan",
         "Star1": "Christian Bale",
         "Star2": "Heath Ledger",
         "Star3": "Aaron Eckhart",
         "Star4": "Michael Caine",
         "No_of_Votes": 2303232,
         "Gross": "534,858,444",
         "_deepnote_index_column": 2
        },
        {
         "Poster_Link": "https://m.media-amazon.com/images/M/MV5BMWMwMGQzZTItY2JlNC00OWZiLWIyMDctNDk2ZDQ2YjRjMWQ0XkEyXkFqcGdeQXVyNzkwMjQ5NzM@._V1_UY98_CR1,0,67,98_AL_.jpg",
         "Series_Title": "The Godfather: Part II",
         "Released_Year": "1974",
         "Certificate": "A",
         "Runtime": "202 min",
         "Genre": "Crime, Drama",
         "IMDB_Rating": 9,
         "Overview": "The early life and career of Vito Corleone in 1920s New York City is portrayed, while his son, Michael, expands and tightens his grip on the family crime syndicate.",
         "Meta_score": 90,
         "Director": "Francis Ford Coppola",
         "Star1": "Al Pacino",
         "Star2": "Robert De Niro",
         "Star3": "Robert Duvall",
         "Star4": "Diane Keaton",
         "No_of_Votes": 1129952,
         "Gross": "57,300,000",
         "_deepnote_index_column": 3
        },
        {
         "Poster_Link": "https://m.media-amazon.com/images/M/MV5BMWU4N2FjNzYtNTVkNC00NzQ0LTg0MjAtYTJlMjFhNGUxZDFmXkEyXkFqcGdeQXVyNjc1NTYyMjg@._V1_UX67_CR0,0,67,98_AL_.jpg",
         "Series_Title": "12 Angry Men",
         "Released_Year": "1957",
         "Certificate": "U",
         "Runtime": "96 min",
         "Genre": "Crime, Drama",
         "IMDB_Rating": 9,
         "Overview": "A jury holdout attempts to prevent a miscarriage of justice by forcing his colleagues to reconsider the evidence.",
         "Meta_score": 96,
         "Director": "Sidney Lumet",
         "Star1": "Henry Fonda",
         "Star2": "Lee J. Cobb",
         "Star3": "Martin Balsam",
         "Star4": "John Fiedler",
         "No_of_Votes": 689845,
         "Gross": "4,360,000",
         "_deepnote_index_column": 4
        },
        {
         "Poster_Link": "https://m.media-amazon.com/images/M/MV5BNzA5ZDNlZWMtM2NhNS00NDJjLTk4NDItYTRmY2EwMWZlMTY3XkEyXkFqcGdeQXVyNzkwMjQ5NzM@._V1_UX67_CR0,0,67,98_AL_.jpg",
         "Series_Title": "The Lord of the Rings: The Return of the King",
         "Released_Year": "2003",
         "Certificate": "U",
         "Runtime": "201 min",
         "Genre": "Action, Adventure, Drama",
         "IMDB_Rating": 8.9,
         "Overview": "Gandalf and Aragorn lead the World of Men against Sauron's army to draw his gaze from Frodo and Sam as they approach Mount Doom with the One Ring.",
         "Meta_score": 94,
         "Director": "Peter Jackson",
         "Star1": "Elijah Wood",
         "Star2": "Viggo Mortensen",
         "Star3": "Ian McKellen",
         "Star4": "Orlando Bloom",
         "No_of_Votes": 1642758,
         "Gross": "377,845,905",
         "_deepnote_index_column": 5
        },
        {
         "Poster_Link": "https://m.media-amazon.com/images/M/MV5BNGNhMDIzZTUtNTBlZi00MTRlLWFjM2ItYzViMjE3YzI5MjljXkEyXkFqcGdeQXVyNzkwMjQ5NzM@._V1_UY98_CR0,0,67,98_AL_.jpg",
         "Series_Title": "Pulp Fiction",
         "Released_Year": "1994",
         "Certificate": "A",
         "Runtime": "154 min",
         "Genre": "Crime, Drama",
         "IMDB_Rating": 8.9,
         "Overview": "The lives of two mob hitmen, a boxer, a gangster and his wife, and a pair of diner bandits intertwine in four tales of violence and redemption.",
         "Meta_score": 94,
         "Director": "Quentin Tarantino",
         "Star1": "John Travolta",
         "Star2": "Uma Thurman",
         "Star3": "Samuel L. Jackson",
         "Star4": "Bruce Willis",
         "No_of_Votes": 1826188,
         "Gross": "107,928,762",
         "_deepnote_index_column": 6
        },
        {
         "Poster_Link": "https://m.media-amazon.com/images/M/MV5BNDE4OTMxMTctNmRhYy00NWE2LTg3YzItYTk3M2UwOTU5Njg4XkEyXkFqcGdeQXVyNjU0OTQ0OTY@._V1_UX67_CR0,0,67,98_AL_.jpg",
         "Series_Title": "Schindler's List",
         "Released_Year": "1993",
         "Certificate": "A",
         "Runtime": "195 min",
         "Genre": "Biography, Drama, History",
         "IMDB_Rating": 8.9,
         "Overview": "In German-occupied Poland during World War II, industrialist Oskar Schindler gradually becomes concerned for his Jewish workforce after witnessing their persecution by the Nazis.",
         "Meta_score": 94,
         "Director": "Steven Spielberg",
         "Star1": "Liam Neeson",
         "Star2": "Ralph Fiennes",
         "Star3": "Ben Kingsley",
         "Star4": "Caroline Goodall",
         "No_of_Votes": 1213505,
         "Gross": "96,898,818",
         "_deepnote_index_column": 7
        },
        {
         "Poster_Link": "https://m.media-amazon.com/images/M/MV5BMjAxMzY3NjcxNF5BMl5BanBnXkFtZTcwNTI5OTM0Mw@@._V1_UX67_CR0,0,67,98_AL_.jpg",
         "Series_Title": "Inception",
         "Released_Year": "2010",
         "Certificate": "UA",
         "Runtime": "148 min",
         "Genre": "Action, Adventure, Sci-Fi",
         "IMDB_Rating": 8.8,
         "Overview": "A thief who steals corporate secrets through the use of dream-sharing technology is given the inverse task of planting an idea into the mind of a C.E.O.",
         "Meta_score": 74,
         "Director": "Christopher Nolan",
         "Star1": "Leonardo DiCaprio",
         "Star2": "Joseph Gordon-Levitt",
         "Star3": "Elliot Page",
         "Star4": "Ken Watanabe",
         "No_of_Votes": 2067042,
         "Gross": "292,576,195",
         "_deepnote_index_column": 8
        },
        {
         "Poster_Link": "https://m.media-amazon.com/images/M/MV5BMmEzNTkxYjQtZTc0MC00YTVjLTg5ZTEtZWMwOWVlYzY0NWIwXkEyXkFqcGdeQXVyNzkwMjQ5NzM@._V1_UX67_CR0,0,67,98_AL_.jpg",
         "Series_Title": "Fight Club",
         "Released_Year": "1999",
         "Certificate": "A",
         "Runtime": "139 min",
         "Genre": "Drama",
         "IMDB_Rating": 8.8,
         "Overview": "An insomniac office worker and a devil-may-care soapmaker form an underground fight club that evolves into something much, much more.",
         "Meta_score": 66,
         "Director": "David Fincher",
         "Star1": "Brad Pitt",
         "Star2": "Edward Norton",
         "Star3": "Meat Loaf",
         "Star4": "Zach Grenier",
         "No_of_Votes": 1854740,
         "Gross": "37,030,102",
         "_deepnote_index_column": 9
        }
       ]
      },
      "text/plain": "                                         Poster_Link  \\\n0  https://m.media-amazon.com/images/M/MV5BMDFkYT...   \n1  https://m.media-amazon.com/images/M/MV5BM2MyNj...   \n2  https://m.media-amazon.com/images/M/MV5BMTMxNT...   \n3  https://m.media-amazon.com/images/M/MV5BMWMwMG...   \n4  https://m.media-amazon.com/images/M/MV5BMWU4N2...   \n5  https://m.media-amazon.com/images/M/MV5BNzA5ZD...   \n6  https://m.media-amazon.com/images/M/MV5BNGNhMD...   \n7  https://m.media-amazon.com/images/M/MV5BNDE4OT...   \n8  https://m.media-amazon.com/images/M/MV5BMjAxMz...   \n9  https://m.media-amazon.com/images/M/MV5BMmEzNT...   \n\n                                    Series_Title Released_Year Certificate  \\\n0                       The Shawshank Redemption          1994           A   \n1                                  The Godfather          1972           A   \n2                                The Dark Knight          2008          UA   \n3                         The Godfather: Part II          1974           A   \n4                                   12 Angry Men          1957           U   \n5  The Lord of the Rings: The Return of the King          2003           U   \n6                                   Pulp Fiction          1994           A   \n7                               Schindler's List          1993           A   \n8                                      Inception          2010          UA   \n9                                     Fight Club          1999           A   \n\n   Runtime                      Genre  IMDB_Rating  \\\n0  142 min                      Drama          9.3   \n1  175 min               Crime, Drama          9.2   \n2  152 min       Action, Crime, Drama          9.0   \n3  202 min               Crime, Drama          9.0   \n4   96 min               Crime, Drama          9.0   \n5  201 min   Action, Adventure, Drama          8.9   \n6  154 min               Crime, Drama          8.9   \n7  195 min  Biography, Drama, History          8.9   \n8  148 min  Action, Adventure, Sci-Fi          8.8   \n9  139 min                      Drama          8.8   \n\n                                            Overview  Meta_score  \\\n0  Two imprisoned men bond over a number of years...        80.0   \n1  An organized crime dynasty's aging patriarch t...       100.0   \n2  When the menace known as the Joker wreaks havo...        84.0   \n3  The early life and career of Vito Corleone in ...        90.0   \n4  A jury holdout attempts to prevent a miscarria...        96.0   \n5  Gandalf and Aragorn lead the World of Men agai...        94.0   \n6  The lives of two mob hitmen, a boxer, a gangst...        94.0   \n7  In German-occupied Poland during World War II,...        94.0   \n8  A thief who steals corporate secrets through t...        74.0   \n9  An insomniac office worker and a devil-may-car...        66.0   \n\n               Director              Star1                 Star2  \\\n0        Frank Darabont        Tim Robbins        Morgan Freeman   \n1  Francis Ford Coppola      Marlon Brando             Al Pacino   \n2     Christopher Nolan     Christian Bale          Heath Ledger   \n3  Francis Ford Coppola          Al Pacino        Robert De Niro   \n4          Sidney Lumet        Henry Fonda           Lee J. Cobb   \n5         Peter Jackson        Elijah Wood       Viggo Mortensen   \n6     Quentin Tarantino      John Travolta           Uma Thurman   \n7      Steven Spielberg        Liam Neeson         Ralph Fiennes   \n8     Christopher Nolan  Leonardo DiCaprio  Joseph Gordon-Levitt   \n9         David Fincher          Brad Pitt         Edward Norton   \n\n               Star3             Star4  No_of_Votes        Gross  \n0         Bob Gunton    William Sadler      2343110   28,341,469  \n1         James Caan      Diane Keaton      1620367  134,966,411  \n2      Aaron Eckhart     Michael Caine      2303232  534,858,444  \n3      Robert Duvall      Diane Keaton      1129952   57,300,000  \n4      Martin Balsam      John Fiedler       689845    4,360,000  \n5       Ian McKellen     Orlando Bloom      1642758  377,845,905  \n6  Samuel L. Jackson      Bruce Willis      1826188  107,928,762  \n7       Ben Kingsley  Caroline Goodall      1213505   96,898,818  \n8        Elliot Page      Ken Watanabe      2067042  292,576,195  \n9          Meat Loaf      Zach Grenier      1854740   37,030,102  ",
      "text/html": "<div>\n<style scoped>\n    .dataframe tbody tr th:only-of-type {\n        vertical-align: middle;\n    }\n\n    .dataframe tbody tr th {\n        vertical-align: top;\n    }\n\n    .dataframe thead th {\n        text-align: right;\n    }\n</style>\n<table border=\"1\" class=\"dataframe\">\n  <thead>\n    <tr style=\"text-align: right;\">\n      <th></th>\n      <th>Poster_Link</th>\n      <th>Series_Title</th>\n      <th>Released_Year</th>\n      <th>Certificate</th>\n      <th>Runtime</th>\n      <th>Genre</th>\n      <th>IMDB_Rating</th>\n      <th>Overview</th>\n      <th>Meta_score</th>\n      <th>Director</th>\n      <th>Star1</th>\n      <th>Star2</th>\n      <th>Star3</th>\n      <th>Star4</th>\n      <th>No_of_Votes</th>\n      <th>Gross</th>\n    </tr>\n  </thead>\n  <tbody>\n    <tr>\n      <th>0</th>\n      <td>https://m.media-amazon.com/images/M/MV5BMDFkYT...</td>\n      <td>The Shawshank Redemption</td>\n      <td>1994</td>\n      <td>A</td>\n      <td>142 min</td>\n      <td>Drama</td>\n      <td>9.3</td>\n      <td>Two imprisoned men bond over a number of years...</td>\n      <td>80.0</td>\n      <td>Frank Darabont</td>\n      <td>Tim Robbins</td>\n      <td>Morgan Freeman</td>\n      <td>Bob Gunton</td>\n      <td>William Sadler</td>\n      <td>2343110</td>\n      <td>28,341,469</td>\n    </tr>\n    <tr>\n      <th>1</th>\n      <td>https://m.media-amazon.com/images/M/MV5BM2MyNj...</td>\n      <td>The Godfather</td>\n      <td>1972</td>\n      <td>A</td>\n      <td>175 min</td>\n      <td>Crime, Drama</td>\n      <td>9.2</td>\n      <td>An organized crime dynasty's aging patriarch t...</td>\n      <td>100.0</td>\n      <td>Francis Ford Coppola</td>\n      <td>Marlon Brando</td>\n      <td>Al Pacino</td>\n      <td>James Caan</td>\n      <td>Diane Keaton</td>\n      <td>1620367</td>\n      <td>134,966,411</td>\n    </tr>\n    <tr>\n      <th>2</th>\n      <td>https://m.media-amazon.com/images/M/MV5BMTMxNT...</td>\n      <td>The Dark Knight</td>\n      <td>2008</td>\n      <td>UA</td>\n      <td>152 min</td>\n      <td>Action, Crime, Drama</td>\n      <td>9.0</td>\n      <td>When the menace known as the Joker wreaks havo...</td>\n      <td>84.0</td>\n      <td>Christopher Nolan</td>\n      <td>Christian Bale</td>\n      <td>Heath Ledger</td>\n      <td>Aaron Eckhart</td>\n      <td>Michael Caine</td>\n      <td>2303232</td>\n      <td>534,858,444</td>\n    </tr>\n    <tr>\n      <th>3</th>\n      <td>https://m.media-amazon.com/images/M/MV5BMWMwMG...</td>\n      <td>The Godfather: Part II</td>\n      <td>1974</td>\n      <td>A</td>\n      <td>202 min</td>\n      <td>Crime, Drama</td>\n      <td>9.0</td>\n      <td>The early life and career of Vito Corleone in ...</td>\n      <td>90.0</td>\n      <td>Francis Ford Coppola</td>\n      <td>Al Pacino</td>\n      <td>Robert De Niro</td>\n      <td>Robert Duvall</td>\n      <td>Diane Keaton</td>\n      <td>1129952</td>\n      <td>57,300,000</td>\n    </tr>\n    <tr>\n      <th>4</th>\n      <td>https://m.media-amazon.com/images/M/MV5BMWU4N2...</td>\n      <td>12 Angry Men</td>\n      <td>1957</td>\n      <td>U</td>\n      <td>96 min</td>\n      <td>Crime, Drama</td>\n      <td>9.0</td>\n      <td>A jury holdout attempts to prevent a miscarria...</td>\n      <td>96.0</td>\n      <td>Sidney Lumet</td>\n      <td>Henry Fonda</td>\n      <td>Lee J. Cobb</td>\n      <td>Martin Balsam</td>\n      <td>John Fiedler</td>\n      <td>689845</td>\n      <td>4,360,000</td>\n    </tr>\n    <tr>\n      <th>5</th>\n      <td>https://m.media-amazon.com/images/M/MV5BNzA5ZD...</td>\n      <td>The Lord of the Rings: The Return of the King</td>\n      <td>2003</td>\n      <td>U</td>\n      <td>201 min</td>\n      <td>Action, Adventure, Drama</td>\n      <td>8.9</td>\n      <td>Gandalf and Aragorn lead the World of Men agai...</td>\n      <td>94.0</td>\n      <td>Peter Jackson</td>\n      <td>Elijah Wood</td>\n      <td>Viggo Mortensen</td>\n      <td>Ian McKellen</td>\n      <td>Orlando Bloom</td>\n      <td>1642758</td>\n      <td>377,845,905</td>\n    </tr>\n    <tr>\n      <th>6</th>\n      <td>https://m.media-amazon.com/images/M/MV5BNGNhMD...</td>\n      <td>Pulp Fiction</td>\n      <td>1994</td>\n      <td>A</td>\n      <td>154 min</td>\n      <td>Crime, Drama</td>\n      <td>8.9</td>\n      <td>The lives of two mob hitmen, a boxer, a gangst...</td>\n      <td>94.0</td>\n      <td>Quentin Tarantino</td>\n      <td>John Travolta</td>\n      <td>Uma Thurman</td>\n      <td>Samuel L. Jackson</td>\n      <td>Bruce Willis</td>\n      <td>1826188</td>\n      <td>107,928,762</td>\n    </tr>\n    <tr>\n      <th>7</th>\n      <td>https://m.media-amazon.com/images/M/MV5BNDE4OT...</td>\n      <td>Schindler's List</td>\n      <td>1993</td>\n      <td>A</td>\n      <td>195 min</td>\n      <td>Biography, Drama, History</td>\n      <td>8.9</td>\n      <td>In German-occupied Poland during World War II,...</td>\n      <td>94.0</td>\n      <td>Steven Spielberg</td>\n      <td>Liam Neeson</td>\n      <td>Ralph Fiennes</td>\n      <td>Ben Kingsley</td>\n      <td>Caroline Goodall</td>\n      <td>1213505</td>\n      <td>96,898,818</td>\n    </tr>\n    <tr>\n      <th>8</th>\n      <td>https://m.media-amazon.com/images/M/MV5BMjAxMz...</td>\n      <td>Inception</td>\n      <td>2010</td>\n      <td>UA</td>\n      <td>148 min</td>\n      <td>Action, Adventure, Sci-Fi</td>\n      <td>8.8</td>\n      <td>A thief who steals corporate secrets through t...</td>\n      <td>74.0</td>\n      <td>Christopher Nolan</td>\n      <td>Leonardo DiCaprio</td>\n      <td>Joseph Gordon-Levitt</td>\n      <td>Elliot Page</td>\n      <td>Ken Watanabe</td>\n      <td>2067042</td>\n      <td>292,576,195</td>\n    </tr>\n    <tr>\n      <th>9</th>\n      <td>https://m.media-amazon.com/images/M/MV5BMmEzNT...</td>\n      <td>Fight Club</td>\n      <td>1999</td>\n      <td>A</td>\n      <td>139 min</td>\n      <td>Drama</td>\n      <td>8.8</td>\n      <td>An insomniac office worker and a devil-may-car...</td>\n      <td>66.0</td>\n      <td>David Fincher</td>\n      <td>Brad Pitt</td>\n      <td>Edward Norton</td>\n      <td>Meat Loaf</td>\n      <td>Zach Grenier</td>\n      <td>1854740</td>\n      <td>37,030,102</td>\n    </tr>\n  </tbody>\n</table>\n</div>"
     },
     "metadata": {}
    }
   ]
  },
  {
   "cell_type": "markdown",
   "source": "### Practicing with the Data via CSV",
   "metadata": {
    "cell_id": "6e955879-8482-4bc7-bdfe-b37b62efb7c2",
    "tags": [],
    "is_collapsed": false,
    "deepnote_cell_type": "text-cell-h3"
   }
  },
  {
   "cell_type": "code",
   "source": "mov.Gross.value_counts(dropna=False) #count different values including NaN for column Gross",
   "metadata": {
    "cell_id": "c61566a3ba0143759c6bc14900604cf0",
    "tags": [],
    "deepnote_to_be_reexecuted": false,
    "source_hash": "f23400c8",
    "execution_start": 1651338336019,
    "execution_millis": 2,
    "deepnote_cell_type": "code",
    "deepnote_cell_height": 329.28125,
    "deepnote_output_heights": [
     232.296875
    ]
   },
   "outputs": [
    {
     "output_type": "execute_result",
     "execution_count": 7,
     "data": {
      "text/plain": "NaN            169\n4,360,000        5\n25,000,000       2\n5,321,508        2\n9,600,000        2\n              ... \n51,081,062       1\n13,657,115       1\n2,375,308        1\n171,243,005      1\n208,545,589      1\nName: Gross, Length: 824, dtype: int64"
     },
     "metadata": {}
    }
   ],
   "execution_count": 7
  },
  {
   "cell_type": "code",
   "source": "mov.dropna() #removes all records with at least one column missing",
   "metadata": {
    "cell_id": "7dbf81790aad4689b1bff220e0b3cbe3",
    "tags": [],
    "deepnote_to_be_reexecuted": false,
    "source_hash": "8c29dc56",
    "execution_start": 1651338336071,
    "execution_millis": 29,
    "deepnote_cell_type": "code",
    "deepnote_cell_height": 600
   },
   "outputs": [
    {
     "output_type": "execute_result",
     "execution_count": 8,
     "data": {
      "application/vnd.deepnote.dataframe.v3+json": {
       "column_count": 16,
       "row_count": 714,
       "columns": [
        {
         "name": "Poster_Link",
         "dtype": "object",
         "stats": {
          "unique_count": 714,
          "nan_count": 0,
          "categories": [
           {
            "name": "https://m.media-amazon.com/images/M/MV5BMDFkYTc0MGEtZmNhMC00ZDIzLWFmNTEtODM1ZmRlYWMwMWFmXkEyXkFqcGdeQXVyMTMxODk2OTU@._V1_UX67_CR0,0,67,98_AL_.jpg",
            "count": 1
           },
           {
            "name": "https://m.media-amazon.com/images/M/MV5BM2MyNjYxNmUtYTAwNi00MTYxLWJmNWYtYzZlODY3ZTk3OTFlXkEyXkFqcGdeQXVyNzkwMjQ5NzM@._V1_UY98_CR1,0,67,98_AL_.jpg",
            "count": 1
           },
           {
            "name": "712 others",
            "count": 712
           }
          ]
         }
        },
        {
         "name": "Series_Title",
         "dtype": "object",
         "stats": {
          "unique_count": 714,
          "nan_count": 0,
          "categories": [
           {
            "name": "The Shawshank Redemption",
            "count": 1
           },
           {
            "name": "The Godfather",
            "count": 1
           },
           {
            "name": "712 others",
            "count": 712
           }
          ]
         }
        },
        {
         "name": "Released_Year",
         "dtype": "object",
         "stats": {
          "unique_count": 83,
          "nan_count": 0,
          "categories": [
           {
            "name": "2014",
            "count": 28
           },
           {
            "name": "2004",
            "count": 27
           },
           {
            "name": "81 others",
            "count": 659
           }
          ]
         }
        },
        {
         "name": "Certificate",
         "dtype": "object",
         "stats": {
          "unique_count": 12,
          "nan_count": 0,
          "categories": [
           {
            "name": "U",
            "count": 183
           },
           {
            "name": "A",
            "count": 174
           },
           {
            "name": "10 others",
            "count": 357
           }
          ]
         }
        },
        {
         "name": "Runtime",
         "dtype": "object",
         "stats": {
          "unique_count": 118,
          "nan_count": 0,
          "categories": [
           {
            "name": "130 min",
            "count": 20
           },
           {
            "name": "101 min",
            "count": 18
           },
           {
            "name": "116 others",
            "count": 676
           }
          ]
         }
        },
        {
         "name": "Genre",
         "dtype": "object",
         "stats": {
          "unique_count": 172,
          "nan_count": 0,
          "categories": [
           {
            "name": "Drama",
            "count": 58
           },
           {
            "name": "Drama, Romance",
            "count": 26
           },
           {
            "name": "170 others",
            "count": 630
           }
          ]
         }
        },
        {
         "name": "IMDB_Rating",
         "dtype": "float64",
         "stats": {
          "unique_count": 17,
          "nan_count": 0,
          "min": "7.6",
          "max": "9.3",
          "histogram": [
           {
            "bin_start": 7.6,
            "bin_end": 7.77,
            "count": 228
           },
           {
            "bin_start": 7.77,
            "bin_end": 7.9399999999999995,
            "count": 184
           },
           {
            "bin_start": 7.9399999999999995,
            "bin_end": 8.11,
            "count": 169
           },
           {
            "bin_start": 8.11,
            "bin_end": 8.28,
            "count": 32
           },
           {
            "bin_start": 8.28,
            "bin_end": 8.45,
            "count": 53
           },
           {
            "bin_start": 8.45,
            "bin_end": 8.620000000000001,
            "count": 30
           },
           {
            "bin_start": 8.620000000000001,
            "bin_end": 8.790000000000001,
            "count": 5
           },
           {
            "bin_start": 8.790000000000001,
            "bin_end": 8.96,
            "count": 8
           },
           {
            "bin_start": 8.96,
            "bin_end": 9.13,
            "count": 3
           },
           {
            "bin_start": 9.13,
            "bin_end": 9.3,
            "count": 2
           }
          ]
         }
        },
        {
         "name": "Overview",
         "dtype": "object",
         "stats": {
          "unique_count": 714,
          "nan_count": 0,
          "categories": [
           {
            "name": "Two imprisoned men bond over a number of years, finding solace and eventual redemption through acts of common decency.",
            "count": 1
           },
           {
            "name": "An organized crime dynasty's aging patriarch transfers control of his clandestine empire to his reluctant son.",
            "count": 1
           },
           {
            "name": "712 others",
            "count": 712
           }
          ]
         }
        },
        {
         "name": "Meta_score",
         "dtype": "float64",
         "stats": {
          "unique_count": 63,
          "nan_count": 0,
          "min": "28.0",
          "max": "100.0",
          "histogram": [
           {
            "bin_start": 28,
            "bin_end": 35.2,
            "count": 3
           },
           {
            "bin_start": 35.2,
            "bin_end": 42.4,
            "count": 3
           },
           {
            "bin_start": 42.4,
            "bin_end": 49.6,
            "count": 13
           },
           {
            "bin_start": 49.6,
            "bin_end": 56.8,
            "count": 24
           },
           {
            "bin_start": 56.8,
            "bin_end": 64,
            "count": 46
           },
           {
            "bin_start": 64,
            "bin_end": 71.2,
            "count": 118
           },
           {
            "bin_start": 71.2,
            "bin_end": 78.4,
            "count": 161
           },
           {
            "bin_start": 78.4,
            "bin_end": 85.6,
            "count": 156
           },
           {
            "bin_start": 85.6,
            "bin_end": 92.8,
            "count": 117
           },
           {
            "bin_start": 92.8,
            "bin_end": 100,
            "count": 73
           }
          ]
         }
        },
        {
         "name": "Director",
         "dtype": "object",
         "stats": {
          "unique_count": 402,
          "nan_count": 0,
          "categories": [
           {
            "name": "Steven Spielberg",
            "count": 13
           },
           {
            "name": "Martin Scorsese",
            "count": 10
           },
           {
            "name": "400 others",
            "count": 691
           }
          ]
         }
        },
        {
         "name": "Star1",
         "dtype": "object",
         "stats": {
          "unique_count": 472,
          "nan_count": 0,
          "categories": [
           {
            "name": "Tom Hanks",
            "count": 12
           },
           {
            "name": "Al Pacino",
            "count": 10
           },
           {
            "name": "470 others",
            "count": 692
           }
          ]
         }
        },
        {
         "name": "Star2",
         "dtype": "object",
         "stats": {
          "unique_count": 599,
          "nan_count": 0,
          "categories": [
           {
            "name": "Emma Watson",
            "count": 7
           },
           {
            "name": "Matt Damon",
            "count": 5
           },
           {
            "name": "597 others",
            "count": 702
           }
          ]
         }
        },
        {
         "name": "Star3",
         "dtype": "object",
         "stats": {
          "unique_count": 626,
          "nan_count": 0,
          "categories": [
           {
            "name": "Rupert Grint",
            "count": 5
           },
           {
            "name": "Samuel L. Jackson",
            "count": 4
           },
           {
            "name": "624 others",
            "count": 705
           }
          ]
         }
        },
        {
         "name": "Star4",
         "dtype": "object",
         "stats": {
          "unique_count": 671,
          "nan_count": 0,
          "categories": [
           {
            "name": "Michael Caine",
            "count": 4
           },
           {
            "name": "Mark Ruffalo",
            "count": 3
           },
           {
            "name": "669 others",
            "count": 707
           }
          ]
         }
        },
        {
         "name": "No_of_Votes",
         "dtype": "int64",
         "stats": {
          "unique_count": 714,
          "nan_count": 0,
          "min": "25229",
          "max": "2343110",
          "histogram": [
           {
            "bin_start": 25229,
            "bin_end": 257017.1,
            "count": 381
           },
           {
            "bin_start": 257017.1,
            "bin_end": 488805.2,
            "count": 146
           },
           {
            "bin_start": 488805.2,
            "bin_end": 720593.3,
            "count": 94
           },
           {
            "bin_start": 720593.3,
            "bin_end": 952381.4,
            "count": 47
           },
           {
            "bin_start": 952381.4,
            "bin_end": 1184169.5,
            "count": 20
           },
           {
            "bin_start": 1184169.5,
            "bin_end": 1415957.6,
            "count": 12
           },
           {
            "bin_start": 1415957.6,
            "bin_end": 1647745.7,
            "count": 6
           },
           {
            "bin_start": 1647745.7,
            "bin_end": 1879533.8,
            "count": 5
           },
           {
            "bin_start": 1879533.8,
            "bin_end": 2111321.9000000004,
            "count": 1
           },
           {
            "bin_start": 2111321.9000000004,
            "bin_end": 2343110,
            "count": 2
           }
          ]
         }
        },
        {
         "name": "Gross",
         "dtype": "object",
         "stats": {
          "unique_count": 710,
          "nan_count": 0,
          "categories": [
           {
            "name": "4,360,000",
            "count": 3
           },
           {
            "name": "25,000,000",
            "count": 2
           },
           {
            "name": "708 others",
            "count": 709
           }
          ]
         }
        },
        {
         "name": "_deepnote_index_column",
         "dtype": "int64"
        }
       ],
       "rows": [
        {
         "Poster_Link": "https://m.media-amazon.com/images/M/MV5BMDFkYTc0MGEtZmNhMC00ZDIzLWFmNTEtODM1ZmRlYWMwMWFmXkEyXkFqcGdeQXVyMTMxODk2OTU@._V1_UX67_CR0,0,67,98_AL_.jpg",
         "Series_Title": "The Shawshank Redemption",
         "Released_Year": "1994",
         "Certificate": "A",
         "Runtime": "142 min",
         "Genre": "Drama",
         "IMDB_Rating": 9.3,
         "Overview": "Two imprisoned men bond over a number of years, finding solace and eventual redemption through acts of common decency.",
         "Meta_score": 80,
         "Director": "Frank Darabont",
         "Star1": "Tim Robbins",
         "Star2": "Morgan Freeman",
         "Star3": "Bob Gunton",
         "Star4": "William Sadler",
         "No_of_Votes": 2343110,
         "Gross": "28,341,469",
         "_deepnote_index_column": 0
        },
        {
         "Poster_Link": "https://m.media-amazon.com/images/M/MV5BM2MyNjYxNmUtYTAwNi00MTYxLWJmNWYtYzZlODY3ZTk3OTFlXkEyXkFqcGdeQXVyNzkwMjQ5NzM@._V1_UY98_CR1,0,67,98_AL_.jpg",
         "Series_Title": "The Godfather",
         "Released_Year": "1972",
         "Certificate": "A",
         "Runtime": "175 min",
         "Genre": "Crime, Drama",
         "IMDB_Rating": 9.2,
         "Overview": "An organized crime dynasty's aging patriarch transfers control of his clandestine empire to his reluctant son.",
         "Meta_score": 100,
         "Director": "Francis Ford Coppola",
         "Star1": "Marlon Brando",
         "Star2": "Al Pacino",
         "Star3": "James Caan",
         "Star4": "Diane Keaton",
         "No_of_Votes": 1620367,
         "Gross": "134,966,411",
         "_deepnote_index_column": 1
        },
        {
         "Poster_Link": "https://m.media-amazon.com/images/M/MV5BMTMxNTMwODM0NF5BMl5BanBnXkFtZTcwODAyMTk2Mw@@._V1_UX67_CR0,0,67,98_AL_.jpg",
         "Series_Title": "The Dark Knight",
         "Released_Year": "2008",
         "Certificate": "UA",
         "Runtime": "152 min",
         "Genre": "Action, Crime, Drama",
         "IMDB_Rating": 9,
         "Overview": "When the menace known as the Joker wreaks havoc and chaos on the people of Gotham, Batman must accept one of the greatest psychological and physical tests of his ability to fight injustice.",
         "Meta_score": 84,
         "Director": "Christopher Nolan",
         "Star1": "Christian Bale",
         "Star2": "Heath Ledger",
         "Star3": "Aaron Eckhart",
         "Star4": "Michael Caine",
         "No_of_Votes": 2303232,
         "Gross": "534,858,444",
         "_deepnote_index_column": 2
        },
        {
         "Poster_Link": "https://m.media-amazon.com/images/M/MV5BMWMwMGQzZTItY2JlNC00OWZiLWIyMDctNDk2ZDQ2YjRjMWQ0XkEyXkFqcGdeQXVyNzkwMjQ5NzM@._V1_UY98_CR1,0,67,98_AL_.jpg",
         "Series_Title": "The Godfather: Part II",
         "Released_Year": "1974",
         "Certificate": "A",
         "Runtime": "202 min",
         "Genre": "Crime, Drama",
         "IMDB_Rating": 9,
         "Overview": "The early life and career of Vito Corleone in 1920s New York City is portrayed, while his son, Michael, expands and tightens his grip on the family crime syndicate.",
         "Meta_score": 90,
         "Director": "Francis Ford Coppola",
         "Star1": "Al Pacino",
         "Star2": "Robert De Niro",
         "Star3": "Robert Duvall",
         "Star4": "Diane Keaton",
         "No_of_Votes": 1129952,
         "Gross": "57,300,000",
         "_deepnote_index_column": 3
        },
        {
         "Poster_Link": "https://m.media-amazon.com/images/M/MV5BMWU4N2FjNzYtNTVkNC00NzQ0LTg0MjAtYTJlMjFhNGUxZDFmXkEyXkFqcGdeQXVyNjc1NTYyMjg@._V1_UX67_CR0,0,67,98_AL_.jpg",
         "Series_Title": "12 Angry Men",
         "Released_Year": "1957",
         "Certificate": "U",
         "Runtime": "96 min",
         "Genre": "Crime, Drama",
         "IMDB_Rating": 9,
         "Overview": "A jury holdout attempts to prevent a miscarriage of justice by forcing his colleagues to reconsider the evidence.",
         "Meta_score": 96,
         "Director": "Sidney Lumet",
         "Star1": "Henry Fonda",
         "Star2": "Lee J. Cobb",
         "Star3": "Martin Balsam",
         "Star4": "John Fiedler",
         "No_of_Votes": 689845,
         "Gross": "4,360,000",
         "_deepnote_index_column": 4
        },
        {
         "Poster_Link": "https://m.media-amazon.com/images/M/MV5BNzA5ZDNlZWMtM2NhNS00NDJjLTk4NDItYTRmY2EwMWZlMTY3XkEyXkFqcGdeQXVyNzkwMjQ5NzM@._V1_UX67_CR0,0,67,98_AL_.jpg",
         "Series_Title": "The Lord of the Rings: The Return of the King",
         "Released_Year": "2003",
         "Certificate": "U",
         "Runtime": "201 min",
         "Genre": "Action, Adventure, Drama",
         "IMDB_Rating": 8.9,
         "Overview": "Gandalf and Aragorn lead the World of Men against Sauron's army to draw his gaze from Frodo and Sam as they approach Mount Doom with the One Ring.",
         "Meta_score": 94,
         "Director": "Peter Jackson",
         "Star1": "Elijah Wood",
         "Star2": "Viggo Mortensen",
         "Star3": "Ian McKellen",
         "Star4": "Orlando Bloom",
         "No_of_Votes": 1642758,
         "Gross": "377,845,905",
         "_deepnote_index_column": 5
        },
        {
         "Poster_Link": "https://m.media-amazon.com/images/M/MV5BNGNhMDIzZTUtNTBlZi00MTRlLWFjM2ItYzViMjE3YzI5MjljXkEyXkFqcGdeQXVyNzkwMjQ5NzM@._V1_UY98_CR0,0,67,98_AL_.jpg",
         "Series_Title": "Pulp Fiction",
         "Released_Year": "1994",
         "Certificate": "A",
         "Runtime": "154 min",
         "Genre": "Crime, Drama",
         "IMDB_Rating": 8.9,
         "Overview": "The lives of two mob hitmen, a boxer, a gangster and his wife, and a pair of diner bandits intertwine in four tales of violence and redemption.",
         "Meta_score": 94,
         "Director": "Quentin Tarantino",
         "Star1": "John Travolta",
         "Star2": "Uma Thurman",
         "Star3": "Samuel L. Jackson",
         "Star4": "Bruce Willis",
         "No_of_Votes": 1826188,
         "Gross": "107,928,762",
         "_deepnote_index_column": 6
        },
        {
         "Poster_Link": "https://m.media-amazon.com/images/M/MV5BNDE4OTMxMTctNmRhYy00NWE2LTg3YzItYTk3M2UwOTU5Njg4XkEyXkFqcGdeQXVyNjU0OTQ0OTY@._V1_UX67_CR0,0,67,98_AL_.jpg",
         "Series_Title": "Schindler's List",
         "Released_Year": "1993",
         "Certificate": "A",
         "Runtime": "195 min",
         "Genre": "Biography, Drama, History",
         "IMDB_Rating": 8.9,
         "Overview": "In German-occupied Poland during World War II, industrialist Oskar Schindler gradually becomes concerned for his Jewish workforce after witnessing their persecution by the Nazis.",
         "Meta_score": 94,
         "Director": "Steven Spielberg",
         "Star1": "Liam Neeson",
         "Star2": "Ralph Fiennes",
         "Star3": "Ben Kingsley",
         "Star4": "Caroline Goodall",
         "No_of_Votes": 1213505,
         "Gross": "96,898,818",
         "_deepnote_index_column": 7
        },
        {
         "Poster_Link": "https://m.media-amazon.com/images/M/MV5BMjAxMzY3NjcxNF5BMl5BanBnXkFtZTcwNTI5OTM0Mw@@._V1_UX67_CR0,0,67,98_AL_.jpg",
         "Series_Title": "Inception",
         "Released_Year": "2010",
         "Certificate": "UA",
         "Runtime": "148 min",
         "Genre": "Action, Adventure, Sci-Fi",
         "IMDB_Rating": 8.8,
         "Overview": "A thief who steals corporate secrets through the use of dream-sharing technology is given the inverse task of planting an idea into the mind of a C.E.O.",
         "Meta_score": 74,
         "Director": "Christopher Nolan",
         "Star1": "Leonardo DiCaprio",
         "Star2": "Joseph Gordon-Levitt",
         "Star3": "Elliot Page",
         "Star4": "Ken Watanabe",
         "No_of_Votes": 2067042,
         "Gross": "292,576,195",
         "_deepnote_index_column": 8
        },
        {
         "Poster_Link": "https://m.media-amazon.com/images/M/MV5BMmEzNTkxYjQtZTc0MC00YTVjLTg5ZTEtZWMwOWVlYzY0NWIwXkEyXkFqcGdeQXVyNzkwMjQ5NzM@._V1_UX67_CR0,0,67,98_AL_.jpg",
         "Series_Title": "Fight Club",
         "Released_Year": "1999",
         "Certificate": "A",
         "Runtime": "139 min",
         "Genre": "Drama",
         "IMDB_Rating": 8.8,
         "Overview": "An insomniac office worker and a devil-may-care soapmaker form an underground fight club that evolves into something much, much more.",
         "Meta_score": 66,
         "Director": "David Fincher",
         "Star1": "Brad Pitt",
         "Star2": "Edward Norton",
         "Star3": "Meat Loaf",
         "Star4": "Zach Grenier",
         "No_of_Votes": 1854740,
         "Gross": "37,030,102",
         "_deepnote_index_column": 9
        }
       ]
      },
      "text/plain": "                                           Poster_Link  \\\n0    https://m.media-amazon.com/images/M/MV5BMDFkYT...   \n1    https://m.media-amazon.com/images/M/MV5BM2MyNj...   \n2    https://m.media-amazon.com/images/M/MV5BMTMxNT...   \n3    https://m.media-amazon.com/images/M/MV5BMWMwMG...   \n4    https://m.media-amazon.com/images/M/MV5BMWU4N2...   \n..                                                 ...   \n990  https://m.media-amazon.com/images/M/MV5BYjRmY2...   \n991  https://m.media-amazon.com/images/M/MV5BMzAyND...   \n992  https://m.media-amazon.com/images/M/MV5BMjAwMT...   \n994  https://m.media-amazon.com/images/M/MV5BZjQyMG...   \n997  https://m.media-amazon.com/images/M/MV5BM2U3Yz...   \n\n                 Series_Title Released_Year Certificate  Runtime  \\\n0    The Shawshank Redemption          1994           A  142 min   \n1               The Godfather          1972           A  175 min   \n2             The Dark Knight          2008          UA  152 min   \n3      The Godfather: Part II          1974           A  202 min   \n4                12 Angry Men          1957           U   96 min   \n..                        ...           ...         ...      ...   \n990              Giù la testa          1971          PG  157 min   \n991            Kelly's Heroes          1970          GP  144 min   \n992           The Jungle Book          1967           U   78 min   \n994        A Hard Day's Night          1964           U   87 min   \n997     From Here to Eternity          1953      Passed  118 min   \n\n                            Genre  IMDB_Rating  \\\n0                           Drama          9.3   \n1                    Crime, Drama          9.2   \n2            Action, Crime, Drama          9.0   \n3                    Crime, Drama          9.0   \n4                    Crime, Drama          9.0   \n..                            ...          ...   \n990           Drama, War, Western          7.6   \n991        Adventure, Comedy, War          7.6   \n992  Animation, Adventure, Family          7.6   \n994        Comedy, Music, Musical          7.6   \n997           Drama, Romance, War          7.6   \n\n                                              Overview  Meta_score  \\\n0    Two imprisoned men bond over a number of years...        80.0   \n1    An organized crime dynasty's aging patriarch t...       100.0   \n2    When the menace known as the Joker wreaks havo...        84.0   \n3    The early life and career of Vito Corleone in ...        90.0   \n4    A jury holdout attempts to prevent a miscarria...        96.0   \n..                                                 ...         ...   \n990  A low-life bandit and an I.R.A. explosives exp...        77.0   \n991  A group of U.S. soldiers sneaks across enemy l...        50.0   \n992  Bagheera the Panther and Baloo the Bear have a...        65.0   \n994  Over two \"typical\" days in the life of The Bea...        96.0   \n997  In Hawaii in 1941, a private is cruelly punish...        85.0   \n\n                 Director           Star1             Star2            Star3  \\\n0          Frank Darabont     Tim Robbins    Morgan Freeman       Bob Gunton   \n1    Francis Ford Coppola   Marlon Brando         Al Pacino       James Caan   \n2       Christopher Nolan  Christian Bale      Heath Ledger    Aaron Eckhart   \n3    Francis Ford Coppola       Al Pacino    Robert De Niro    Robert Duvall   \n4            Sidney Lumet     Henry Fonda       Lee J. Cobb    Martin Balsam   \n..                    ...             ...               ...              ...   \n990          Sergio Leone     Rod Steiger      James Coburn     Romolo Valli   \n991       Brian G. Hutton  Clint Eastwood     Telly Savalas      Don Rickles   \n992   Wolfgang Reitherman     Phil Harris   Sebastian Cabot      Louis Prima   \n994        Richard Lester     John Lennon    Paul McCartney  George Harrison   \n997        Fred Zinnemann  Burt Lancaster  Montgomery Clift     Deborah Kerr   \n\n                Star4  No_of_Votes        Gross  \n0      William Sadler      2343110   28,341,469  \n1        Diane Keaton      1620367  134,966,411  \n2       Michael Caine      2303232  534,858,444  \n3        Diane Keaton      1129952   57,300,000  \n4        John Fiedler       689845    4,360,000  \n..                ...          ...          ...  \n990       Maria Monti        30144      696,690  \n991  Carroll O'Connor        45338    1,378,435  \n992  Bruce Reitherman       166409  141,843,612  \n994       Ringo Starr        40351   13,780,024  \n997        Donna Reed        43374   30,500,000  \n\n[714 rows x 16 columns]",
      "text/html": "<div>\n<style scoped>\n    .dataframe tbody tr th:only-of-type {\n        vertical-align: middle;\n    }\n\n    .dataframe tbody tr th {\n        vertical-align: top;\n    }\n\n    .dataframe thead th {\n        text-align: right;\n    }\n</style>\n<table border=\"1\" class=\"dataframe\">\n  <thead>\n    <tr style=\"text-align: right;\">\n      <th></th>\n      <th>Poster_Link</th>\n      <th>Series_Title</th>\n      <th>Released_Year</th>\n      <th>Certificate</th>\n      <th>Runtime</th>\n      <th>Genre</th>\n      <th>IMDB_Rating</th>\n      <th>Overview</th>\n      <th>Meta_score</th>\n      <th>Director</th>\n      <th>Star1</th>\n      <th>Star2</th>\n      <th>Star3</th>\n      <th>Star4</th>\n      <th>No_of_Votes</th>\n      <th>Gross</th>\n    </tr>\n  </thead>\n  <tbody>\n    <tr>\n      <th>0</th>\n      <td>https://m.media-amazon.com/images/M/MV5BMDFkYT...</td>\n      <td>The Shawshank Redemption</td>\n      <td>1994</td>\n      <td>A</td>\n      <td>142 min</td>\n      <td>Drama</td>\n      <td>9.3</td>\n      <td>Two imprisoned men bond over a number of years...</td>\n      <td>80.0</td>\n      <td>Frank Darabont</td>\n      <td>Tim Robbins</td>\n      <td>Morgan Freeman</td>\n      <td>Bob Gunton</td>\n      <td>William Sadler</td>\n      <td>2343110</td>\n      <td>28,341,469</td>\n    </tr>\n    <tr>\n      <th>1</th>\n      <td>https://m.media-amazon.com/images/M/MV5BM2MyNj...</td>\n      <td>The Godfather</td>\n      <td>1972</td>\n      <td>A</td>\n      <td>175 min</td>\n      <td>Crime, Drama</td>\n      <td>9.2</td>\n      <td>An organized crime dynasty's aging patriarch t...</td>\n      <td>100.0</td>\n      <td>Francis Ford Coppola</td>\n      <td>Marlon Brando</td>\n      <td>Al Pacino</td>\n      <td>James Caan</td>\n      <td>Diane Keaton</td>\n      <td>1620367</td>\n      <td>134,966,411</td>\n    </tr>\n    <tr>\n      <th>2</th>\n      <td>https://m.media-amazon.com/images/M/MV5BMTMxNT...</td>\n      <td>The Dark Knight</td>\n      <td>2008</td>\n      <td>UA</td>\n      <td>152 min</td>\n      <td>Action, Crime, Drama</td>\n      <td>9.0</td>\n      <td>When the menace known as the Joker wreaks havo...</td>\n      <td>84.0</td>\n      <td>Christopher Nolan</td>\n      <td>Christian Bale</td>\n      <td>Heath Ledger</td>\n      <td>Aaron Eckhart</td>\n      <td>Michael Caine</td>\n      <td>2303232</td>\n      <td>534,858,444</td>\n    </tr>\n    <tr>\n      <th>3</th>\n      <td>https://m.media-amazon.com/images/M/MV5BMWMwMG...</td>\n      <td>The Godfather: Part II</td>\n      <td>1974</td>\n      <td>A</td>\n      <td>202 min</td>\n      <td>Crime, Drama</td>\n      <td>9.0</td>\n      <td>The early life and career of Vito Corleone in ...</td>\n      <td>90.0</td>\n      <td>Francis Ford Coppola</td>\n      <td>Al Pacino</td>\n      <td>Robert De Niro</td>\n      <td>Robert Duvall</td>\n      <td>Diane Keaton</td>\n      <td>1129952</td>\n      <td>57,300,000</td>\n    </tr>\n    <tr>\n      <th>4</th>\n      <td>https://m.media-amazon.com/images/M/MV5BMWU4N2...</td>\n      <td>12 Angry Men</td>\n      <td>1957</td>\n      <td>U</td>\n      <td>96 min</td>\n      <td>Crime, Drama</td>\n      <td>9.0</td>\n      <td>A jury holdout attempts to prevent a miscarria...</td>\n      <td>96.0</td>\n      <td>Sidney Lumet</td>\n      <td>Henry Fonda</td>\n      <td>Lee J. Cobb</td>\n      <td>Martin Balsam</td>\n      <td>John Fiedler</td>\n      <td>689845</td>\n      <td>4,360,000</td>\n    </tr>\n    <tr>\n      <th>...</th>\n      <td>...</td>\n      <td>...</td>\n      <td>...</td>\n      <td>...</td>\n      <td>...</td>\n      <td>...</td>\n      <td>...</td>\n      <td>...</td>\n      <td>...</td>\n      <td>...</td>\n      <td>...</td>\n      <td>...</td>\n      <td>...</td>\n      <td>...</td>\n      <td>...</td>\n      <td>...</td>\n    </tr>\n    <tr>\n      <th>990</th>\n      <td>https://m.media-amazon.com/images/M/MV5BYjRmY2...</td>\n      <td>Giù la testa</td>\n      <td>1971</td>\n      <td>PG</td>\n      <td>157 min</td>\n      <td>Drama, War, Western</td>\n      <td>7.6</td>\n      <td>A low-life bandit and an I.R.A. explosives exp...</td>\n      <td>77.0</td>\n      <td>Sergio Leone</td>\n      <td>Rod Steiger</td>\n      <td>James Coburn</td>\n      <td>Romolo Valli</td>\n      <td>Maria Monti</td>\n      <td>30144</td>\n      <td>696,690</td>\n    </tr>\n    <tr>\n      <th>991</th>\n      <td>https://m.media-amazon.com/images/M/MV5BMzAyND...</td>\n      <td>Kelly's Heroes</td>\n      <td>1970</td>\n      <td>GP</td>\n      <td>144 min</td>\n      <td>Adventure, Comedy, War</td>\n      <td>7.6</td>\n      <td>A group of U.S. soldiers sneaks across enemy l...</td>\n      <td>50.0</td>\n      <td>Brian G. Hutton</td>\n      <td>Clint Eastwood</td>\n      <td>Telly Savalas</td>\n      <td>Don Rickles</td>\n      <td>Carroll O'Connor</td>\n      <td>45338</td>\n      <td>1,378,435</td>\n    </tr>\n    <tr>\n      <th>992</th>\n      <td>https://m.media-amazon.com/images/M/MV5BMjAwMT...</td>\n      <td>The Jungle Book</td>\n      <td>1967</td>\n      <td>U</td>\n      <td>78 min</td>\n      <td>Animation, Adventure, Family</td>\n      <td>7.6</td>\n      <td>Bagheera the Panther and Baloo the Bear have a...</td>\n      <td>65.0</td>\n      <td>Wolfgang Reitherman</td>\n      <td>Phil Harris</td>\n      <td>Sebastian Cabot</td>\n      <td>Louis Prima</td>\n      <td>Bruce Reitherman</td>\n      <td>166409</td>\n      <td>141,843,612</td>\n    </tr>\n    <tr>\n      <th>994</th>\n      <td>https://m.media-amazon.com/images/M/MV5BZjQyMG...</td>\n      <td>A Hard Day's Night</td>\n      <td>1964</td>\n      <td>U</td>\n      <td>87 min</td>\n      <td>Comedy, Music, Musical</td>\n      <td>7.6</td>\n      <td>Over two \"typical\" days in the life of The Bea...</td>\n      <td>96.0</td>\n      <td>Richard Lester</td>\n      <td>John Lennon</td>\n      <td>Paul McCartney</td>\n      <td>George Harrison</td>\n      <td>Ringo Starr</td>\n      <td>40351</td>\n      <td>13,780,024</td>\n    </tr>\n    <tr>\n      <th>997</th>\n      <td>https://m.media-amazon.com/images/M/MV5BM2U3Yz...</td>\n      <td>From Here to Eternity</td>\n      <td>1953</td>\n      <td>Passed</td>\n      <td>118 min</td>\n      <td>Drama, Romance, War</td>\n      <td>7.6</td>\n      <td>In Hawaii in 1941, a private is cruelly punish...</td>\n      <td>85.0</td>\n      <td>Fred Zinnemann</td>\n      <td>Burt Lancaster</td>\n      <td>Montgomery Clift</td>\n      <td>Deborah Kerr</td>\n      <td>Donna Reed</td>\n      <td>43374</td>\n      <td>30,500,000</td>\n    </tr>\n  </tbody>\n</table>\n<p>714 rows × 16 columns</p>\n</div>"
     },
     "metadata": {}
    }
   ],
   "execution_count": 8
  },
  {
   "cell_type": "code",
   "source": "# mov=mov.dropna() #change data in dataframe mov by removing all rows with missing values",
   "metadata": {
    "cell_id": "5996d299d8f74088b1db1756b02f3239",
    "tags": [],
    "deepnote_to_be_reexecuted": false,
    "source_hash": "b26f6cc9",
    "execution_start": 1651338336101,
    "execution_millis": 4,
    "deepnote_cell_type": "code",
    "deepnote_cell_height": 81
   },
   "outputs": [],
   "execution_count": 9
  },
  {
   "cell_type": "code",
   "metadata": {
    "cell_id": "72c56d10-45dd-4e6a-af56-bf54212ef36a",
    "tags": [],
    "deepnote_to_be_reexecuted": false,
    "source_hash": "6ec9a3c4",
    "execution_start": 1651338336107,
    "execution_millis": 6,
    "deepnote_cell_type": "code",
    "deepnote_cell_height": 118.1875,
    "deepnote_output_heights": [
     21.1875
    ]
   },
   "source": "mov.Gross[10] #print out the value in row number 10",
   "execution_count": 10,
   "outputs": [
    {
     "output_type": "execute_result",
     "execution_count": 10,
     "data": {
      "text/plain": "'315,544,750'"
     },
     "metadata": {}
    }
   ]
  },
  {
   "cell_type": "code",
   "source": "# mov.Gross = pd.to_numeric(mov.Gross, errors = \"coerce\") \n#Tried comand however it deleted all values for Gross ",
   "metadata": {
    "cell_id": "4328f23566044a519a7806693bb0c1f1",
    "tags": [],
    "deepnote_to_be_reexecuted": false,
    "source_hash": "78ba69d5",
    "execution_start": 1651338336115,
    "execution_millis": 1,
    "deepnote_cell_type": "code",
    "deepnote_cell_height": 99
   },
   "outputs": [],
   "execution_count": 11
  },
  {
   "cell_type": "code",
   "source": "mov[\"Gross\"]=mov[\"Gross\"].str.replace(\",\",\"\")",
   "metadata": {
    "cell_id": "35c7db8326ac4397ae9a9f9aae1e30ac",
    "tags": [],
    "deepnote_to_be_reexecuted": false,
    "source_hash": "81520831",
    "execution_start": 1651338336162,
    "execution_millis": 0,
    "deepnote_cell_type": "code",
    "deepnote_cell_height": 81
   },
   "outputs": [],
   "execution_count": 12
  },
  {
   "cell_type": "code",
   "source": "mov.Gross= mov.Gross.astype(\"float\")",
   "metadata": {
    "cell_id": "9abedf28ab0049d2b31cf5f177423159",
    "tags": [],
    "deepnote_to_be_reexecuted": false,
    "source_hash": "e9a23647",
    "execution_start": 1651338336163,
    "execution_millis": 0,
    "deepnote_cell_type": "code",
    "deepnote_cell_height": 81,
    "deepnote_output_heights": [
     232.296875
    ]
   },
   "outputs": [],
   "execution_count": 13
  },
  {
   "cell_type": "code",
   "source": "mov.head(3)",
   "metadata": {
    "cell_id": "818cf9f4094d4d45a3ef723b4e11a83d",
    "tags": [],
    "deepnote_to_be_reexecuted": false,
    "source_hash": "27da235c",
    "execution_start": 1651338336163,
    "execution_millis": 33,
    "deepnote_cell_type": "code",
    "deepnote_cell_height": 313
   },
   "outputs": [
    {
     "output_type": "execute_result",
     "execution_count": 14,
     "data": {
      "application/vnd.deepnote.dataframe.v3+json": {
       "column_count": 16,
       "row_count": 3,
       "columns": [
        {
         "name": "Poster_Link",
         "dtype": "object",
         "stats": {
          "unique_count": 3,
          "nan_count": 0,
          "categories": [
           {
            "name": "https://m.media-amazon.com/images/M/MV5BMDFkYTc0MGEtZmNhMC00ZDIzLWFmNTEtODM1ZmRlYWMwMWFmXkEyXkFqcGdeQXVyMTMxODk2OTU@._V1_UX67_CR0,0,67,98_AL_.jpg",
            "count": 1
           },
           {
            "name": "https://m.media-amazon.com/images/M/MV5BM2MyNjYxNmUtYTAwNi00MTYxLWJmNWYtYzZlODY3ZTk3OTFlXkEyXkFqcGdeQXVyNzkwMjQ5NzM@._V1_UY98_CR1,0,67,98_AL_.jpg",
            "count": 1
           },
           {
            "name": "https://m.media-amazon.com/images/M/MV5BMTMxNTMwODM0NF5BMl5BanBnXkFtZTcwODAyMTk2Mw@@._V1_UX67_CR0,0,67,98_AL_.jpg",
            "count": 1
           }
          ]
         }
        },
        {
         "name": "Series_Title",
         "dtype": "object",
         "stats": {
          "unique_count": 3,
          "nan_count": 0,
          "categories": [
           {
            "name": "The Shawshank Redemption",
            "count": 1
           },
           {
            "name": "The Godfather",
            "count": 1
           },
           {
            "name": "The Dark Knight",
            "count": 1
           }
          ]
         }
        },
        {
         "name": "Released_Year",
         "dtype": "object",
         "stats": {
          "unique_count": 3,
          "nan_count": 0,
          "categories": [
           {
            "name": "1994",
            "count": 1
           },
           {
            "name": "1972",
            "count": 1
           },
           {
            "name": "2008",
            "count": 1
           }
          ]
         }
        },
        {
         "name": "Certificate",
         "dtype": "object",
         "stats": {
          "unique_count": 2,
          "nan_count": 0,
          "categories": [
           {
            "name": "A",
            "count": 2
           },
           {
            "name": "UA",
            "count": 1
           }
          ]
         }
        },
        {
         "name": "Runtime",
         "dtype": "object",
         "stats": {
          "unique_count": 3,
          "nan_count": 0,
          "categories": [
           {
            "name": "142 min",
            "count": 1
           },
           {
            "name": "175 min",
            "count": 1
           },
           {
            "name": "152 min",
            "count": 1
           }
          ]
         }
        },
        {
         "name": "Genre",
         "dtype": "object",
         "stats": {
          "unique_count": 3,
          "nan_count": 0,
          "categories": [
           {
            "name": "Drama",
            "count": 1
           },
           {
            "name": "Crime, Drama",
            "count": 1
           },
           {
            "name": "Action, Crime, Drama",
            "count": 1
           }
          ]
         }
        },
        {
         "name": "IMDB_Rating",
         "dtype": "float64",
         "stats": {
          "unique_count": 3,
          "nan_count": 0,
          "min": "9.0",
          "max": "9.3",
          "histogram": [
           {
            "bin_start": 9,
            "bin_end": 9.03,
            "count": 1
           },
           {
            "bin_start": 9.03,
            "bin_end": 9.06,
            "count": 0
           },
           {
            "bin_start": 9.06,
            "bin_end": 9.09,
            "count": 0
           },
           {
            "bin_start": 9.09,
            "bin_end": 9.120000000000001,
            "count": 0
           },
           {
            "bin_start": 9.120000000000001,
            "bin_end": 9.15,
            "count": 0
           },
           {
            "bin_start": 9.15,
            "bin_end": 9.18,
            "count": 0
           },
           {
            "bin_start": 9.18,
            "bin_end": 9.21,
            "count": 1
           },
           {
            "bin_start": 9.21,
            "bin_end": 9.24,
            "count": 0
           },
           {
            "bin_start": 9.24,
            "bin_end": 9.270000000000001,
            "count": 0
           },
           {
            "bin_start": 9.270000000000001,
            "bin_end": 9.3,
            "count": 1
           }
          ]
         }
        },
        {
         "name": "Overview",
         "dtype": "object",
         "stats": {
          "unique_count": 3,
          "nan_count": 0,
          "categories": [
           {
            "name": "Two imprisoned men bond over a number of years, finding solace and eventual redemption through acts of common decency.",
            "count": 1
           },
           {
            "name": "An organized crime dynasty's aging patriarch transfers control of his clandestine empire to his reluctant son.",
            "count": 1
           },
           {
            "name": "When the menace known as the Joker wreaks havoc and chaos on the people of Gotham, Batman must accept one of the greatest psychological and physical tests of his ability to fight injustice.",
            "count": 1
           }
          ]
         }
        },
        {
         "name": "Meta_score",
         "dtype": "float64",
         "stats": {
          "unique_count": 3,
          "nan_count": 0,
          "min": "80.0",
          "max": "100.0",
          "histogram": [
           {
            "bin_start": 80,
            "bin_end": 82,
            "count": 1
           },
           {
            "bin_start": 82,
            "bin_end": 84,
            "count": 0
           },
           {
            "bin_start": 84,
            "bin_end": 86,
            "count": 1
           },
           {
            "bin_start": 86,
            "bin_end": 88,
            "count": 0
           },
           {
            "bin_start": 88,
            "bin_end": 90,
            "count": 0
           },
           {
            "bin_start": 90,
            "bin_end": 92,
            "count": 0
           },
           {
            "bin_start": 92,
            "bin_end": 94,
            "count": 0
           },
           {
            "bin_start": 94,
            "bin_end": 96,
            "count": 0
           },
           {
            "bin_start": 96,
            "bin_end": 98,
            "count": 0
           },
           {
            "bin_start": 98,
            "bin_end": 100,
            "count": 1
           }
          ]
         }
        },
        {
         "name": "Director",
         "dtype": "object",
         "stats": {
          "unique_count": 3,
          "nan_count": 0,
          "categories": [
           {
            "name": "Frank Darabont",
            "count": 1
           },
           {
            "name": "Francis Ford Coppola",
            "count": 1
           },
           {
            "name": "Christopher Nolan",
            "count": 1
           }
          ]
         }
        },
        {
         "name": "Star1",
         "dtype": "object",
         "stats": {
          "unique_count": 3,
          "nan_count": 0,
          "categories": [
           {
            "name": "Tim Robbins",
            "count": 1
           },
           {
            "name": "Marlon Brando",
            "count": 1
           },
           {
            "name": "Christian Bale",
            "count": 1
           }
          ]
         }
        },
        {
         "name": "Star2",
         "dtype": "object",
         "stats": {
          "unique_count": 3,
          "nan_count": 0,
          "categories": [
           {
            "name": "Morgan Freeman",
            "count": 1
           },
           {
            "name": "Al Pacino",
            "count": 1
           },
           {
            "name": "Heath Ledger",
            "count": 1
           }
          ]
         }
        },
        {
         "name": "Star3",
         "dtype": "object",
         "stats": {
          "unique_count": 3,
          "nan_count": 0,
          "categories": [
           {
            "name": "Bob Gunton",
            "count": 1
           },
           {
            "name": "James Caan",
            "count": 1
           },
           {
            "name": "Aaron Eckhart",
            "count": 1
           }
          ]
         }
        },
        {
         "name": "Star4",
         "dtype": "object",
         "stats": {
          "unique_count": 3,
          "nan_count": 0,
          "categories": [
           {
            "name": "William Sadler",
            "count": 1
           },
           {
            "name": "Diane Keaton",
            "count": 1
           },
           {
            "name": "Michael Caine",
            "count": 1
           }
          ]
         }
        },
        {
         "name": "No_of_Votes",
         "dtype": "int64",
         "stats": {
          "unique_count": 3,
          "nan_count": 0,
          "min": "1620367",
          "max": "2343110",
          "histogram": [
           {
            "bin_start": 1620367,
            "bin_end": 1692641.3,
            "count": 1
           },
           {
            "bin_start": 1692641.3,
            "bin_end": 1764915.6,
            "count": 0
           },
           {
            "bin_start": 1764915.6,
            "bin_end": 1837189.9,
            "count": 0
           },
           {
            "bin_start": 1837189.9,
            "bin_end": 1909464.2,
            "count": 0
           },
           {
            "bin_start": 1909464.2,
            "bin_end": 1981738.5,
            "count": 0
           },
           {
            "bin_start": 1981738.5,
            "bin_end": 2054012.8,
            "count": 0
           },
           {
            "bin_start": 2054012.8,
            "bin_end": 2126287.1,
            "count": 0
           },
           {
            "bin_start": 2126287.1,
            "bin_end": 2198561.4,
            "count": 0
           },
           {
            "bin_start": 2198561.4,
            "bin_end": 2270835.7,
            "count": 0
           },
           {
            "bin_start": 2270835.7,
            "bin_end": 2343110,
            "count": 2
           }
          ]
         }
        },
        {
         "name": "Gross",
         "dtype": "float64",
         "stats": {
          "unique_count": 3,
          "nan_count": 0,
          "min": "28341469.0",
          "max": "534858444.0",
          "histogram": [
           {
            "bin_start": 28341469,
            "bin_end": 78993166.5,
            "count": 1
           },
           {
            "bin_start": 78993166.5,
            "bin_end": 129644864,
            "count": 0
           },
           {
            "bin_start": 129644864,
            "bin_end": 180296561.5,
            "count": 1
           },
           {
            "bin_start": 180296561.5,
            "bin_end": 230948259,
            "count": 0
           },
           {
            "bin_start": 230948259,
            "bin_end": 281599956.5,
            "count": 0
           },
           {
            "bin_start": 281599956.5,
            "bin_end": 332251654,
            "count": 0
           },
           {
            "bin_start": 332251654,
            "bin_end": 382903351.5,
            "count": 0
           },
           {
            "bin_start": 382903351.5,
            "bin_end": 433555049,
            "count": 0
           },
           {
            "bin_start": 433555049,
            "bin_end": 484206746.5,
            "count": 0
           },
           {
            "bin_start": 484206746.5,
            "bin_end": 534858444,
            "count": 1
           }
          ]
         }
        },
        {
         "name": "_deepnote_index_column",
         "dtype": "int64"
        }
       ],
       "rows": [
        {
         "Poster_Link": "https://m.media-amazon.com/images/M/MV5BMDFkYTc0MGEtZmNhMC00ZDIzLWFmNTEtODM1ZmRlYWMwMWFmXkEyXkFqcGdeQXVyMTMxODk2OTU@._V1_UX67_CR0,0,67,98_AL_.jpg",
         "Series_Title": "The Shawshank Redemption",
         "Released_Year": "1994",
         "Certificate": "A",
         "Runtime": "142 min",
         "Genre": "Drama",
         "IMDB_Rating": 9.3,
         "Overview": "Two imprisoned men bond over a number of years, finding solace and eventual redemption through acts of common decency.",
         "Meta_score": 80,
         "Director": "Frank Darabont",
         "Star1": "Tim Robbins",
         "Star2": "Morgan Freeman",
         "Star3": "Bob Gunton",
         "Star4": "William Sadler",
         "No_of_Votes": 2343110,
         "Gross": 28341469,
         "_deepnote_index_column": 0
        },
        {
         "Poster_Link": "https://m.media-amazon.com/images/M/MV5BM2MyNjYxNmUtYTAwNi00MTYxLWJmNWYtYzZlODY3ZTk3OTFlXkEyXkFqcGdeQXVyNzkwMjQ5NzM@._V1_UY98_CR1,0,67,98_AL_.jpg",
         "Series_Title": "The Godfather",
         "Released_Year": "1972",
         "Certificate": "A",
         "Runtime": "175 min",
         "Genre": "Crime, Drama",
         "IMDB_Rating": 9.2,
         "Overview": "An organized crime dynasty's aging patriarch transfers control of his clandestine empire to his reluctant son.",
         "Meta_score": 100,
         "Director": "Francis Ford Coppola",
         "Star1": "Marlon Brando",
         "Star2": "Al Pacino",
         "Star3": "James Caan",
         "Star4": "Diane Keaton",
         "No_of_Votes": 1620367,
         "Gross": 134966411,
         "_deepnote_index_column": 1
        },
        {
         "Poster_Link": "https://m.media-amazon.com/images/M/MV5BMTMxNTMwODM0NF5BMl5BanBnXkFtZTcwODAyMTk2Mw@@._V1_UX67_CR0,0,67,98_AL_.jpg",
         "Series_Title": "The Dark Knight",
         "Released_Year": "2008",
         "Certificate": "UA",
         "Runtime": "152 min",
         "Genre": "Action, Crime, Drama",
         "IMDB_Rating": 9,
         "Overview": "When the menace known as the Joker wreaks havoc and chaos on the people of Gotham, Batman must accept one of the greatest psychological and physical tests of his ability to fight injustice.",
         "Meta_score": 84,
         "Director": "Christopher Nolan",
         "Star1": "Christian Bale",
         "Star2": "Heath Ledger",
         "Star3": "Aaron Eckhart",
         "Star4": "Michael Caine",
         "No_of_Votes": 2303232,
         "Gross": 534858444,
         "_deepnote_index_column": 2
        }
       ]
      },
      "text/plain": "                                         Poster_Link  \\\n0  https://m.media-amazon.com/images/M/MV5BMDFkYT...   \n1  https://m.media-amazon.com/images/M/MV5BM2MyNj...   \n2  https://m.media-amazon.com/images/M/MV5BMTMxNT...   \n\n               Series_Title Released_Year Certificate  Runtime  \\\n0  The Shawshank Redemption          1994           A  142 min   \n1             The Godfather          1972           A  175 min   \n2           The Dark Knight          2008          UA  152 min   \n\n                  Genre  IMDB_Rating  \\\n0                 Drama          9.3   \n1          Crime, Drama          9.2   \n2  Action, Crime, Drama          9.0   \n\n                                            Overview  Meta_score  \\\n0  Two imprisoned men bond over a number of years...        80.0   \n1  An organized crime dynasty's aging patriarch t...       100.0   \n2  When the menace known as the Joker wreaks havo...        84.0   \n\n               Director           Star1           Star2          Star3  \\\n0        Frank Darabont     Tim Robbins  Morgan Freeman     Bob Gunton   \n1  Francis Ford Coppola   Marlon Brando       Al Pacino     James Caan   \n2     Christopher Nolan  Christian Bale    Heath Ledger  Aaron Eckhart   \n\n            Star4  No_of_Votes        Gross  \n0  William Sadler      2343110   28341469.0  \n1    Diane Keaton      1620367  134966411.0  \n2   Michael Caine      2303232  534858444.0  ",
      "text/html": "<div>\n<style scoped>\n    .dataframe tbody tr th:only-of-type {\n        vertical-align: middle;\n    }\n\n    .dataframe tbody tr th {\n        vertical-align: top;\n    }\n\n    .dataframe thead th {\n        text-align: right;\n    }\n</style>\n<table border=\"1\" class=\"dataframe\">\n  <thead>\n    <tr style=\"text-align: right;\">\n      <th></th>\n      <th>Poster_Link</th>\n      <th>Series_Title</th>\n      <th>Released_Year</th>\n      <th>Certificate</th>\n      <th>Runtime</th>\n      <th>Genre</th>\n      <th>IMDB_Rating</th>\n      <th>Overview</th>\n      <th>Meta_score</th>\n      <th>Director</th>\n      <th>Star1</th>\n      <th>Star2</th>\n      <th>Star3</th>\n      <th>Star4</th>\n      <th>No_of_Votes</th>\n      <th>Gross</th>\n    </tr>\n  </thead>\n  <tbody>\n    <tr>\n      <th>0</th>\n      <td>https://m.media-amazon.com/images/M/MV5BMDFkYT...</td>\n      <td>The Shawshank Redemption</td>\n      <td>1994</td>\n      <td>A</td>\n      <td>142 min</td>\n      <td>Drama</td>\n      <td>9.3</td>\n      <td>Two imprisoned men bond over a number of years...</td>\n      <td>80.0</td>\n      <td>Frank Darabont</td>\n      <td>Tim Robbins</td>\n      <td>Morgan Freeman</td>\n      <td>Bob Gunton</td>\n      <td>William Sadler</td>\n      <td>2343110</td>\n      <td>28341469.0</td>\n    </tr>\n    <tr>\n      <th>1</th>\n      <td>https://m.media-amazon.com/images/M/MV5BM2MyNj...</td>\n      <td>The Godfather</td>\n      <td>1972</td>\n      <td>A</td>\n      <td>175 min</td>\n      <td>Crime, Drama</td>\n      <td>9.2</td>\n      <td>An organized crime dynasty's aging patriarch t...</td>\n      <td>100.0</td>\n      <td>Francis Ford Coppola</td>\n      <td>Marlon Brando</td>\n      <td>Al Pacino</td>\n      <td>James Caan</td>\n      <td>Diane Keaton</td>\n      <td>1620367</td>\n      <td>134966411.0</td>\n    </tr>\n    <tr>\n      <th>2</th>\n      <td>https://m.media-amazon.com/images/M/MV5BMTMxNT...</td>\n      <td>The Dark Knight</td>\n      <td>2008</td>\n      <td>UA</td>\n      <td>152 min</td>\n      <td>Action, Crime, Drama</td>\n      <td>9.0</td>\n      <td>When the menace known as the Joker wreaks havo...</td>\n      <td>84.0</td>\n      <td>Christopher Nolan</td>\n      <td>Christian Bale</td>\n      <td>Heath Ledger</td>\n      <td>Aaron Eckhart</td>\n      <td>Michael Caine</td>\n      <td>2303232</td>\n      <td>534858444.0</td>\n    </tr>\n  </tbody>\n</table>\n</div>"
     },
     "metadata": {}
    }
   ],
   "execution_count": 14
  },
  {
   "cell_type": "code",
   "source": "mov.dtypes #find out data types for every column ",
   "metadata": {
    "cell_id": "0667bdfe118d4f2eb89d17da8364fc00",
    "tags": [],
    "deepnote_to_be_reexecuted": false,
    "source_hash": "996b469d",
    "execution_start": 1651338336194,
    "execution_millis": 6,
    "deepnote_cell_type": "code",
    "deepnote_cell_height": 425.25,
    "deepnote_output_heights": [
     328.265625
    ]
   },
   "outputs": [
    {
     "output_type": "execute_result",
     "execution_count": 15,
     "data": {
      "text/plain": "Poster_Link       object\nSeries_Title      object\nReleased_Year     object\nCertificate       object\nRuntime           object\nGenre             object\nIMDB_Rating      float64\nOverview          object\nMeta_score       float64\nDirector          object\nStar1             object\nStar2             object\nStar3             object\nStar4             object\nNo_of_Votes        int64\nGross            float64\ndtype: object"
     },
     "metadata": {}
    }
   ],
   "execution_count": 15
  },
  {
   "cell_type": "code",
   "metadata": {
    "cell_id": "2a8dbe43-25da-4abb-9ad5-35ab4be0432c",
    "tags": [],
    "deepnote_to_be_reexecuted": false,
    "source_hash": "a26f45e6",
    "execution_start": 1651338336199,
    "execution_millis": 5,
    "deepnote_cell_type": "code",
    "deepnote_cell_height": 118.1875,
    "deepnote_output_heights": [
     21.1875
    ]
   },
   "source": "mov.shape",
   "execution_count": 16,
   "outputs": [
    {
     "output_type": "execute_result",
     "execution_count": 16,
     "data": {
      "text/plain": "(1000, 16)"
     },
     "metadata": {}
    }
   ]
  },
  {
   "cell_type": "code",
   "metadata": {
    "cell_id": "84aaa7d7-7e6a-4d70-949a-5becd9de0608",
    "tags": [],
    "deepnote_to_be_reexecuted": false,
    "source_hash": "2abd4089",
    "execution_start": 1651338336206,
    "execution_millis": 10,
    "deepnote_cell_type": "code",
    "deepnote_cell_height": 548.875
   },
   "source": "mov.info()",
   "execution_count": 17,
   "outputs": [
    {
     "name": "stdout",
     "text": "<class 'pandas.core.frame.DataFrame'>\nRangeIndex: 1000 entries, 0 to 999\nData columns (total 16 columns):\n #   Column         Non-Null Count  Dtype  \n---  ------         --------------  -----  \n 0   Poster_Link    1000 non-null   object \n 1   Series_Title   1000 non-null   object \n 2   Released_Year  1000 non-null   object \n 3   Certificate    899 non-null    object \n 4   Runtime        1000 non-null   object \n 5   Genre          1000 non-null   object \n 6   IMDB_Rating    1000 non-null   float64\n 7   Overview       1000 non-null   object \n 8   Meta_score     843 non-null    float64\n 9   Director       1000 non-null   object \n 10  Star1          1000 non-null   object \n 11  Star2          1000 non-null   object \n 12  Star3          1000 non-null   object \n 13  Star4          1000 non-null   object \n 14  No_of_Votes    1000 non-null   int64  \n 15  Gross          831 non-null    float64\ndtypes: float64(3), int64(1), object(12)\nmemory usage: 125.1+ KB\n",
     "output_type": "stream"
    }
   ]
  },
  {
   "cell_type": "code",
   "metadata": {
    "cell_id": "b63e0fac-171e-49a8-8abe-85b2689f6a68",
    "tags": [],
    "deepnote_to_be_reexecuted": false,
    "source_hash": "1fd48e24",
    "execution_start": 1651338336220,
    "execution_millis": 30,
    "deepnote_cell_type": "code",
    "deepnote_cell_height": 518
   },
   "source": "mov.describe()",
   "execution_count": 18,
   "outputs": [
    {
     "output_type": "execute_result",
     "execution_count": 18,
     "data": {
      "application/vnd.deepnote.dataframe.v3+json": {
       "column_count": 4,
       "row_count": 8,
       "columns": [
        {
         "name": "IMDB_Rating",
         "dtype": "float64",
         "stats": {
          "unique_count": 8,
          "nan_count": 0,
          "min": "0.2754912074920095",
          "max": "1000.0",
          "histogram": [
           {
            "bin_start": 0.2754912074920095,
            "bin_end": 100.24794208674281,
            "count": 7
           },
           {
            "bin_start": 100.24794208674281,
            "bin_end": 200.2203929659936,
            "count": 0
           },
           {
            "bin_start": 200.2203929659936,
            "bin_end": 300.1928438452444,
            "count": 0
           },
           {
            "bin_start": 300.1928438452444,
            "bin_end": 400.1652947244952,
            "count": 0
           },
           {
            "bin_start": 400.1652947244952,
            "bin_end": 500.137745603746,
            "count": 0
           },
           {
            "bin_start": 500.137745603746,
            "bin_end": 600.1101964829968,
            "count": 0
           },
           {
            "bin_start": 600.1101964829968,
            "bin_end": 700.0826473622476,
            "count": 0
           },
           {
            "bin_start": 700.0826473622476,
            "bin_end": 800.0550982414984,
            "count": 0
           },
           {
            "bin_start": 800.0550982414984,
            "bin_end": 900.0275491207492,
            "count": 0
           },
           {
            "bin_start": 900.0275491207492,
            "bin_end": 1000,
            "count": 1
           }
          ]
         }
        },
        {
         "name": "Meta_score",
         "dtype": "float64",
         "stats": {
          "unique_count": 8,
          "nan_count": 0,
          "min": "12.376099328602027",
          "max": "843.0",
          "histogram": [
           {
            "bin_start": 12.376099328602027,
            "bin_end": 95.43848939574183,
            "count": 6
           },
           {
            "bin_start": 95.43848939574183,
            "bin_end": 178.50087946288164,
            "count": 1
           },
           {
            "bin_start": 178.50087946288164,
            "bin_end": 261.56326953002144,
            "count": 0
           },
           {
            "bin_start": 261.56326953002144,
            "bin_end": 344.62565959716125,
            "count": 0
           },
           {
            "bin_start": 344.62565959716125,
            "bin_end": 427.68804966430105,
            "count": 0
           },
           {
            "bin_start": 427.68804966430105,
            "bin_end": 510.75043973144085,
            "count": 0
           },
           {
            "bin_start": 510.75043973144085,
            "bin_end": 593.8128297985805,
            "count": 0
           },
           {
            "bin_start": 593.8128297985805,
            "bin_end": 676.8752198657204,
            "count": 0
           },
           {
            "bin_start": 676.8752198657204,
            "bin_end": 759.9376099328603,
            "count": 0
           },
           {
            "bin_start": 759.9376099328603,
            "bin_end": 843,
            "count": 1
           }
          ]
         }
        },
        {
         "name": "No_of_Votes",
         "dtype": "float64",
         "stats": {
          "unique_count": 8,
          "nan_count": 0,
          "min": "1000.0",
          "max": "2343110.0",
          "histogram": [
           {
            "bin_start": 1000,
            "bin_end": 235211,
            "count": 4
           },
           {
            "bin_start": 235211,
            "bin_end": 469422,
            "count": 3
           },
           {
            "bin_start": 469422,
            "bin_end": 703633,
            "count": 0
           },
           {
            "bin_start": 703633,
            "bin_end": 937844,
            "count": 0
           },
           {
            "bin_start": 937844,
            "bin_end": 1172055,
            "count": 0
           },
           {
            "bin_start": 1172055,
            "bin_end": 1406266,
            "count": 0
           },
           {
            "bin_start": 1406266,
            "bin_end": 1640477,
            "count": 0
           },
           {
            "bin_start": 1640477,
            "bin_end": 1874688,
            "count": 0
           },
           {
            "bin_start": 1874688,
            "bin_end": 2108899,
            "count": 0
           },
           {
            "bin_start": 2108899,
            "bin_end": 2343110,
            "count": 1
           }
          ]
         }
        },
        {
         "name": "Gross",
         "dtype": "float64",
         "stats": {
          "unique_count": 8,
          "nan_count": 0,
          "min": "831.0",
          "max": "936662225.0",
          "histogram": [
           {
            "bin_start": 831,
            "bin_end": 93666970.4,
            "count": 6
           },
           {
            "bin_start": 93666970.4,
            "bin_end": 187333109.8,
            "count": 1
           },
           {
            "bin_start": 187333109.8,
            "bin_end": 280999249.20000005,
            "count": 0
           },
           {
            "bin_start": 280999249.20000005,
            "bin_end": 374665388.6,
            "count": 0
           },
           {
            "bin_start": 374665388.6,
            "bin_end": 468331528,
            "count": 0
           },
           {
            "bin_start": 468331528,
            "bin_end": 561997667.4000001,
            "count": 0
           },
           {
            "bin_start": 561997667.4000001,
            "bin_end": 655663806.8000001,
            "count": 0
           },
           {
            "bin_start": 655663806.8000001,
            "bin_end": 749329946.2,
            "count": 0
           },
           {
            "bin_start": 749329946.2,
            "bin_end": 842996085.6,
            "count": 0
           },
           {
            "bin_start": 842996085.6,
            "bin_end": 936662225,
            "count": 1
           }
          ]
         }
        },
        {
         "name": "_deepnote_index_column",
         "dtype": "object"
        }
       ],
       "rows": [
        {
         "IMDB_Rating": 1000,
         "Meta_score": 843,
         "No_of_Votes": 1000,
         "Gross": 831,
         "_deepnote_index_column": "count"
        },
        {
         "IMDB_Rating": 7.949299999999999,
         "Meta_score": 77.97153024911032,
         "No_of_Votes": 273692.911,
         "Gross": 68034750.87364621,
         "_deepnote_index_column": "mean"
        },
        {
         "IMDB_Rating": 0.2754912074920095,
         "Meta_score": 12.376099328602027,
         "No_of_Votes": 327372.7039341249,
         "Gross": 109750043.19218515,
         "_deepnote_index_column": "std"
        },
        {
         "IMDB_Rating": 7.6,
         "Meta_score": 28,
         "No_of_Votes": 25088,
         "Gross": 1305,
         "_deepnote_index_column": "min"
        },
        {
         "IMDB_Rating": 7.7,
         "Meta_score": 70,
         "No_of_Votes": 55526.25,
         "Gross": 3253559,
         "_deepnote_index_column": "25%"
        },
        {
         "IMDB_Rating": 7.9,
         "Meta_score": 79,
         "No_of_Votes": 138548.5,
         "Gross": 23530892,
         "_deepnote_index_column": "50%"
        },
        {
         "IMDB_Rating": 8.1,
         "Meta_score": 87,
         "No_of_Votes": 374161.25,
         "Gross": 80750893.5,
         "_deepnote_index_column": "75%"
        },
        {
         "IMDB_Rating": 9.3,
         "Meta_score": 100,
         "No_of_Votes": 2343110,
         "Gross": 936662225,
         "_deepnote_index_column": "max"
        }
       ]
      },
      "text/plain": "       IMDB_Rating  Meta_score   No_of_Votes         Gross\ncount  1000.000000  843.000000  1.000000e+03  8.310000e+02\nmean      7.949300   77.971530  2.736929e+05  6.803475e+07\nstd       0.275491   12.376099  3.273727e+05  1.097500e+08\nmin       7.600000   28.000000  2.508800e+04  1.305000e+03\n25%       7.700000   70.000000  5.552625e+04  3.253559e+06\n50%       7.900000   79.000000  1.385485e+05  2.353089e+07\n75%       8.100000   87.000000  3.741612e+05  8.075089e+07\nmax       9.300000  100.000000  2.343110e+06  9.366622e+08",
      "text/html": "<div>\n<style scoped>\n    .dataframe tbody tr th:only-of-type {\n        vertical-align: middle;\n    }\n\n    .dataframe tbody tr th {\n        vertical-align: top;\n    }\n\n    .dataframe thead th {\n        text-align: right;\n    }\n</style>\n<table border=\"1\" class=\"dataframe\">\n  <thead>\n    <tr style=\"text-align: right;\">\n      <th></th>\n      <th>IMDB_Rating</th>\n      <th>Meta_score</th>\n      <th>No_of_Votes</th>\n      <th>Gross</th>\n    </tr>\n  </thead>\n  <tbody>\n    <tr>\n      <th>count</th>\n      <td>1000.000000</td>\n      <td>843.000000</td>\n      <td>1.000000e+03</td>\n      <td>8.310000e+02</td>\n    </tr>\n    <tr>\n      <th>mean</th>\n      <td>7.949300</td>\n      <td>77.971530</td>\n      <td>2.736929e+05</td>\n      <td>6.803475e+07</td>\n    </tr>\n    <tr>\n      <th>std</th>\n      <td>0.275491</td>\n      <td>12.376099</td>\n      <td>3.273727e+05</td>\n      <td>1.097500e+08</td>\n    </tr>\n    <tr>\n      <th>min</th>\n      <td>7.600000</td>\n      <td>28.000000</td>\n      <td>2.508800e+04</td>\n      <td>1.305000e+03</td>\n    </tr>\n    <tr>\n      <th>25%</th>\n      <td>7.700000</td>\n      <td>70.000000</td>\n      <td>5.552625e+04</td>\n      <td>3.253559e+06</td>\n    </tr>\n    <tr>\n      <th>50%</th>\n      <td>7.900000</td>\n      <td>79.000000</td>\n      <td>1.385485e+05</td>\n      <td>2.353089e+07</td>\n    </tr>\n    <tr>\n      <th>75%</th>\n      <td>8.100000</td>\n      <td>87.000000</td>\n      <td>3.741612e+05</td>\n      <td>8.075089e+07</td>\n    </tr>\n    <tr>\n      <th>max</th>\n      <td>9.300000</td>\n      <td>100.000000</td>\n      <td>2.343110e+06</td>\n      <td>9.366622e+08</td>\n    </tr>\n  </tbody>\n</table>\n</div>"
     },
     "metadata": {}
    }
   ]
  },
  {
   "cell_type": "code",
   "source": "top_10=mov.nlargest(10,columns=['Gross','IMDB_Rating','No_of_Votes'])",
   "metadata": {
    "cell_id": "beee5f79a8f442c792f3372ad8e8a76a",
    "tags": [],
    "deepnote_to_be_reexecuted": false,
    "source_hash": "6fcba6ed",
    "execution_start": 1651338480280,
    "execution_millis": 1,
    "deepnote_cell_type": "code",
    "deepnote_cell_height": 81
   },
   "outputs": [],
   "execution_count": 19
  },
  {
   "cell_type": "code",
   "source": "top_10",
   "metadata": {
    "cell_id": "be49b99d64e84c9ba301f0a1be8e4db4",
    "tags": [],
    "deepnote_to_be_reexecuted": false,
    "source_hash": "53aed5b4",
    "execution_start": 1651338493680,
    "execution_millis": 50,
    "deepnote_cell_type": "code",
    "deepnote_cell_height": 600
   },
   "outputs": [
    {
     "output_type": "execute_result",
     "execution_count": 20,
     "data": {
      "application/vnd.deepnote.dataframe.v3+json": {
       "column_count": 16,
       "row_count": 10,
       "columns": [
        {
         "name": "Poster_Link",
         "dtype": "object",
         "stats": {
          "unique_count": 10,
          "nan_count": 0,
          "categories": [
           {
            "name": "https://m.media-amazon.com/images/M/MV5BOTAzODEzNDAzMl5BMl5BanBnXkFtZTgwMDU1MTgzNzE@._V1_UX67_CR0,0,67,98_AL_.jpg",
            "count": 1
           },
           {
            "name": "https://m.media-amazon.com/images/M/MV5BMTc5MDE2ODcwNV5BMl5BanBnXkFtZTgwMzI2NzQ2NzM@._V1_UX67_CR0,0,67,98_AL_.jpg",
            "count": 1
           },
           {
            "name": "8 others",
            "count": 8
           }
          ]
         }
        },
        {
         "name": "Series_Title",
         "dtype": "object",
         "stats": {
          "unique_count": 10,
          "nan_count": 0,
          "categories": [
           {
            "name": "Star Wars: Episode VII - The Force Awakens",
            "count": 1
           },
           {
            "name": "Avengers: Endgame",
            "count": 1
           },
           {
            "name": "8 others",
            "count": 8
           }
          ]
         }
        },
        {
         "name": "Released_Year",
         "dtype": "object",
         "stats": {
          "unique_count": 8,
          "nan_count": 0,
          "categories": [
           {
            "name": "2018",
            "count": 2
           },
           {
            "name": "2012",
            "count": 2
           },
           {
            "name": "6 others",
            "count": 6
           }
          ]
         }
        },
        {
         "name": "Certificate",
         "dtype": "object",
         "stats": {
          "unique_count": 2,
          "nan_count": 0,
          "categories": [
           {
            "name": "UA",
            "count": 9
           },
           {
            "name": "U",
            "count": 1
           }
          ]
         }
        },
        {
         "name": "Runtime",
         "dtype": "object",
         "stats": {
          "unique_count": 10,
          "nan_count": 0,
          "categories": [
           {
            "name": "138 min",
            "count": 1
           },
           {
            "name": "181 min",
            "count": 1
           },
           {
            "name": "8 others",
            "count": 8
           }
          ]
         }
        },
        {
         "name": "Genre",
         "dtype": "object",
         "stats": {
          "unique_count": 7,
          "nan_count": 0,
          "categories": [
           {
            "name": "Action, Adventure, Sci-Fi",
            "count": 4
           },
           {
            "name": "Action, Adventure, Drama",
            "count": 1
           },
           {
            "name": "5 others",
            "count": 5
           }
          ]
         }
        },
        {
         "name": "IMDB_Rating",
         "dtype": "float64",
         "stats": {
          "unique_count": 6,
          "nan_count": 0,
          "min": "7.6",
          "max": "9.0",
          "histogram": [
           {
            "bin_start": 7.6,
            "bin_end": 7.739999999999999,
            "count": 1
           },
           {
            "bin_start": 7.739999999999999,
            "bin_end": 7.88,
            "count": 3
           },
           {
            "bin_start": 7.88,
            "bin_end": 8.02,
            "count": 2
           },
           {
            "bin_start": 8.02,
            "bin_end": 8.16,
            "count": 0
           },
           {
            "bin_start": 8.16,
            "bin_end": 8.3,
            "count": 0
           },
           {
            "bin_start": 8.3,
            "bin_end": 8.44,
            "count": 3
           },
           {
            "bin_start": 8.44,
            "bin_end": 8.58,
            "count": 0
           },
           {
            "bin_start": 8.58,
            "bin_end": 8.72,
            "count": 0
           },
           {
            "bin_start": 8.72,
            "bin_end": 8.86,
            "count": 0
           },
           {
            "bin_start": 8.86,
            "bin_end": 9,
            "count": 1
           }
          ]
         }
        },
        {
         "name": "Overview",
         "dtype": "object",
         "stats": {
          "unique_count": 10,
          "nan_count": 0,
          "categories": [
           {
            "name": "As a new threat to the galaxy rises, Rey, a desert scavenger, and Finn, an ex-stormtrooper, must join Han Solo and Chewbacca to search for the one hope of restoring peace.",
            "count": 1
           },
           {
            "name": "After the devastating events of Avengers: Infinity War (2018), the universe is in ruins. With the help of remaining allies, the Avengers assemble once more in order to reverse Thanos' actions and restore balance to the universe.",
            "count": 1
           },
           {
            "name": "8 others",
            "count": 8
           }
          ]
         }
        },
        {
         "name": "Meta_score",
         "dtype": "float64",
         "stats": {
          "unique_count": 8,
          "nan_count": 0,
          "min": "65.0",
          "max": "84.0",
          "histogram": [
           {
            "bin_start": 65,
            "bin_end": 66.9,
            "count": 1
           },
           {
            "bin_start": 66.9,
            "bin_end": 68.8,
            "count": 1
           },
           {
            "bin_start": 68.8,
            "bin_end": 70.7,
            "count": 1
           },
           {
            "bin_start": 70.7,
            "bin_end": 72.6,
            "count": 0
           },
           {
            "bin_start": 72.6,
            "bin_end": 74.5,
            "count": 0
           },
           {
            "bin_start": 74.5,
            "bin_end": 76.4,
            "count": 1
           },
           {
            "bin_start": 76.4,
            "bin_end": 78.3,
            "count": 2
           },
           {
            "bin_start": 78.3,
            "bin_end": 80.2,
            "count": 2
           },
           {
            "bin_start": 80.2,
            "bin_end": 82.1,
            "count": 0
           },
           {
            "bin_start": 82.1,
            "bin_end": 84,
            "count": 2
           }
          ]
         }
        },
        {
         "name": "Director",
         "dtype": "object",
         "stats": {
          "unique_count": 7,
          "nan_count": 0,
          "categories": [
           {
            "name": "Anthony Russo",
            "count": 2
           },
           {
            "name": "James Cameron",
            "count": 2
           },
           {
            "name": "5 others",
            "count": 6
           }
          ]
         }
        },
        {
         "name": "Star1",
         "dtype": "object",
         "stats": {
          "unique_count": 8,
          "nan_count": 0,
          "categories": [
           {
            "name": "Joe Russo",
            "count": 2
           },
           {
            "name": "Christian Bale",
            "count": 2
           },
           {
            "name": "6 others",
            "count": 6
           }
          ]
         }
        },
        {
         "name": "Star2",
         "dtype": "object",
         "stats": {
          "unique_count": 9,
          "nan_count": 0,
          "categories": [
           {
            "name": "Robert Downey Jr.",
            "count": 2
           },
           {
            "name": "John Boyega",
            "count": 1
           },
           {
            "name": "7 others",
            "count": 7
           }
          ]
         }
        },
        {
         "name": "Star3",
         "dtype": "object",
         "stats": {
          "unique_count": 10,
          "nan_count": 0,
          "categories": [
           {
            "name": "Oscar Isaac",
            "count": 1
           },
           {
            "name": "Chris Evans",
            "count": 1
           },
           {
            "name": "8 others",
            "count": 8
           }
          ]
         }
        },
        {
         "name": "Star4",
         "dtype": "object",
         "stats": {
          "unique_count": 9,
          "nan_count": 0,
          "categories": [
           {
            "name": "Mark Ruffalo",
            "count": 2
           },
           {
            "name": "Domhnall Gleeson",
            "count": 1
           },
           {
            "name": "7 others",
            "count": 7
           }
          ]
         }
        },
        {
         "name": "No_of_Votes",
         "dtype": "int64",
         "stats": {
          "unique_count": 10,
          "nan_count": 0,
          "min": "250057",
          "max": "2303232",
          "histogram": [
           {
            "bin_start": 250057,
            "bin_end": 455374.5,
            "count": 1
           },
           {
            "bin_start": 455374.5,
            "bin_end": 660692,
            "count": 1
           },
           {
            "bin_start": 660692,
            "bin_end": 866009.5,
            "count": 3
           },
           {
            "bin_start": 866009.5,
            "bin_end": 1071327,
            "count": 1
           },
           {
            "bin_start": 1071327,
            "bin_end": 1276644.5,
            "count": 2
           },
           {
            "bin_start": 1276644.5,
            "bin_end": 1481962,
            "count": 0
           },
           {
            "bin_start": 1481962,
            "bin_end": 1687279.5,
            "count": 1
           },
           {
            "bin_start": 1687279.5,
            "bin_end": 1892597,
            "count": 0
           },
           {
            "bin_start": 1892597,
            "bin_end": 2097914.5,
            "count": 0
           },
           {
            "bin_start": 2097914.5,
            "bin_end": 2303232,
            "count": 1
           }
          ]
         }
        },
        {
         "name": "Gross",
         "dtype": "float64",
         "stats": {
          "unique_count": 10,
          "nan_count": 0,
          "min": "448139099.0",
          "max": "936662225.0",
          "histogram": [
           {
            "bin_start": 448139099,
            "bin_end": 496991411.6,
            "count": 1
           },
           {
            "bin_start": 496991411.6,
            "bin_end": 545843724.2,
            "count": 2
           },
           {
            "bin_start": 545843724.2,
            "bin_end": 594696036.8,
            "count": 0
           },
           {
            "bin_start": 594696036.8,
            "bin_end": 643548349.4,
            "count": 2
           },
           {
            "bin_start": 643548349.4,
            "bin_end": 692400662,
            "count": 2
           },
           {
            "bin_start": 692400662,
            "bin_end": 741252974.6,
            "count": 0
           },
           {
            "bin_start": 741252974.6,
            "bin_end": 790105287.2,
            "count": 1
           },
           {
            "bin_start": 790105287.2,
            "bin_end": 838957599.8,
            "count": 0
           },
           {
            "bin_start": 838957599.8,
            "bin_end": 887809912.4000001,
            "count": 1
           },
           {
            "bin_start": 887809912.4000001,
            "bin_end": 936662225,
            "count": 1
           }
          ]
         }
        },
        {
         "name": "_deepnote_index_column",
         "dtype": "int64"
        }
       ],
       "rows": [
        {
         "Poster_Link": "https://m.media-amazon.com/images/M/MV5BOTAzODEzNDAzMl5BMl5BanBnXkFtZTgwMDU1MTgzNzE@._V1_UX67_CR0,0,67,98_AL_.jpg",
         "Series_Title": "Star Wars: Episode VII - The Force Awakens",
         "Released_Year": "2015",
         "Certificate": "U",
         "Runtime": "138 min",
         "Genre": "Action, Adventure, Sci-Fi",
         "IMDB_Rating": 7.9,
         "Overview": "As a new threat to the galaxy rises, Rey, a desert scavenger, and Finn, an ex-stormtrooper, must join Han Solo and Chewbacca to search for the one hope of restoring peace.",
         "Meta_score": 80,
         "Director": "J.J. Abrams",
         "Star1": "Daisy Ridley",
         "Star2": "John Boyega",
         "Star3": "Oscar Isaac",
         "Star4": "Domhnall Gleeson",
         "No_of_Votes": 860823,
         "Gross": 936662225,
         "_deepnote_index_column": 477
        },
        {
         "Poster_Link": "https://m.media-amazon.com/images/M/MV5BMTc5MDE2ODcwNV5BMl5BanBnXkFtZTgwMzI2NzQ2NzM@._V1_UX67_CR0,0,67,98_AL_.jpg",
         "Series_Title": "Avengers: Endgame",
         "Released_Year": "2019",
         "Certificate": "UA",
         "Runtime": "181 min",
         "Genre": "Action, Adventure, Drama",
         "IMDB_Rating": 8.4,
         "Overview": "After the devastating events of Avengers: Infinity War (2018), the universe is in ruins. With the help of remaining allies, the Avengers assemble once more in order to reverse Thanos' actions and restore balance to the universe.",
         "Meta_score": 78,
         "Director": "Anthony Russo",
         "Star1": "Joe Russo",
         "Star2": "Robert Downey Jr.",
         "Star3": "Chris Evans",
         "Star4": "Mark Ruffalo",
         "No_of_Votes": 809955,
         "Gross": 858373000,
         "_deepnote_index_column": 59
        },
        {
         "Poster_Link": "https://m.media-amazon.com/images/M/MV5BMTYwOTEwNjAzMl5BMl5BanBnXkFtZTcwODc5MTUwMw@@._V1_UX67_CR0,0,67,98_AL_.jpg",
         "Series_Title": "Avatar",
         "Released_Year": "2009",
         "Certificate": "UA",
         "Runtime": "162 min",
         "Genre": "Action, Adventure, Fantasy",
         "IMDB_Rating": 7.8,
         "Overview": "A paraplegic Marine dispatched to the moon Pandora on a unique mission becomes torn between following his orders and protecting the world he feels is his home.",
         "Meta_score": 83,
         "Director": "James Cameron",
         "Star1": "Sam Worthington",
         "Star2": "Zoe Saldana",
         "Star3": "Sigourney Weaver",
         "Star4": "Michelle Rodriguez",
         "No_of_Votes": 1118998,
         "Gross": 760507625,
         "_deepnote_index_column": 623
        },
        {
         "Poster_Link": "https://m.media-amazon.com/images/M/MV5BMjMxNjY2MDU1OV5BMl5BanBnXkFtZTgwNzY1MTUwNTM@._V1_UX67_CR0,0,67,98_AL_.jpg",
         "Series_Title": "Avengers: Infinity War",
         "Released_Year": "2018",
         "Certificate": "UA",
         "Runtime": "149 min",
         "Genre": "Action, Adventure, Sci-Fi",
         "IMDB_Rating": 8.4,
         "Overview": "The Avengers and their allies must be willing to sacrifice all in an attempt to defeat the powerful Thanos before his blitz of devastation and ruin puts an end to the universe.",
         "Meta_score": 68,
         "Director": "Anthony Russo",
         "Star1": "Joe Russo",
         "Star2": "Robert Downey Jr.",
         "Star3": "Chris Hemsworth",
         "Star4": "Mark Ruffalo",
         "No_of_Votes": 834477,
         "Gross": 678815482,
         "_deepnote_index_column": 60
        },
        {
         "Poster_Link": "https://m.media-amazon.com/images/M/MV5BMDdmZGU3NDQtY2E5My00ZTliLWIzOTUtMTY4ZGI1YjdiNjk3XkEyXkFqcGdeQXVyNTA4NzY1MzY@._V1_UX67_CR0,0,67,98_AL_.jpg",
         "Series_Title": "Titanic",
         "Released_Year": "1997",
         "Certificate": "UA",
         "Runtime": "194 min",
         "Genre": "Drama, Romance",
         "IMDB_Rating": 7.8,
         "Overview": "A seventeen-year-old aristocrat falls in love with a kind but poor artist aboard the luxurious, ill-fated R.M.S. Titanic.",
         "Meta_score": 75,
         "Director": "James Cameron",
         "Star1": "Leonardo DiCaprio",
         "Star2": "Kate Winslet",
         "Star3": "Billy Zane",
         "Star4": "Kathy Bates",
         "No_of_Votes": 1046089,
         "Gross": 659325379,
         "_deepnote_index_column": 652
        },
        {
         "Poster_Link": "https://m.media-amazon.com/images/M/MV5BNDYxNjQyMjAtNTdiOS00NGYwLWFmNTAtNThmYjU5ZGI2YTI1XkEyXkFqcGdeQXVyMTMxODk2OTU@._V1_UX67_CR0,0,67,98_AL_.jpg",
         "Series_Title": "The Avengers",
         "Released_Year": "2012",
         "Certificate": "UA",
         "Runtime": "143 min",
         "Genre": "Action, Adventure, Sci-Fi",
         "IMDB_Rating": 8,
         "Overview": "Earth's mightiest heroes must come together and learn to fight as a team if they are going to stop the mischievous Loki and his alien army from enslaving humanity.",
         "Meta_score": 69,
         "Director": "Joss Whedon",
         "Star1": "Robert Downey Jr.",
         "Star2": "Chris Evans",
         "Star3": "Scarlett Johansson",
         "Star4": "Jeremy Renner",
         "No_of_Votes": 1260806,
         "Gross": 623279547,
         "_deepnote_index_column": 357
        },
        {
         "Poster_Link": "https://m.media-amazon.com/images/M/MV5BMTEzNzY0OTg0NTdeQTJeQWpwZ15BbWU4MDU3OTg3MjUz._V1_UX67_CR0,0,67,98_AL_.jpg",
         "Series_Title": "Incredibles 2",
         "Released_Year": "2018",
         "Certificate": "UA",
         "Runtime": "118 min",
         "Genre": "Animation, Action, Adventure",
         "IMDB_Rating": 7.6,
         "Overview": "The Incredibles family takes on a new mission which involves a change in family roles: Bob Parr (Mr. Incredible) must manage the house while his wife Helen (Elastigirl) goes out to save the world.",
         "Meta_score": 80,
         "Director": "Brad Bird",
         "Star1": "Craig T. Nelson",
         "Star2": "Holly Hunter",
         "Star3": "Sarah Vowell",
         "Star4": "Huck Milner",
         "No_of_Votes": 250057,
         "Gross": 608581744,
         "_deepnote_index_column": 891
        },
        {
         "Poster_Link": "https://m.media-amazon.com/images/M/MV5BMTMxNTMwODM0NF5BMl5BanBnXkFtZTcwODAyMTk2Mw@@._V1_UX67_CR0,0,67,98_AL_.jpg",
         "Series_Title": "The Dark Knight",
         "Released_Year": "2008",
         "Certificate": "UA",
         "Runtime": "152 min",
         "Genre": "Action, Crime, Drama",
         "IMDB_Rating": 9,
         "Overview": "When the menace known as the Joker wreaks havoc and chaos on the people of Gotham, Batman must accept one of the greatest psychological and physical tests of his ability to fight injustice.",
         "Meta_score": 84,
         "Director": "Christopher Nolan",
         "Star1": "Christian Bale",
         "Star2": "Heath Ledger",
         "Star3": "Aaron Eckhart",
         "Star4": "Michael Caine",
         "No_of_Votes": 2303232,
         "Gross": 534858444,
         "_deepnote_index_column": 2
        },
        {
         "Poster_Link": "https://m.media-amazon.com/images/M/MV5BMjEwMzMxODIzOV5BMl5BanBnXkFtZTgwNzg3OTAzMDI@._V1_UX67_CR0,0,67,98_AL_.jpg",
         "Series_Title": "Rogue One",
         "Released_Year": "2016",
         "Certificate": "UA",
         "Runtime": "133 min",
         "Genre": "Action, Adventure, Sci-Fi",
         "IMDB_Rating": 7.8,
         "Overview": "The daughter of an Imperial scientist joins the Rebel Alliance in a risky move to steal the plans for the Death Star.",
         "Meta_score": 65,
         "Director": "Gareth Edwards",
         "Star1": "Felicity Jones",
         "Star2": "Diego Luna",
         "Star3": "Alan Tudyk",
         "Star4": "Donnie Yen",
         "No_of_Votes": 556608,
         "Gross": 532177324,
         "_deepnote_index_column": 582
        },
        {
         "Poster_Link": "https://m.media-amazon.com/images/M/MV5BMTk4ODQzNDY3Ml5BMl5BanBnXkFtZTcwODA0NTM4Nw@@._V1_UX67_CR0,0,67,98_AL_.jpg",
         "Series_Title": "The Dark Knight Rises",
         "Released_Year": "2012",
         "Certificate": "UA",
         "Runtime": "164 min",
         "Genre": "Action, Adventure",
         "IMDB_Rating": 8.4,
         "Overview": "Eight years after the Joker's reign of anarchy, Batman, with the help of the enigmatic Catwoman, is forced from his exile to save Gotham City from the brutal guerrilla terrorist Bane.",
         "Meta_score": 78,
         "Director": "Christopher Nolan",
         "Star1": "Christian Bale",
         "Star2": "Tom Hardy",
         "Star3": "Anne Hathaway",
         "Star4": "Gary Oldman",
         "No_of_Votes": 1516346,
         "Gross": 448139099,
         "_deepnote_index_column": 63
        }
       ]
      },
      "text/plain": "                                           Poster_Link  \\\n477  https://m.media-amazon.com/images/M/MV5BOTAzOD...   \n59   https://m.media-amazon.com/images/M/MV5BMTc5MD...   \n623  https://m.media-amazon.com/images/M/MV5BMTYwOT...   \n60   https://m.media-amazon.com/images/M/MV5BMjMxNj...   \n652  https://m.media-amazon.com/images/M/MV5BMDdmZG...   \n357  https://m.media-amazon.com/images/M/MV5BNDYxNj...   \n891  https://m.media-amazon.com/images/M/MV5BMTEzNz...   \n2    https://m.media-amazon.com/images/M/MV5BMTMxNT...   \n582  https://m.media-amazon.com/images/M/MV5BMjEwMz...   \n63   https://m.media-amazon.com/images/M/MV5BMTk4OD...   \n\n                                   Series_Title Released_Year Certificate  \\\n477  Star Wars: Episode VII - The Force Awakens          2015           U   \n59                            Avengers: Endgame          2019          UA   \n623                                      Avatar          2009          UA   \n60                       Avengers: Infinity War          2018          UA   \n652                                     Titanic          1997          UA   \n357                                The Avengers          2012          UA   \n891                               Incredibles 2          2018          UA   \n2                               The Dark Knight          2008          UA   \n582                                   Rogue One          2016          UA   \n63                        The Dark Knight Rises          2012          UA   \n\n     Runtime                         Genre  IMDB_Rating  \\\n477  138 min     Action, Adventure, Sci-Fi          7.9   \n59   181 min      Action, Adventure, Drama          8.4   \n623  162 min    Action, Adventure, Fantasy          7.8   \n60   149 min     Action, Adventure, Sci-Fi          8.4   \n652  194 min                Drama, Romance          7.8   \n357  143 min     Action, Adventure, Sci-Fi          8.0   \n891  118 min  Animation, Action, Adventure          7.6   \n2    152 min          Action, Crime, Drama          9.0   \n582  133 min     Action, Adventure, Sci-Fi          7.8   \n63   164 min             Action, Adventure          8.4   \n\n                                              Overview  Meta_score  \\\n477  As a new threat to the galaxy rises, Rey, a de...        80.0   \n59   After the devastating events of Avengers: Infi...        78.0   \n623  A paraplegic Marine dispatched to the moon Pan...        83.0   \n60   The Avengers and their allies must be willing ...        68.0   \n652  A seventeen-year-old aristocrat falls in love ...        75.0   \n357  Earth's mightiest heroes must come together an...        69.0   \n891  The Incredibles family takes on a new mission ...        80.0   \n2    When the menace known as the Joker wreaks havo...        84.0   \n582  The daughter of an Imperial scientist joins th...        65.0   \n63   Eight years after the Joker's reign of anarchy...        78.0   \n\n              Director              Star1              Star2  \\\n477        J.J. Abrams       Daisy Ridley        John Boyega   \n59       Anthony Russo          Joe Russo  Robert Downey Jr.   \n623      James Cameron    Sam Worthington        Zoe Saldana   \n60       Anthony Russo          Joe Russo  Robert Downey Jr.   \n652      James Cameron  Leonardo DiCaprio       Kate Winslet   \n357        Joss Whedon  Robert Downey Jr.        Chris Evans   \n891          Brad Bird    Craig T. Nelson       Holly Hunter   \n2    Christopher Nolan     Christian Bale       Heath Ledger   \n582     Gareth Edwards     Felicity Jones         Diego Luna   \n63   Christopher Nolan     Christian Bale          Tom Hardy   \n\n                  Star3               Star4  No_of_Votes        Gross  \n477         Oscar Isaac    Domhnall Gleeson       860823  936662225.0  \n59          Chris Evans        Mark Ruffalo       809955  858373000.0  \n623    Sigourney Weaver  Michelle Rodriguez      1118998  760507625.0  \n60      Chris Hemsworth        Mark Ruffalo       834477  678815482.0  \n652          Billy Zane         Kathy Bates      1046089  659325379.0  \n357  Scarlett Johansson       Jeremy Renner      1260806  623279547.0  \n891        Sarah Vowell         Huck Milner       250057  608581744.0  \n2         Aaron Eckhart       Michael Caine      2303232  534858444.0  \n582          Alan Tudyk          Donnie Yen       556608  532177324.0  \n63        Anne Hathaway         Gary Oldman      1516346  448139099.0  ",
      "text/html": "<div>\n<style scoped>\n    .dataframe tbody tr th:only-of-type {\n        vertical-align: middle;\n    }\n\n    .dataframe tbody tr th {\n        vertical-align: top;\n    }\n\n    .dataframe thead th {\n        text-align: right;\n    }\n</style>\n<table border=\"1\" class=\"dataframe\">\n  <thead>\n    <tr style=\"text-align: right;\">\n      <th></th>\n      <th>Poster_Link</th>\n      <th>Series_Title</th>\n      <th>Released_Year</th>\n      <th>Certificate</th>\n      <th>Runtime</th>\n      <th>Genre</th>\n      <th>IMDB_Rating</th>\n      <th>Overview</th>\n      <th>Meta_score</th>\n      <th>Director</th>\n      <th>Star1</th>\n      <th>Star2</th>\n      <th>Star3</th>\n      <th>Star4</th>\n      <th>No_of_Votes</th>\n      <th>Gross</th>\n    </tr>\n  </thead>\n  <tbody>\n    <tr>\n      <th>477</th>\n      <td>https://m.media-amazon.com/images/M/MV5BOTAzOD...</td>\n      <td>Star Wars: Episode VII - The Force Awakens</td>\n      <td>2015</td>\n      <td>U</td>\n      <td>138 min</td>\n      <td>Action, Adventure, Sci-Fi</td>\n      <td>7.9</td>\n      <td>As a new threat to the galaxy rises, Rey, a de...</td>\n      <td>80.0</td>\n      <td>J.J. Abrams</td>\n      <td>Daisy Ridley</td>\n      <td>John Boyega</td>\n      <td>Oscar Isaac</td>\n      <td>Domhnall Gleeson</td>\n      <td>860823</td>\n      <td>936662225.0</td>\n    </tr>\n    <tr>\n      <th>59</th>\n      <td>https://m.media-amazon.com/images/M/MV5BMTc5MD...</td>\n      <td>Avengers: Endgame</td>\n      <td>2019</td>\n      <td>UA</td>\n      <td>181 min</td>\n      <td>Action, Adventure, Drama</td>\n      <td>8.4</td>\n      <td>After the devastating events of Avengers: Infi...</td>\n      <td>78.0</td>\n      <td>Anthony Russo</td>\n      <td>Joe Russo</td>\n      <td>Robert Downey Jr.</td>\n      <td>Chris Evans</td>\n      <td>Mark Ruffalo</td>\n      <td>809955</td>\n      <td>858373000.0</td>\n    </tr>\n    <tr>\n      <th>623</th>\n      <td>https://m.media-amazon.com/images/M/MV5BMTYwOT...</td>\n      <td>Avatar</td>\n      <td>2009</td>\n      <td>UA</td>\n      <td>162 min</td>\n      <td>Action, Adventure, Fantasy</td>\n      <td>7.8</td>\n      <td>A paraplegic Marine dispatched to the moon Pan...</td>\n      <td>83.0</td>\n      <td>James Cameron</td>\n      <td>Sam Worthington</td>\n      <td>Zoe Saldana</td>\n      <td>Sigourney Weaver</td>\n      <td>Michelle Rodriguez</td>\n      <td>1118998</td>\n      <td>760507625.0</td>\n    </tr>\n    <tr>\n      <th>60</th>\n      <td>https://m.media-amazon.com/images/M/MV5BMjMxNj...</td>\n      <td>Avengers: Infinity War</td>\n      <td>2018</td>\n      <td>UA</td>\n      <td>149 min</td>\n      <td>Action, Adventure, Sci-Fi</td>\n      <td>8.4</td>\n      <td>The Avengers and their allies must be willing ...</td>\n      <td>68.0</td>\n      <td>Anthony Russo</td>\n      <td>Joe Russo</td>\n      <td>Robert Downey Jr.</td>\n      <td>Chris Hemsworth</td>\n      <td>Mark Ruffalo</td>\n      <td>834477</td>\n      <td>678815482.0</td>\n    </tr>\n    <tr>\n      <th>652</th>\n      <td>https://m.media-amazon.com/images/M/MV5BMDdmZG...</td>\n      <td>Titanic</td>\n      <td>1997</td>\n      <td>UA</td>\n      <td>194 min</td>\n      <td>Drama, Romance</td>\n      <td>7.8</td>\n      <td>A seventeen-year-old aristocrat falls in love ...</td>\n      <td>75.0</td>\n      <td>James Cameron</td>\n      <td>Leonardo DiCaprio</td>\n      <td>Kate Winslet</td>\n      <td>Billy Zane</td>\n      <td>Kathy Bates</td>\n      <td>1046089</td>\n      <td>659325379.0</td>\n    </tr>\n    <tr>\n      <th>357</th>\n      <td>https://m.media-amazon.com/images/M/MV5BNDYxNj...</td>\n      <td>The Avengers</td>\n      <td>2012</td>\n      <td>UA</td>\n      <td>143 min</td>\n      <td>Action, Adventure, Sci-Fi</td>\n      <td>8.0</td>\n      <td>Earth's mightiest heroes must come together an...</td>\n      <td>69.0</td>\n      <td>Joss Whedon</td>\n      <td>Robert Downey Jr.</td>\n      <td>Chris Evans</td>\n      <td>Scarlett Johansson</td>\n      <td>Jeremy Renner</td>\n      <td>1260806</td>\n      <td>623279547.0</td>\n    </tr>\n    <tr>\n      <th>891</th>\n      <td>https://m.media-amazon.com/images/M/MV5BMTEzNz...</td>\n      <td>Incredibles 2</td>\n      <td>2018</td>\n      <td>UA</td>\n      <td>118 min</td>\n      <td>Animation, Action, Adventure</td>\n      <td>7.6</td>\n      <td>The Incredibles family takes on a new mission ...</td>\n      <td>80.0</td>\n      <td>Brad Bird</td>\n      <td>Craig T. Nelson</td>\n      <td>Holly Hunter</td>\n      <td>Sarah Vowell</td>\n      <td>Huck Milner</td>\n      <td>250057</td>\n      <td>608581744.0</td>\n    </tr>\n    <tr>\n      <th>2</th>\n      <td>https://m.media-amazon.com/images/M/MV5BMTMxNT...</td>\n      <td>The Dark Knight</td>\n      <td>2008</td>\n      <td>UA</td>\n      <td>152 min</td>\n      <td>Action, Crime, Drama</td>\n      <td>9.0</td>\n      <td>When the menace known as the Joker wreaks havo...</td>\n      <td>84.0</td>\n      <td>Christopher Nolan</td>\n      <td>Christian Bale</td>\n      <td>Heath Ledger</td>\n      <td>Aaron Eckhart</td>\n      <td>Michael Caine</td>\n      <td>2303232</td>\n      <td>534858444.0</td>\n    </tr>\n    <tr>\n      <th>582</th>\n      <td>https://m.media-amazon.com/images/M/MV5BMjEwMz...</td>\n      <td>Rogue One</td>\n      <td>2016</td>\n      <td>UA</td>\n      <td>133 min</td>\n      <td>Action, Adventure, Sci-Fi</td>\n      <td>7.8</td>\n      <td>The daughter of an Imperial scientist joins th...</td>\n      <td>65.0</td>\n      <td>Gareth Edwards</td>\n      <td>Felicity Jones</td>\n      <td>Diego Luna</td>\n      <td>Alan Tudyk</td>\n      <td>Donnie Yen</td>\n      <td>556608</td>\n      <td>532177324.0</td>\n    </tr>\n    <tr>\n      <th>63</th>\n      <td>https://m.media-amazon.com/images/M/MV5BMTk4OD...</td>\n      <td>The Dark Knight Rises</td>\n      <td>2012</td>\n      <td>UA</td>\n      <td>164 min</td>\n      <td>Action, Adventure</td>\n      <td>8.4</td>\n      <td>Eight years after the Joker's reign of anarchy...</td>\n      <td>78.0</td>\n      <td>Christopher Nolan</td>\n      <td>Christian Bale</td>\n      <td>Tom Hardy</td>\n      <td>Anne Hathaway</td>\n      <td>Gary Oldman</td>\n      <td>1516346</td>\n      <td>448139099.0</td>\n    </tr>\n  </tbody>\n</table>\n</div>"
     },
     "metadata": {}
    }
   ],
   "execution_count": 20
  },
  {
   "cell_type": "code",
   "source": "top_10_2=mov.nlargest(10,columns=['IMDB_Rating','No_of_Votes','Gross'])",
   "metadata": {
    "cell_id": "e88773db959c4f25980ff54b77f912e9",
    "tags": [],
    "deepnote_to_be_reexecuted": false,
    "source_hash": "4ae49c87",
    "execution_start": 1651338597686,
    "execution_millis": 0,
    "deepnote_cell_type": "code",
    "deepnote_cell_height": 81
   },
   "outputs": [],
   "execution_count": 21
  },
  {
   "cell_type": "code",
   "source": "top_10_2",
   "metadata": {
    "cell_id": "711c220dd1684cc38cb184c11c7d7a45",
    "tags": [],
    "deepnote_to_be_reexecuted": false,
    "source_hash": "b648fd14",
    "execution_start": 1651338610507,
    "execution_millis": 86,
    "deepnote_cell_type": "code",
    "deepnote_cell_height": 600
   },
   "outputs": [
    {
     "output_type": "execute_result",
     "execution_count": 22,
     "data": {
      "application/vnd.deepnote.dataframe.v3+json": {
       "column_count": 16,
       "row_count": 10,
       "columns": [
        {
         "name": "Poster_Link",
         "dtype": "object",
         "stats": {
          "unique_count": 10,
          "nan_count": 0,
          "categories": [
           {
            "name": "https://m.media-amazon.com/images/M/MV5BMDFkYTc0MGEtZmNhMC00ZDIzLWFmNTEtODM1ZmRlYWMwMWFmXkEyXkFqcGdeQXVyMTMxODk2OTU@._V1_UX67_CR0,0,67,98_AL_.jpg",
            "count": 1
           },
           {
            "name": "https://m.media-amazon.com/images/M/MV5BM2MyNjYxNmUtYTAwNi00MTYxLWJmNWYtYzZlODY3ZTk3OTFlXkEyXkFqcGdeQXVyNzkwMjQ5NzM@._V1_UY98_CR1,0,67,98_AL_.jpg",
            "count": 1
           },
           {
            "name": "8 others",
            "count": 8
           }
          ]
         }
        },
        {
         "name": "Series_Title",
         "dtype": "object",
         "stats": {
          "unique_count": 10,
          "nan_count": 0,
          "categories": [
           {
            "name": "The Shawshank Redemption",
            "count": 1
           },
           {
            "name": "The Godfather",
            "count": 1
           },
           {
            "name": "8 others",
            "count": 8
           }
          ]
         }
        },
        {
         "name": "Released_Year",
         "dtype": "object",
         "stats": {
          "unique_count": 9,
          "nan_count": 0,
          "categories": [
           {
            "name": "1994",
            "count": 2
           },
           {
            "name": "1972",
            "count": 1
           },
           {
            "name": "7 others",
            "count": 7
           }
          ]
         }
        },
        {
         "name": "Certificate",
         "dtype": "object",
         "stats": {
          "unique_count": 3,
          "nan_count": 0,
          "categories": [
           {
            "name": "A",
            "count": 6
           },
           {
            "name": "UA",
            "count": 2
           },
           {
            "name": "U",
            "count": 2
           }
          ]
         }
        },
        {
         "name": "Runtime",
         "dtype": "object",
         "stats": {
          "unique_count": 10,
          "nan_count": 0,
          "categories": [
           {
            "name": "142 min",
            "count": 1
           },
           {
            "name": "175 min",
            "count": 1
           },
           {
            "name": "8 others",
            "count": 8
           }
          ]
         }
        },
        {
         "name": "Genre",
         "dtype": "object",
         "stats": {
          "unique_count": 6,
          "nan_count": 0,
          "categories": [
           {
            "name": "Crime, Drama",
            "count": 4
           },
           {
            "name": "Drama",
            "count": 2
           },
           {
            "name": "4 others",
            "count": 4
           }
          ]
         }
        },
        {
         "name": "IMDB_Rating",
         "dtype": "float64",
         "stats": {
          "unique_count": 5,
          "nan_count": 0,
          "min": "8.8",
          "max": "9.3",
          "histogram": [
           {
            "bin_start": 8.8,
            "bin_end": 8.850000000000001,
            "count": 2
           },
           {
            "bin_start": 8.850000000000001,
            "bin_end": 8.9,
            "count": 0
           },
           {
            "bin_start": 8.9,
            "bin_end": 8.950000000000001,
            "count": 3
           },
           {
            "bin_start": 8.950000000000001,
            "bin_end": 9,
            "count": 0
           },
           {
            "bin_start": 9,
            "bin_end": 9.05,
            "count": 3
           },
           {
            "bin_start": 9.05,
            "bin_end": 9.100000000000001,
            "count": 0
           },
           {
            "bin_start": 9.100000000000001,
            "bin_end": 9.15,
            "count": 0
           },
           {
            "bin_start": 9.15,
            "bin_end": 9.200000000000001,
            "count": 1
           },
           {
            "bin_start": 9.200000000000001,
            "bin_end": 9.25,
            "count": 0
           },
           {
            "bin_start": 9.25,
            "bin_end": 9.3,
            "count": 1
           }
          ]
         }
        },
        {
         "name": "Overview",
         "dtype": "object",
         "stats": {
          "unique_count": 10,
          "nan_count": 0,
          "categories": [
           {
            "name": "Two imprisoned men bond over a number of years, finding solace and eventual redemption through acts of common decency.",
            "count": 1
           },
           {
            "name": "An organized crime dynasty's aging patriarch transfers control of his clandestine empire to his reluctant son.",
            "count": 1
           },
           {
            "name": "8 others",
            "count": 8
           }
          ]
         }
        },
        {
         "name": "Meta_score",
         "dtype": "float64",
         "stats": {
          "unique_count": 8,
          "nan_count": 0,
          "min": "66.0",
          "max": "100.0",
          "histogram": [
           {
            "bin_start": 66,
            "bin_end": 69.4,
            "count": 1
           },
           {
            "bin_start": 69.4,
            "bin_end": 72.8,
            "count": 0
           },
           {
            "bin_start": 72.8,
            "bin_end": 76.2,
            "count": 1
           },
           {
            "bin_start": 76.2,
            "bin_end": 79.6,
            "count": 0
           },
           {
            "bin_start": 79.6,
            "bin_end": 83,
            "count": 1
           },
           {
            "bin_start": 83,
            "bin_end": 86.4,
            "count": 1
           },
           {
            "bin_start": 86.4,
            "bin_end": 89.8,
            "count": 0
           },
           {
            "bin_start": 89.8,
            "bin_end": 93.2,
            "count": 1
           },
           {
            "bin_start": 93.2,
            "bin_end": 96.6,
            "count": 4
           },
           {
            "bin_start": 96.6,
            "bin_end": 100,
            "count": 1
           }
          ]
         }
        },
        {
         "name": "Director",
         "dtype": "object",
         "stats": {
          "unique_count": 8,
          "nan_count": 0,
          "categories": [
           {
            "name": "Francis Ford Coppola",
            "count": 2
           },
           {
            "name": "Christopher Nolan",
            "count": 2
           },
           {
            "name": "6 others",
            "count": 6
           }
          ]
         }
        },
        {
         "name": "Star1",
         "dtype": "object",
         "stats": {
          "unique_count": 10,
          "nan_count": 0,
          "categories": [
           {
            "name": "Tim Robbins",
            "count": 1
           },
           {
            "name": "Marlon Brando",
            "count": 1
           },
           {
            "name": "8 others",
            "count": 8
           }
          ]
         }
        },
        {
         "name": "Star2",
         "dtype": "object",
         "stats": {
          "unique_count": 10,
          "nan_count": 0,
          "categories": [
           {
            "name": "Morgan Freeman",
            "count": 1
           },
           {
            "name": "Al Pacino",
            "count": 1
           },
           {
            "name": "8 others",
            "count": 8
           }
          ]
         }
        },
        {
         "name": "Star3",
         "dtype": "object",
         "stats": {
          "unique_count": 10,
          "nan_count": 0,
          "categories": [
           {
            "name": "Bob Gunton",
            "count": 1
           },
           {
            "name": "James Caan",
            "count": 1
           },
           {
            "name": "8 others",
            "count": 8
           }
          ]
         }
        },
        {
         "name": "Star4",
         "dtype": "object",
         "stats": {
          "unique_count": 9,
          "nan_count": 0,
          "categories": [
           {
            "name": "Diane Keaton",
            "count": 2
           },
           {
            "name": "William Sadler",
            "count": 1
           },
           {
            "name": "7 others",
            "count": 7
           }
          ]
         }
        },
        {
         "name": "No_of_Votes",
         "dtype": "int64",
         "stats": {
          "unique_count": 10,
          "nan_count": 0,
          "min": "689845",
          "max": "2343110",
          "histogram": [
           {
            "bin_start": 689845,
            "bin_end": 855171.5,
            "count": 1
           },
           {
            "bin_start": 855171.5,
            "bin_end": 1020498,
            "count": 0
           },
           {
            "bin_start": 1020498,
            "bin_end": 1185824.5,
            "count": 1
           },
           {
            "bin_start": 1185824.5,
            "bin_end": 1351151,
            "count": 1
           },
           {
            "bin_start": 1351151,
            "bin_end": 1516477.5,
            "count": 0
           },
           {
            "bin_start": 1516477.5,
            "bin_end": 1681804,
            "count": 2
           },
           {
            "bin_start": 1681804,
            "bin_end": 1847130.5,
            "count": 1
           },
           {
            "bin_start": 1847130.5,
            "bin_end": 2012457,
            "count": 1
           },
           {
            "bin_start": 2012457,
            "bin_end": 2177783.5,
            "count": 1
           },
           {
            "bin_start": 2177783.5,
            "bin_end": 2343110,
            "count": 2
           }
          ]
         }
        },
        {
         "name": "Gross",
         "dtype": "float64",
         "stats": {
          "unique_count": 10,
          "nan_count": 0,
          "min": "4360000.0",
          "max": "534858444.0",
          "histogram": [
           {
            "bin_start": 4360000,
            "bin_end": 57409844.4,
            "count": 4
           },
           {
            "bin_start": 57409844.4,
            "bin_end": 110459688.8,
            "count": 2
           },
           {
            "bin_start": 110459688.8,
            "bin_end": 163509533.2,
            "count": 1
           },
           {
            "bin_start": 163509533.2,
            "bin_end": 216559377.6,
            "count": 0
           },
           {
            "bin_start": 216559377.6,
            "bin_end": 269609222,
            "count": 0
           },
           {
            "bin_start": 269609222,
            "bin_end": 322659066.4,
            "count": 1
           },
           {
            "bin_start": 322659066.4,
            "bin_end": 375708910.8,
            "count": 0
           },
           {
            "bin_start": 375708910.8,
            "bin_end": 428758755.2,
            "count": 1
           },
           {
            "bin_start": 428758755.2,
            "bin_end": 481808599.59999996,
            "count": 0
           },
           {
            "bin_start": 481808599.59999996,
            "bin_end": 534858444,
            "count": 1
           }
          ]
         }
        },
        {
         "name": "_deepnote_index_column",
         "dtype": "int64"
        }
       ],
       "rows": [
        {
         "Poster_Link": "https://m.media-amazon.com/images/M/MV5BMDFkYTc0MGEtZmNhMC00ZDIzLWFmNTEtODM1ZmRlYWMwMWFmXkEyXkFqcGdeQXVyMTMxODk2OTU@._V1_UX67_CR0,0,67,98_AL_.jpg",
         "Series_Title": "The Shawshank Redemption",
         "Released_Year": "1994",
         "Certificate": "A",
         "Runtime": "142 min",
         "Genre": "Drama",
         "IMDB_Rating": 9.3,
         "Overview": "Two imprisoned men bond over a number of years, finding solace and eventual redemption through acts of common decency.",
         "Meta_score": 80,
         "Director": "Frank Darabont",
         "Star1": "Tim Robbins",
         "Star2": "Morgan Freeman",
         "Star3": "Bob Gunton",
         "Star4": "William Sadler",
         "No_of_Votes": 2343110,
         "Gross": 28341469,
         "_deepnote_index_column": 0
        },
        {
         "Poster_Link": "https://m.media-amazon.com/images/M/MV5BM2MyNjYxNmUtYTAwNi00MTYxLWJmNWYtYzZlODY3ZTk3OTFlXkEyXkFqcGdeQXVyNzkwMjQ5NzM@._V1_UY98_CR1,0,67,98_AL_.jpg",
         "Series_Title": "The Godfather",
         "Released_Year": "1972",
         "Certificate": "A",
         "Runtime": "175 min",
         "Genre": "Crime, Drama",
         "IMDB_Rating": 9.2,
         "Overview": "An organized crime dynasty's aging patriarch transfers control of his clandestine empire to his reluctant son.",
         "Meta_score": 100,
         "Director": "Francis Ford Coppola",
         "Star1": "Marlon Brando",
         "Star2": "Al Pacino",
         "Star3": "James Caan",
         "Star4": "Diane Keaton",
         "No_of_Votes": 1620367,
         "Gross": 134966411,
         "_deepnote_index_column": 1
        },
        {
         "Poster_Link": "https://m.media-amazon.com/images/M/MV5BMTMxNTMwODM0NF5BMl5BanBnXkFtZTcwODAyMTk2Mw@@._V1_UX67_CR0,0,67,98_AL_.jpg",
         "Series_Title": "The Dark Knight",
         "Released_Year": "2008",
         "Certificate": "UA",
         "Runtime": "152 min",
         "Genre": "Action, Crime, Drama",
         "IMDB_Rating": 9,
         "Overview": "When the menace known as the Joker wreaks havoc and chaos on the people of Gotham, Batman must accept one of the greatest psychological and physical tests of his ability to fight injustice.",
         "Meta_score": 84,
         "Director": "Christopher Nolan",
         "Star1": "Christian Bale",
         "Star2": "Heath Ledger",
         "Star3": "Aaron Eckhart",
         "Star4": "Michael Caine",
         "No_of_Votes": 2303232,
         "Gross": 534858444,
         "_deepnote_index_column": 2
        },
        {
         "Poster_Link": "https://m.media-amazon.com/images/M/MV5BMWMwMGQzZTItY2JlNC00OWZiLWIyMDctNDk2ZDQ2YjRjMWQ0XkEyXkFqcGdeQXVyNzkwMjQ5NzM@._V1_UY98_CR1,0,67,98_AL_.jpg",
         "Series_Title": "The Godfather: Part II",
         "Released_Year": "1974",
         "Certificate": "A",
         "Runtime": "202 min",
         "Genre": "Crime, Drama",
         "IMDB_Rating": 9,
         "Overview": "The early life and career of Vito Corleone in 1920s New York City is portrayed, while his son, Michael, expands and tightens his grip on the family crime syndicate.",
         "Meta_score": 90,
         "Director": "Francis Ford Coppola",
         "Star1": "Al Pacino",
         "Star2": "Robert De Niro",
         "Star3": "Robert Duvall",
         "Star4": "Diane Keaton",
         "No_of_Votes": 1129952,
         "Gross": 57300000,
         "_deepnote_index_column": 3
        },
        {
         "Poster_Link": "https://m.media-amazon.com/images/M/MV5BMWU4N2FjNzYtNTVkNC00NzQ0LTg0MjAtYTJlMjFhNGUxZDFmXkEyXkFqcGdeQXVyNjc1NTYyMjg@._V1_UX67_CR0,0,67,98_AL_.jpg",
         "Series_Title": "12 Angry Men",
         "Released_Year": "1957",
         "Certificate": "U",
         "Runtime": "96 min",
         "Genre": "Crime, Drama",
         "IMDB_Rating": 9,
         "Overview": "A jury holdout attempts to prevent a miscarriage of justice by forcing his colleagues to reconsider the evidence.",
         "Meta_score": 96,
         "Director": "Sidney Lumet",
         "Star1": "Henry Fonda",
         "Star2": "Lee J. Cobb",
         "Star3": "Martin Balsam",
         "Star4": "John Fiedler",
         "No_of_Votes": 689845,
         "Gross": 4360000,
         "_deepnote_index_column": 4
        },
        {
         "Poster_Link": "https://m.media-amazon.com/images/M/MV5BNGNhMDIzZTUtNTBlZi00MTRlLWFjM2ItYzViMjE3YzI5MjljXkEyXkFqcGdeQXVyNzkwMjQ5NzM@._V1_UY98_CR0,0,67,98_AL_.jpg",
         "Series_Title": "Pulp Fiction",
         "Released_Year": "1994",
         "Certificate": "A",
         "Runtime": "154 min",
         "Genre": "Crime, Drama",
         "IMDB_Rating": 8.9,
         "Overview": "The lives of two mob hitmen, a boxer, a gangster and his wife, and a pair of diner bandits intertwine in four tales of violence and redemption.",
         "Meta_score": 94,
         "Director": "Quentin Tarantino",
         "Star1": "John Travolta",
         "Star2": "Uma Thurman",
         "Star3": "Samuel L. Jackson",
         "Star4": "Bruce Willis",
         "No_of_Votes": 1826188,
         "Gross": 107928762,
         "_deepnote_index_column": 6
        },
        {
         "Poster_Link": "https://m.media-amazon.com/images/M/MV5BNzA5ZDNlZWMtM2NhNS00NDJjLTk4NDItYTRmY2EwMWZlMTY3XkEyXkFqcGdeQXVyNzkwMjQ5NzM@._V1_UX67_CR0,0,67,98_AL_.jpg",
         "Series_Title": "The Lord of the Rings: The Return of the King",
         "Released_Year": "2003",
         "Certificate": "U",
         "Runtime": "201 min",
         "Genre": "Action, Adventure, Drama",
         "IMDB_Rating": 8.9,
         "Overview": "Gandalf and Aragorn lead the World of Men against Sauron's army to draw his gaze from Frodo and Sam as they approach Mount Doom with the One Ring.",
         "Meta_score": 94,
         "Director": "Peter Jackson",
         "Star1": "Elijah Wood",
         "Star2": "Viggo Mortensen",
         "Star3": "Ian McKellen",
         "Star4": "Orlando Bloom",
         "No_of_Votes": 1642758,
         "Gross": 377845905,
         "_deepnote_index_column": 5
        },
        {
         "Poster_Link": "https://m.media-amazon.com/images/M/MV5BNDE4OTMxMTctNmRhYy00NWE2LTg3YzItYTk3M2UwOTU5Njg4XkEyXkFqcGdeQXVyNjU0OTQ0OTY@._V1_UX67_CR0,0,67,98_AL_.jpg",
         "Series_Title": "Schindler's List",
         "Released_Year": "1993",
         "Certificate": "A",
         "Runtime": "195 min",
         "Genre": "Biography, Drama, History",
         "IMDB_Rating": 8.9,
         "Overview": "In German-occupied Poland during World War II, industrialist Oskar Schindler gradually becomes concerned for his Jewish workforce after witnessing their persecution by the Nazis.",
         "Meta_score": 94,
         "Director": "Steven Spielberg",
         "Star1": "Liam Neeson",
         "Star2": "Ralph Fiennes",
         "Star3": "Ben Kingsley",
         "Star4": "Caroline Goodall",
         "No_of_Votes": 1213505,
         "Gross": 96898818,
         "_deepnote_index_column": 7
        },
        {
         "Poster_Link": "https://m.media-amazon.com/images/M/MV5BMjAxMzY3NjcxNF5BMl5BanBnXkFtZTcwNTI5OTM0Mw@@._V1_UX67_CR0,0,67,98_AL_.jpg",
         "Series_Title": "Inception",
         "Released_Year": "2010",
         "Certificate": "UA",
         "Runtime": "148 min",
         "Genre": "Action, Adventure, Sci-Fi",
         "IMDB_Rating": 8.8,
         "Overview": "A thief who steals corporate secrets through the use of dream-sharing technology is given the inverse task of planting an idea into the mind of a C.E.O.",
         "Meta_score": 74,
         "Director": "Christopher Nolan",
         "Star1": "Leonardo DiCaprio",
         "Star2": "Joseph Gordon-Levitt",
         "Star3": "Elliot Page",
         "Star4": "Ken Watanabe",
         "No_of_Votes": 2067042,
         "Gross": 292576195,
         "_deepnote_index_column": 8
        },
        {
         "Poster_Link": "https://m.media-amazon.com/images/M/MV5BMmEzNTkxYjQtZTc0MC00YTVjLTg5ZTEtZWMwOWVlYzY0NWIwXkEyXkFqcGdeQXVyNzkwMjQ5NzM@._V1_UX67_CR0,0,67,98_AL_.jpg",
         "Series_Title": "Fight Club",
         "Released_Year": "1999",
         "Certificate": "A",
         "Runtime": "139 min",
         "Genre": "Drama",
         "IMDB_Rating": 8.8,
         "Overview": "An insomniac office worker and a devil-may-care soapmaker form an underground fight club that evolves into something much, much more.",
         "Meta_score": 66,
         "Director": "David Fincher",
         "Star1": "Brad Pitt",
         "Star2": "Edward Norton",
         "Star3": "Meat Loaf",
         "Star4": "Zach Grenier",
         "No_of_Votes": 1854740,
         "Gross": 37030102,
         "_deepnote_index_column": 9
        }
       ]
      },
      "text/plain": "                                         Poster_Link  \\\n0  https://m.media-amazon.com/images/M/MV5BMDFkYT...   \n1  https://m.media-amazon.com/images/M/MV5BM2MyNj...   \n2  https://m.media-amazon.com/images/M/MV5BMTMxNT...   \n3  https://m.media-amazon.com/images/M/MV5BMWMwMG...   \n4  https://m.media-amazon.com/images/M/MV5BMWU4N2...   \n6  https://m.media-amazon.com/images/M/MV5BNGNhMD...   \n5  https://m.media-amazon.com/images/M/MV5BNzA5ZD...   \n7  https://m.media-amazon.com/images/M/MV5BNDE4OT...   \n8  https://m.media-amazon.com/images/M/MV5BMjAxMz...   \n9  https://m.media-amazon.com/images/M/MV5BMmEzNT...   \n\n                                    Series_Title Released_Year Certificate  \\\n0                       The Shawshank Redemption          1994           A   \n1                                  The Godfather          1972           A   \n2                                The Dark Knight          2008          UA   \n3                         The Godfather: Part II          1974           A   \n4                                   12 Angry Men          1957           U   \n6                                   Pulp Fiction          1994           A   \n5  The Lord of the Rings: The Return of the King          2003           U   \n7                               Schindler's List          1993           A   \n8                                      Inception          2010          UA   \n9                                     Fight Club          1999           A   \n\n   Runtime                      Genre  IMDB_Rating  \\\n0  142 min                      Drama          9.3   \n1  175 min               Crime, Drama          9.2   \n2  152 min       Action, Crime, Drama          9.0   \n3  202 min               Crime, Drama          9.0   \n4   96 min               Crime, Drama          9.0   \n6  154 min               Crime, Drama          8.9   \n5  201 min   Action, Adventure, Drama          8.9   \n7  195 min  Biography, Drama, History          8.9   \n8  148 min  Action, Adventure, Sci-Fi          8.8   \n9  139 min                      Drama          8.8   \n\n                                            Overview  Meta_score  \\\n0  Two imprisoned men bond over a number of years...        80.0   \n1  An organized crime dynasty's aging patriarch t...       100.0   \n2  When the menace known as the Joker wreaks havo...        84.0   \n3  The early life and career of Vito Corleone in ...        90.0   \n4  A jury holdout attempts to prevent a miscarria...        96.0   \n6  The lives of two mob hitmen, a boxer, a gangst...        94.0   \n5  Gandalf and Aragorn lead the World of Men agai...        94.0   \n7  In German-occupied Poland during World War II,...        94.0   \n8  A thief who steals corporate secrets through t...        74.0   \n9  An insomniac office worker and a devil-may-car...        66.0   \n\n               Director              Star1                 Star2  \\\n0        Frank Darabont        Tim Robbins        Morgan Freeman   \n1  Francis Ford Coppola      Marlon Brando             Al Pacino   \n2     Christopher Nolan     Christian Bale          Heath Ledger   \n3  Francis Ford Coppola          Al Pacino        Robert De Niro   \n4          Sidney Lumet        Henry Fonda           Lee J. Cobb   \n6     Quentin Tarantino      John Travolta           Uma Thurman   \n5         Peter Jackson        Elijah Wood       Viggo Mortensen   \n7      Steven Spielberg        Liam Neeson         Ralph Fiennes   \n8     Christopher Nolan  Leonardo DiCaprio  Joseph Gordon-Levitt   \n9         David Fincher          Brad Pitt         Edward Norton   \n\n               Star3             Star4  No_of_Votes        Gross  \n0         Bob Gunton    William Sadler      2343110   28341469.0  \n1         James Caan      Diane Keaton      1620367  134966411.0  \n2      Aaron Eckhart     Michael Caine      2303232  534858444.0  \n3      Robert Duvall      Diane Keaton      1129952   57300000.0  \n4      Martin Balsam      John Fiedler       689845    4360000.0  \n6  Samuel L. Jackson      Bruce Willis      1826188  107928762.0  \n5       Ian McKellen     Orlando Bloom      1642758  377845905.0  \n7       Ben Kingsley  Caroline Goodall      1213505   96898818.0  \n8        Elliot Page      Ken Watanabe      2067042  292576195.0  \n9          Meat Loaf      Zach Grenier      1854740   37030102.0  ",
      "text/html": "<div>\n<style scoped>\n    .dataframe tbody tr th:only-of-type {\n        vertical-align: middle;\n    }\n\n    .dataframe tbody tr th {\n        vertical-align: top;\n    }\n\n    .dataframe thead th {\n        text-align: right;\n    }\n</style>\n<table border=\"1\" class=\"dataframe\">\n  <thead>\n    <tr style=\"text-align: right;\">\n      <th></th>\n      <th>Poster_Link</th>\n      <th>Series_Title</th>\n      <th>Released_Year</th>\n      <th>Certificate</th>\n      <th>Runtime</th>\n      <th>Genre</th>\n      <th>IMDB_Rating</th>\n      <th>Overview</th>\n      <th>Meta_score</th>\n      <th>Director</th>\n      <th>Star1</th>\n      <th>Star2</th>\n      <th>Star3</th>\n      <th>Star4</th>\n      <th>No_of_Votes</th>\n      <th>Gross</th>\n    </tr>\n  </thead>\n  <tbody>\n    <tr>\n      <th>0</th>\n      <td>https://m.media-amazon.com/images/M/MV5BMDFkYT...</td>\n      <td>The Shawshank Redemption</td>\n      <td>1994</td>\n      <td>A</td>\n      <td>142 min</td>\n      <td>Drama</td>\n      <td>9.3</td>\n      <td>Two imprisoned men bond over a number of years...</td>\n      <td>80.0</td>\n      <td>Frank Darabont</td>\n      <td>Tim Robbins</td>\n      <td>Morgan Freeman</td>\n      <td>Bob Gunton</td>\n      <td>William Sadler</td>\n      <td>2343110</td>\n      <td>28341469.0</td>\n    </tr>\n    <tr>\n      <th>1</th>\n      <td>https://m.media-amazon.com/images/M/MV5BM2MyNj...</td>\n      <td>The Godfather</td>\n      <td>1972</td>\n      <td>A</td>\n      <td>175 min</td>\n      <td>Crime, Drama</td>\n      <td>9.2</td>\n      <td>An organized crime dynasty's aging patriarch t...</td>\n      <td>100.0</td>\n      <td>Francis Ford Coppola</td>\n      <td>Marlon Brando</td>\n      <td>Al Pacino</td>\n      <td>James Caan</td>\n      <td>Diane Keaton</td>\n      <td>1620367</td>\n      <td>134966411.0</td>\n    </tr>\n    <tr>\n      <th>2</th>\n      <td>https://m.media-amazon.com/images/M/MV5BMTMxNT...</td>\n      <td>The Dark Knight</td>\n      <td>2008</td>\n      <td>UA</td>\n      <td>152 min</td>\n      <td>Action, Crime, Drama</td>\n      <td>9.0</td>\n      <td>When the menace known as the Joker wreaks havo...</td>\n      <td>84.0</td>\n      <td>Christopher Nolan</td>\n      <td>Christian Bale</td>\n      <td>Heath Ledger</td>\n      <td>Aaron Eckhart</td>\n      <td>Michael Caine</td>\n      <td>2303232</td>\n      <td>534858444.0</td>\n    </tr>\n    <tr>\n      <th>3</th>\n      <td>https://m.media-amazon.com/images/M/MV5BMWMwMG...</td>\n      <td>The Godfather: Part II</td>\n      <td>1974</td>\n      <td>A</td>\n      <td>202 min</td>\n      <td>Crime, Drama</td>\n      <td>9.0</td>\n      <td>The early life and career of Vito Corleone in ...</td>\n      <td>90.0</td>\n      <td>Francis Ford Coppola</td>\n      <td>Al Pacino</td>\n      <td>Robert De Niro</td>\n      <td>Robert Duvall</td>\n      <td>Diane Keaton</td>\n      <td>1129952</td>\n      <td>57300000.0</td>\n    </tr>\n    <tr>\n      <th>4</th>\n      <td>https://m.media-amazon.com/images/M/MV5BMWU4N2...</td>\n      <td>12 Angry Men</td>\n      <td>1957</td>\n      <td>U</td>\n      <td>96 min</td>\n      <td>Crime, Drama</td>\n      <td>9.0</td>\n      <td>A jury holdout attempts to prevent a miscarria...</td>\n      <td>96.0</td>\n      <td>Sidney Lumet</td>\n      <td>Henry Fonda</td>\n      <td>Lee J. Cobb</td>\n      <td>Martin Balsam</td>\n      <td>John Fiedler</td>\n      <td>689845</td>\n      <td>4360000.0</td>\n    </tr>\n    <tr>\n      <th>6</th>\n      <td>https://m.media-amazon.com/images/M/MV5BNGNhMD...</td>\n      <td>Pulp Fiction</td>\n      <td>1994</td>\n      <td>A</td>\n      <td>154 min</td>\n      <td>Crime, Drama</td>\n      <td>8.9</td>\n      <td>The lives of two mob hitmen, a boxer, a gangst...</td>\n      <td>94.0</td>\n      <td>Quentin Tarantino</td>\n      <td>John Travolta</td>\n      <td>Uma Thurman</td>\n      <td>Samuel L. Jackson</td>\n      <td>Bruce Willis</td>\n      <td>1826188</td>\n      <td>107928762.0</td>\n    </tr>\n    <tr>\n      <th>5</th>\n      <td>https://m.media-amazon.com/images/M/MV5BNzA5ZD...</td>\n      <td>The Lord of the Rings: The Return of the King</td>\n      <td>2003</td>\n      <td>U</td>\n      <td>201 min</td>\n      <td>Action, Adventure, Drama</td>\n      <td>8.9</td>\n      <td>Gandalf and Aragorn lead the World of Men agai...</td>\n      <td>94.0</td>\n      <td>Peter Jackson</td>\n      <td>Elijah Wood</td>\n      <td>Viggo Mortensen</td>\n      <td>Ian McKellen</td>\n      <td>Orlando Bloom</td>\n      <td>1642758</td>\n      <td>377845905.0</td>\n    </tr>\n    <tr>\n      <th>7</th>\n      <td>https://m.media-amazon.com/images/M/MV5BNDE4OT...</td>\n      <td>Schindler's List</td>\n      <td>1993</td>\n      <td>A</td>\n      <td>195 min</td>\n      <td>Biography, Drama, History</td>\n      <td>8.9</td>\n      <td>In German-occupied Poland during World War II,...</td>\n      <td>94.0</td>\n      <td>Steven Spielberg</td>\n      <td>Liam Neeson</td>\n      <td>Ralph Fiennes</td>\n      <td>Ben Kingsley</td>\n      <td>Caroline Goodall</td>\n      <td>1213505</td>\n      <td>96898818.0</td>\n    </tr>\n    <tr>\n      <th>8</th>\n      <td>https://m.media-amazon.com/images/M/MV5BMjAxMz...</td>\n      <td>Inception</td>\n      <td>2010</td>\n      <td>UA</td>\n      <td>148 min</td>\n      <td>Action, Adventure, Sci-Fi</td>\n      <td>8.8</td>\n      <td>A thief who steals corporate secrets through t...</td>\n      <td>74.0</td>\n      <td>Christopher Nolan</td>\n      <td>Leonardo DiCaprio</td>\n      <td>Joseph Gordon-Levitt</td>\n      <td>Elliot Page</td>\n      <td>Ken Watanabe</td>\n      <td>2067042</td>\n      <td>292576195.0</td>\n    </tr>\n    <tr>\n      <th>9</th>\n      <td>https://m.media-amazon.com/images/M/MV5BMmEzNT...</td>\n      <td>Fight Club</td>\n      <td>1999</td>\n      <td>A</td>\n      <td>139 min</td>\n      <td>Drama</td>\n      <td>8.8</td>\n      <td>An insomniac office worker and a devil-may-car...</td>\n      <td>66.0</td>\n      <td>David Fincher</td>\n      <td>Brad Pitt</td>\n      <td>Edward Norton</td>\n      <td>Meat Loaf</td>\n      <td>Zach Grenier</td>\n      <td>1854740</td>\n      <td>37030102.0</td>\n    </tr>\n  </tbody>\n</table>\n</div>"
     },
     "metadata": {}
    }
   ],
   "execution_count": 22
  },
  {
   "cell_type": "code",
   "source": "top_10_2.plot.bar(x=\"Series_Title\",y=\"Gross\",color=[\"royalblue\",\"gold\"]); #creating a bar graph of top_10_2 dataframe",
   "metadata": {
    "cell_id": "769f7fe5942648708609be7cba7f4f7e",
    "tags": [],
    "deepnote_to_be_reexecuted": false,
    "source_hash": "31c8635d",
    "execution_start": 1651338980971,
    "execution_millis": 310,
    "deepnote_cell_type": "code",
    "deepnote_cell_height": 588,
    "deepnote_output_heights": [
     491,
     491
    ]
   },
   "outputs": [
    {
     "data": {
      "text/plain": "<Figure size 432x288 with 1 Axes>",
      "image/png": "[encoded data removed]"
     },
     "metadata": {
      "needs_background": "light",
      "image/png": {
       "width": 362,
       "height": 489
      }
     },
     "output_type": "display_data"
    }
   ],
   "execution_count": 26
  },
  {
   "cell_type": "code",
   "source": "top_10_2.plot.bar(x=\"Series_Title\",y=\"IMDB_Rating\",color=[\"red\",\"green\"]);",
   "metadata": {
    "cell_id": "cbdaa0e113e3444d82e2e750c8e34573",
    "tags": [],
    "owner_user_id": "03eca6f9-c91a-48c5-a73b-ad9376781221",
    "deepnote_to_be_reexecuted": false,
    "source_hash": "f6f0a981",
    "execution_start": 1651339087499,
    "execution_millis": 197,
    "deepnote_cell_type": "code",
    "deepnote_cell_height": 66
   },
   "outputs": [
    {
     "data": {
      "text/plain": "<Figure size 432x288 with 1 Axes>",
      "image/png": "[encoded data removed]"
     },
     "metadata": {
      "needs_background": "light",
      "image/png": {
       "width": 362,
       "height": 478
      }
     },
     "output_type": "display_data"
    }
   ],
   "execution_count": 27
  },
  {
   "cell_type": "markdown",
   "source": "<a style='text-decoration:none;line-height:16px;display:flex;color:#5B5B62;padding:10px;justify-content:end;' href='https://deepnote.com?utm_source=created-in-deepnote-cell&projectId=aba3dc8a-89fb-41ad-b6a7-d62e32fd48a0' target=\"_blank\">\n<img alt='Created in deepnote.com' style='display:inline;max-height:16px;margin:0px;margin-right:7.5px;' src='data:image/svg+xml;base64,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' > </img>\nCreated in <span style='font-weight:600;margin-left:4px;'>Deepnote</span></a>",
   "metadata": {
    "tags": [],
    "created_in_deepnote_cell": true,
    "deepnote_cell_type": "markdown"
   }
  }
 ],
 "nbformat": 4,
 "nbformat_minor": 2,
 "metadata": {
  "orig_nbformat": 2,
  "deepnote": {
   "is_reactive": false
  },
  "deepnote_notebook_id": "57ff7caf-036a-4092-831a-d93477caf3bf",
  "deepnote_execution_queue": []
 }
}